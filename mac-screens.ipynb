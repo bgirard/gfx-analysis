{
 "cells": [
  {
   "cell_type": "code",
   "execution_count": 1,
   "metadata": {
    "collapsed": false
   },
   "outputs": [
    {
     "name": "stdout",
     "output_type": "stream",
     "text": [
      "Unable to parse whitelist (/home/hadoop/anaconda2/lib/python2.7/site-packages/moztelemetry/histogram-whitelists.json). Assuming all histograms are acceptable.\n",
      "Populating the interactive namespace from numpy and matplotlib\n"
     ]
    }
   ],
   "source": [
    "import ujson as json\n",
    "import matplotlib.pyplot as plt\n",
    "import pandas as pd\n",
    "import numpy as np\n",
    "import plotly.plotly as py\n",
    "import datetime\n",
    "from __future__ import division\n",
    "\n",
    "from moztelemetry import get_pings, get_pings_properties, get_one_ping_per_client\n",
    "\n",
    "%pylab inline"
   ]
  },
  {
   "cell_type": "code",
   "execution_count": 36,
   "metadata": {
    "collapsed": true
   },
   "outputs": [],
   "source": [
    "# We grab pings starting from 2 days ago until [TimeWindow] days ago.\n",
    "TimeWindow = 7\n",
    "\n",
    "# Additional filters.\n",
    "Filters = {\n",
    "    'app': 'Firefox',\n",
    "    \n",
    "    # We sample 0.5% of pings. For testing, it is beter to use a small number\n",
    "    # here (like 0.001) to speed up processing time.\n",
    "    'fraction': 1,\n",
    "    \n",
    "    # Optionally restrict pings to a single channel.\n",
    "     'channel': 'release',\n",
    "}\n",
    "\n",
    "# In case you need them!\n",
    "VendorIDs = {\n",
    "    'Intel': '0x8086',\n",
    "    'NVIDIA': '0x10de',\n",
    "    'AMD': '0x1002',\n",
    "    'ATI': '0x1002'\n",
    "}"
   ]
  },
  {
   "cell_type": "code",
   "execution_count": 37,
   "metadata": {
    "collapsed": false
   },
   "outputs": [],
   "source": [
    "###############################\n",
    "# This section gathers pings. #\n",
    "###############################\n",
    "\n",
    "def run_get_pings():\n",
    "    def fmt_date(d):\n",
    "        return d.strftime(\"%Y%m%d\")\n",
    "    t1 = fmt_date(datetime.datetime.now() - datetime.timedelta(TimeWindow + 2)) # go back 16 days\n",
    "    t2 = fmt_date(datetime.datetime.now() - datetime.timedelta(2)) # go back 2 days\n",
    "    return get_pings(sc, build_id=(t1, t2), **Filters)\n",
    "\n",
    "# Get pings for the parameters in the previous step.\n",
    "raw_pings = run_get_pings()"
   ]
  },
  {
   "cell_type": "code",
   "execution_count": 38,
   "metadata": {
    "collapsed": false
   },
   "outputs": [],
   "source": [
    "######################################################################\n",
    "# This section takes the raw ping list, then formats and filters it. #\n",
    "######################################################################\n",
    "\n",
    "# Map the pings into a more readable dictionary-like form. To see\n",
    "# what these look like, execute \"pings.take(1)\".\n",
    "unique_pings = get_pings_properties(raw_pings, [\n",
    "  \"clientId\",\n",
    "  \"environment/build/version\",\n",
    "  \"environment/system/os/name\",\n",
    "  \"environment/system/os/version\",\n",
    "  \"environment/system/gfx/adapters\",\n",
    "  \"environment/system/gfx/monitors\",\n",
    "])\n",
    "unique_pings = get_one_ping_per_client(unique_pings)"
   ]
  },
  {
   "cell_type": "code",
   "execution_count": 39,
   "metadata": {
    "collapsed": false
   },
   "outputs": [
    {
     "data": {
      "text/plain": [
       "[{'clientId': u'1e9d72d0-8271-4cbc-8c7a-44b5b98562fd',\n",
       "  'environment/build/version': u'47.0',\n",
       "  'environment/system/gfx/adapters': [{u'GPUActive': True,\n",
       "    u'RAM': 384,\n",
       "    u'description': u'ATI Radeon HD 4200',\n",
       "    u'deviceID': u'0x9710',\n",
       "    u'driver': u'aticfx64 aticfx64 aticfx32 aticfx32 atiumd64 atidxx64 atiumdag atidxx32 atiumdva atiumd6a atitmm64',\n",
       "    u'driverDate': u'4-29-2013',\n",
       "    u'driverVersion': u'8.970.100.1100',\n",
       "    u'subsysID': u'3047103c',\n",
       "    u'vendorID': u'0x1002'}],\n",
       "  'environment/system/gfx/monitors': [{u'pseudoDisplay': False,\n",
       "    u'refreshRate': 60,\n",
       "    u'screenHeight': 720,\n",
       "    u'screenWidth': 1280}],\n",
       "  'environment/system/os/name': u'Windows_NT',\n",
       "  'environment/system/os/version': u'6.1'}]"
      ]
     },
     "execution_count": 39,
     "metadata": {},
     "output_type": "execute_result"
    }
   ],
   "source": [
    "unique_pings.take(1)"
   ]
  },
  {
   "cell_type": "code",
   "execution_count": 40,
   "metadata": {
    "collapsed": false
   },
   "outputs": [],
   "source": [
    "# We add two extra steps. The first rewrites the ping to have some\n",
    "# information more easily accessible (like the primary adapter),\n",
    "# and the second step removes any pings that don't have adapter\n",
    "# information.\n",
    "def rewrite_ping(p):\n",
    "    adapters = p.get('environment/system/gfx/adapters', None)\n",
    "    if not adapters:\n",
    "        return None\n",
    "    adapter = adapters[0]\n",
    "            \n",
    "    p['adapter'] = adapter\n",
    "\n",
    "            \n",
    "    # Convert the version to a tuple of integers.\n",
    "    if 'driverVersion' in adapter:\n",
    "        p['driverVersion'] = [int(n) for n in adapter['driverVersion'].split('.') if n.isdigit()]\n",
    "    return p\n",
    "\n",
    "\n",
    "pings = unique_pings#.map(rewrite_ping)\n",
    "pings = pings.cache()\n",
    "\n",
    "#pings = pings.cache()"
   ]
  },
  {
   "cell_type": "code",
   "execution_count": 41,
   "metadata": {
    "collapsed": false
   },
   "outputs": [
    {
     "data": {
      "text/plain": [
       "[{'clientId': u'1e9d72d0-8271-4cbc-8c7a-44b5b98562fd',\n",
       "  'environment/build/version': u'47.0',\n",
       "  'environment/system/gfx/adapters': [{u'GPUActive': True,\n",
       "    u'RAM': 384,\n",
       "    u'description': u'ATI Radeon HD 4200',\n",
       "    u'deviceID': u'0x9710',\n",
       "    u'driver': u'aticfx64 aticfx64 aticfx32 aticfx32 atiumd64 atidxx64 atiumdag atidxx32 atiumdva atiumd6a atitmm64',\n",
       "    u'driverDate': u'4-29-2013',\n",
       "    u'driverVersion': u'8.970.100.1100',\n",
       "    u'subsysID': u'3047103c',\n",
       "    u'vendorID': u'0x1002'}],\n",
       "  'environment/system/gfx/monitors': [{u'pseudoDisplay': False,\n",
       "    u'refreshRate': 60,\n",
       "    u'screenHeight': 720,\n",
       "    u'screenWidth': 1280}],\n",
       "  'environment/system/os/name': u'Windows_NT',\n",
       "  'environment/system/os/version': u'6.1'}]"
      ]
     },
     "execution_count": 41,
     "metadata": {},
     "output_type": "execute_result"
    }
   ],
   "source": [
    "# Observe the format of a random ping. This may take some time since it has to\n",
    "# execute the pipeline.\n",
    "#pings.take(1)\n",
    "#pings.take(1)\n",
    "#new_pings = pings.map(rewrite_ping).filter(filter_ping)\n",
    "pings.take(1)"
   ]
  },
  {
   "cell_type": "code",
   "execution_count": 42,
   "metadata": {
    "collapsed": false
   },
   "outputs": [
    {
     "name": "stdout",
     "output_type": "stream",
     "text": [
      "Number of sessions: 191515\n"
     ]
    }
   ],
   "source": [
    "# Count the total number of sessions in the dataset.\n",
    "TotalSessions = pings.count()\n",
    "print('Number of sessions: {0}'.format(TotalSessions))"
   ]
  },
  {
   "cell_type": "code",
   "execution_count": 43,
   "metadata": {
    "collapsed": false
   },
   "outputs": [],
   "source": [
    "import json\n",
    "import urllib2\n",
    "\n",
    "gpu_db = json.load(urllib2.urlopen('https://raw.githubusercontent.com/jrmuizel/gpu-db/master/intel.json'))\n",
    "devices = {}\n",
    "for gen in gpu_db['8086'].items():\n",
    "    for chipset in gen[1].items():\n",
    "        for dev in chipset[1]:\n",
    "            #print dev, gen[0]\n",
    "            devices[int(dev,16)] = gen[0]"
   ]
  },
  {
   "cell_type": "code",
   "execution_count": 44,
   "metadata": {
    "collapsed": false
   },
   "outputs": [
    {
     "data": {
      "text/plain": [
       "[{'clientId': u'fdbec568-e91b-2348-bc1c-732ea66bd7d7',\n",
       "  'environment/build/version': u'47.0',\n",
       "  'environment/system/gfx/adapters': [{u'GPUActive': True,\n",
       "    u'deviceID': u'0x0166',\n",
       "    u'vendorID': u'0x8086'}],\n",
       "  'environment/system/gfx/monitors': [{u'scale': 1,\n",
       "    u'screenHeight': 800,\n",
       "    u'screenWidth': 1280}],\n",
       "  'environment/system/os/name': u'Darwin',\n",
       "  'environment/system/os/version': u'13.4.0'}]"
      ]
     },
     "execution_count": 44,
     "metadata": {},
     "output_type": "execute_result"
    }
   ],
   "source": [
    "# Sample filter #1 - how many people are using Intel devices\n",
    "# with a driver less than 8.15.10.2622? (bug 1175366).\n",
    "def sample_filter_1(p):\n",
    "    if p['environment/system/os/name'] != \"Darwin\":\n",
    "        return False\n",
    "    return True\n",
    "\n",
    "interesting_pings = pings.filter(sample_filter_1)\n",
    "interesting_pings.take(1)\n"
   ]
  },
  {
   "cell_type": "code",
   "execution_count": 45,
   "metadata": {
    "collapsed": false
   },
   "outputs": [
    {
     "name": "stdout",
     "output_type": "stream",
     "text": [
      "383 out of 11569 sessions matched. (3.31%)\n"
     ]
    }
   ],
   "source": [
    "monitors = interesting_pings.map(lambda p: (len(p['environment/system/gfx/monitors']),))\n",
    "monitors.countByKey()\n",
    "\n",
    "dual_pings = interesting_pings.filter(lambda p: len(p['environment/system/gfx/monitors']) > 1 )\n",
    "dual_pings.take(3)\n",
    "\n",
    "scales = interesting_pings.map(lambda p: (len(set([o['scale'] for o in p['environment/system/gfx/monitors']])),))\n",
    "multiple_scales = interesting_pings.count() -  scales.countByKey()[1]\n",
    "print('{0} out of {1} sessions matched. ({2:.2f}%)'.format(\n",
    "        multiple_scales,\n",
    "        interesting_pings.count(),\n",
    "       ((multiple_scales / interesting_pings.count()) * 100)))\n",
    "\n"
   ]
  },
  {
   "cell_type": "code",
   "execution_count": 102,
   "metadata": {
    "collapsed": false
   },
   "outputs": [
    {
     "name": "stdout",
     "output_type": "stream",
     "text": [
      "4007 out of 17274 sessions matched. (23.20%)\n",
      "103 out of 4007 sessions matched. (2.57%)\n",
      "13 out of 103 sessions matched. (12.62%)\n",
      "90 out of 103 sessions matched. (87.38%)\n",
      "21 out of 103 sessions matched. (20.39%)\n"
     ]
    },
    {
     "data": {
      "text/plain": [
       "defaultdict(int,\n",
       "            {u'6.1.7600.16385': 3,\n",
       "             u'8.33.0.0': 1,\n",
       "             u'8.420.0.0': 1,\n",
       "             u'8.471.0.0': 1,\n",
       "             u'8.479.0.0': 1,\n",
       "             u'8.522.0.0': 1,\n",
       "             u'8.56.1.15': 3,\n",
       "             u'8.56.1.16': 5,\n",
       "             u'8.593.100.0': 5})"
      ]
     },
     "execution_count": 102,
     "metadata": {},
     "output_type": "execute_result"
    }
   ],
   "source": [
    "\n",
    "\n",
    "\n",
    "\n",
    "def webgl_fail(p):\n",
    "    if p['payload/histograms/CANVAS_WEBGL_SUCCESS'][0] > 0:\n",
    "        return True\n",
    "\n",
    "     #   return True\n",
    "    return False\n",
    "fail_pings = interesting_pings.filter(webgl_fail)\n",
    "\n",
    "def vga_fail(p):\n",
    "    if 'vga' in p['adapter']['driver']:\n",
    "        return True\n",
    "\n",
    "\n",
    "     #   return True\n",
    "    return False\n",
    "vga_pings = fail_pings.filter(vga_fail)\n",
    "\n",
    "def not_vga_fail(p):\n",
    "    if 'vga' in p['adapter']['driver']:\n",
    "        return False\n",
    "     #   return True\n",
    "    return True\n",
    "not_vga_pings = fail_pings.filter(not_vga_fail)\n",
    "\n",
    "\n",
    "amd1_pings = fail_pings.filter(lambda p: p['features']['webgl']['failureId'] == 'FEATURE_FAILURE_AMD1')\n",
    "\n",
    "\n",
    "\n",
    "#TDRResults = sample_result_1.map(lambda p: p[DeviceResetReasonKey]).reduce(lambda x, y: x + y)\n",
    "#help(pd.Series(TDRResults.values, DeviceResetReason))\n",
    "#print(pd.Series(TDRResults.values[1:8],DeviceResetReason))\n",
    "#pd.Series(TDRResults.values[1:8],DeviceResetReason).plot.bar()\n",
    "#reduce(lambda x, y: sample_result_1.take(2))\n",
    "#sample_result_1.take(1)[0]['payload/histograms/DEVICE_RESET_REASON'])\n",
    "#fail_pings.take(1)\n",
    "def match_count(a, b):\n",
    "    print('{0} out of {1} sessions matched. ({2:.2f}%)'.format(\n",
    "        a.count(),\n",
    "        b.count(),\n",
    "       ((a.count() / b.count()) * 100)))\n",
    "\n",
    "\n",
    "\n",
    "def map_x_to_count(data, sourceKey):\n",
    "    def extract(p):\n",
    "        return (p['adapter'][sourceKey],)\n",
    "    return data.map(extract).countByKey()    \n",
    "match_count(interesting_pings, pings)    \n",
    "match_count(fail_pings, interesting_pings)\n",
    "match_count(vga_pings, fail_pings)\n",
    "match_count(not_vga_pings, fail_pings)\n",
    "match_count(amd1_pings, fail_pings)\n",
    "#map_x_to_count(not_vga_pings, 'driverVersion')\n",
    "#not_vga_pings.take(5)\n",
    "\n",
    "#fail_pings.map(lambda p: (p['features']['webgl']['failureId'],)).countByKey()\n",
    "#amd1_pings.take(23)\n",
    "amd1_pings.map(lambda p: (p['adapter']['driverVersion'],)).countByKey()"
   ]
  },
  {
   "cell_type": "code",
   "execution_count": null,
   "metadata": {
    "collapsed": true
   },
   "outputs": [],
   "source": []
  },
  {
   "cell_type": "code",
   "execution_count": null,
   "metadata": {
    "collapsed": true
   },
   "outputs": [],
   "source": []
  },
  {
   "cell_type": "code",
   "execution_count": null,
   "metadata": {
    "collapsed": true
   },
   "outputs": [],
   "source": []
  },
  {
   "cell_type": "code",
   "execution_count": null,
   "metadata": {
    "collapsed": true
   },
   "outputs": [],
   "source": []
  }
 ],
 "metadata": {
  "kernelspec": {
   "display_name": "Python 2",
   "language": "python",
   "name": "python2"
  },
  "language_info": {
   "codemirror_mode": {
    "name": "ipython",
    "version": 2
   },
   "file_extension": ".py",
   "mimetype": "text/x-python",
   "name": "python",
   "nbconvert_exporter": "python",
   "pygments_lexer": "ipython2",
   "version": "2.7.11"
  }
 },
 "nbformat": 4,
 "nbformat_minor": 0
}
