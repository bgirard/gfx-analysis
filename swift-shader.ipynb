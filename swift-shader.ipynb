{
 "cells": [
  {
   "cell_type": "code",
   "execution_count": 1,
   "metadata": {
    "collapsed": false
   },
   "outputs": [
    {
     "name": "stdout",
     "output_type": "stream",
     "text": [
      "Unable to parse whitelist (/home/hadoop/anaconda2/lib/python2.7/site-packages/moztelemetry/histogram-whitelists.json). Assuming all histograms are acceptable.\n",
      "Populating the interactive namespace from numpy and matplotlib\n"
     ]
    }
   ],
   "source": [
    "import ujson as json\n",
    "import matplotlib.pyplot as plt\n",
    "import pandas as pd\n",
    "import numpy as np\n",
    "import plotly.plotly as py\n",
    "import datetime\n",
    "from __future__ import division\n",
    "\n",
    "from moztelemetry import get_pings, get_pings_properties, get_one_ping_per_client\n",
    "\n",
    "%pylab inline"
   ]
  },
  {
   "cell_type": "code",
   "execution_count": 2,
   "metadata": {
    "collapsed": true
   },
   "outputs": [],
   "source": [
    "# We grab pings starting from 2 days ago until [TimeWindow] days ago.\n",
    "TimeWindow = 14\n",
    "\n",
    "# Additional filters.\n",
    "Filters = {\n",
    "    'app': 'Firefox',\n",
    "    \n",
    "    # We sample 0.5% of pings. For testing, it is beter to use a small number\n",
    "    # here (like 0.001) to speed up processing time.\n",
    "    'fraction': 0.005,\n",
    "    \n",
    "    # Optionally restrict pings to a single channel.\n",
    "    # 'channel': 'beta',\n",
    "}\n",
    "\n",
    "# In case you need them!\n",
    "VendorIDs = {\n",
    "    'Intel': '0x8086',\n",
    "    'NVIDIA': '0x10de',\n",
    "    'AMD': '0x1002',\n",
    "    'ATI': '0x1002'\n",
    "}"
   ]
  },
  {
   "cell_type": "code",
   "execution_count": 3,
   "metadata": {
    "collapsed": false
   },
   "outputs": [],
   "source": [
    "###############################\n",
    "# This section gathers pings. #\n",
    "###############################\n",
    "\n",
    "def run_get_pings():\n",
    "    def fmt_date(d):\n",
    "        return d.strftime(\"%Y%m%d\")\n",
    "    t1 = fmt_date(datetime.datetime.now() - datetime.timedelta(TimeWindow + 2)) # go back 16 days\n",
    "    t2 = fmt_date(datetime.datetime.now() - datetime.timedelta(2)) # go back 2 days\n",
    "    return get_pings(sc, build_id=(t1, t2), **Filters)\n",
    "\n",
    "# Get pings for the parameters in the previous step.\n",
    "raw_pings = run_get_pings()"
   ]
  },
  {
   "cell_type": "code",
   "execution_count": 4,
   "metadata": {
    "collapsed": false
   },
   "outputs": [],
   "source": [
    "######################################################################\n",
    "# This section takes the raw ping list, then formats and filters it. #\n",
    "######################################################################\n",
    "\n",
    "# Map the pings into a more readable dictionary-like form. To see\n",
    "# what these look like, execute \"pings.take(1)\".\n",
    "unique_pings = get_pings_properties(raw_pings, [\n",
    "  \"clientId\",\n",
    "  \"environment/build/version\",\n",
    "  \"environment/system/os/name\",\n",
    "  \"environment/system/os/version\",\n",
    "  \"environment/system/os/servicePackMajor\",\n",
    "  \"environment/system/os/servicePackMinor\",\n",
    "  \"environment/system/gfx/adapters\",\n",
    "  \"environment/system/cpu\",\n",
    "  \"payload/histograms/CANVAS_WEBGL_SUCCESS\"\n",
    "])\n",
    "unique_pings = get_one_ping_per_client(unique_pings)"
   ]
  },
  {
   "cell_type": "code",
   "execution_count": 5,
   "metadata": {
    "collapsed": false
   },
   "outputs": [],
   "source": [
    "# We add two extra steps. The first rewrites the ping to have some\n",
    "# information more easily accessible (like the primary adapter),\n",
    "# and the second step removes any pings that don't have adapter\n",
    "# information.\n",
    "def rewrite_ping(p):\n",
    "    adapters = p.get('environment/system/gfx/adapters', None)\n",
    "    if not adapters:\n",
    "        return None\n",
    "    adapter = adapters[0]\n",
    "            \n",
    "    p['adapter'] = adapter\n",
    "            \n",
    "    # Convert the version to a tuple of integers.\n",
    "    if 'driverVersion' in adapter:\n",
    "        p['driverVersion'] = [int(n) for n in adapter['driverVersion'].split('.') if n.isdigit()]\n",
    "    return p\n",
    "\n",
    "def filter_ping(p):\n",
    "    return 'adapter' in p\n",
    "pings = unique_pings.map(rewrite_ping).filter(filter_ping)\n",
    "pings = pings.cache()\n",
    "\n",
    "#pings = pings.cache()"
   ]
  },
  {
   "cell_type": "code",
   "execution_count": 6,
   "metadata": {
    "collapsed": false
   },
   "outputs": [
    {
     "data": {
      "text/plain": [
       "[{'adapter': {u'GPUActive': True,\n",
       "   u'description': u'Intel(R) HD Graphics 3000',\n",
       "   u'deviceID': u'0x0116',\n",
       "   u'driver': u'igdumd32 igd10umd32 igd10umd32',\n",
       "   u'driverDate': u'5-27-2015',\n",
       "   u'driverVersion': u'9.17.10.4229',\n",
       "   u'subsysID': u'04b01028',\n",
       "   u'vendorID': u'0x8086'},\n",
       "  'clientId': u'6fedc967-eb24-4146-9c50-bd723807d64d',\n",
       "  'driverVersion': [9, 17, 10, 4229],\n",
       "  'environment/build/version': u'48.0',\n",
       "  'environment/system/cpu': {u'cores': 2,\n",
       "   u'count': 4,\n",
       "   u'extensions': [u'hasMMX',\n",
       "    u'hasSSE',\n",
       "    u'hasSSE2',\n",
       "    u'hasSSE3',\n",
       "    u'hasSSSE3',\n",
       "    u'hasSSE4_1',\n",
       "    u'hasSSE4_2'],\n",
       "   u'family': 6,\n",
       "   u'l2cacheKB': 256,\n",
       "   u'l3cacheKB': 3072,\n",
       "   u'model': 42,\n",
       "   u'speedMHz': 2095,\n",
       "   u'stepping': 7,\n",
       "   u'vendor': u'GenuineIntel'},\n",
       "  'environment/system/gfx/adapters': [{u'GPUActive': True,\n",
       "    u'description': u'Intel(R) HD Graphics 3000',\n",
       "    u'deviceID': u'0x0116',\n",
       "    u'driver': u'igdumd32 igd10umd32 igd10umd32',\n",
       "    u'driverDate': u'5-27-2015',\n",
       "    u'driverVersion': u'9.17.10.4229',\n",
       "    u'subsysID': u'04b01028',\n",
       "    u'vendorID': u'0x8086'}],\n",
       "  'environment/system/os/name': u'Windows_NT',\n",
       "  'environment/system/os/servicePackMajor': 0,\n",
       "  'environment/system/os/servicePackMinor': 0,\n",
       "  'environment/system/os/version': u'10.0',\n",
       "  'payload/histograms/CANVAS_WEBGL_SUCCESS': None}]"
      ]
     },
     "execution_count": 6,
     "metadata": {},
     "output_type": "execute_result"
    }
   ],
   "source": [
    "# Observe the format of a random ping. This may take some time since it has to\n",
    "# execute the pipeline.\n",
    "#pings.take(1)\n",
    "#pings.take(1)\n",
    "#new_pings = pings.map(rewrite_ping).filter(filter_ping)\n",
    "pings.take(1)"
   ]
  },
  {
   "cell_type": "code",
   "execution_count": 7,
   "metadata": {
    "collapsed": false
   },
   "outputs": [
    {
     "name": "stdout",
     "output_type": "stream",
     "text": [
      "Number of sessions: 115249\n"
     ]
    }
   ],
   "source": [
    "# Count the total number of sessions in the dataset.\n",
    "TotalSessions = pings.count()\n",
    "print('Number of sessions: {0}'.format(TotalSessions))"
   ]
  },
  {
   "cell_type": "code",
   "execution_count": 8,
   "metadata": {
    "collapsed": false
   },
   "outputs": [],
   "source": [
    "import json\n",
    "import urllib2\n",
    "\n",
    "gpu_db = json.load(urllib2.urlopen('https://raw.githubusercontent.com/jrmuizel/gpu-db/master/intel.json'))\n",
    "devices = {}\n",
    "for gen in gpu_db['8086'].items():\n",
    "    for chipset in gen[1].items():\n",
    "        for dev in chipset[1]:\n",
    "            #print dev, gen[0]\n",
    "            devices[int(dev,16)] = gen[0]"
   ]
  },
  {
   "cell_type": "code",
   "execution_count": 9,
   "metadata": {
    "collapsed": true
   },
   "outputs": [],
   "source": [
    "def match_count(a, b):\n",
    "    print('{0} out of {1} sessions matched. ({2:.2f}%)'.format(\n",
    "        a.count(),\n",
    "        b.count(),\n",
    "       ((a.count() / b.count()) * 100)))"
   ]
  },
  {
   "cell_type": "code",
   "execution_count": 11,
   "metadata": {
    "collapsed": false
   },
   "outputs": [
    {
     "name": "stdout",
     "output_type": "stream",
     "text": [
      "997 out of 1608 sessions matched. (62.00%)\n",
      "997 out of 2088 sessions matched. (47.75%)\n"
     ]
    }
   ],
   "source": [
    "# Sample filter #1 - how many people are using Intel devices\n",
    "# with a driver less than 8.15.10.2622? (bug 1175366).\n",
    "def sample_filter_1(p):\n",
    "    if not 'vendorID' in p['adapter']:\n",
    "        return False\n",
    "    if not 'driver' in p['adapter']:\n",
    "        return False\n",
    "\n",
    "    if p['payload/histograms/CANVAS_WEBGL_SUCCESS'] is None:\n",
    "        return False\n",
    "\n",
    "    return True\n",
    "\n",
    "interesting_pings = pings.filter(sample_filter_1)\n",
    "\n",
    "fail_pings = interesting_pings.filter(lambda p: p['payload/histograms/CANVAS_WEBGL_SUCCESS'][0] > 0)\n",
    "xp_pings = interesting_pings.filter(lambda p: float(p['environment/system/os/version']) == 5.1)\n",
    "xp_fail_pings = xp_pings.filter(lambda p: p['payload/histograms/CANVAS_WEBGL_SUCCESS'][0] > 0)\n",
    "match_count(xp_fail_pings, xp_pings)\n",
    "match_count(xp_fail_pings, fail_pings)"
   ]
  },
  {
   "cell_type": "code",
   "execution_count": 15,
   "metadata": {
    "collapsed": false
   },
   "outputs": [
    {
     "name": "stdout",
     "output_type": "stream",
     "text": [
      "990 out of 997 sessions matched. (99.30%)\n",
      "579 out of 997 sessions matched. (58.07%)\n",
      "127 out of 997 sessions matched. (12.74%)\n"
     ]
    }
   ],
   "source": [
    "ssse3_pings = xp_fail_pings.filter(lambda p: 'hasSSSE3' in p['environment/system/cpu']['extensions'])\n",
    "sse2_pings = xp_fail_pings.filter(lambda p: 'hasSSE2' in p['environment/system/cpu']['extensions'])\n",
    "sse41_pings = xp_fail_pings.filter(lambda p: 'hasSSE4_1' in p['environment/system/cpu']['extensions'])\n",
    "\n",
    "match_count(sse2_pings, xp_fail_pings)\n",
    "match_count(ssse3_pings, xp_fail_pings)\n",
    "match_count(sse41_pings, xp_fail_pings)\n",
    "\n"
   ]
  },
  {
   "cell_type": "code",
   "execution_count": 32,
   "metadata": {
    "collapsed": false
   },
   "outputs": [
    {
     "name": "stdout",
     "output_type": "stream",
     "text": [
      "[(1, '35.41%'), (2, '63.09%'), (3, '0.20%'), (4, '1.30%')]\n",
      "[(1, '22.47%'), (2, '75.43%'), (3, '0.20%'), (4, '1.91%')]\n"
     ]
    }
   ],
   "source": [
    "cores = xp_fail_pings.map(lambda p: p['environment/system/cpu']['cores'])\n",
    "count = xp_fail_pings.map(lambda p: p['environment/system/cpu']['count'])\n",
    "\n",
    "#[(k[0], 100*k[1]/cores.count()) for k in cores.countByValue().iteritems()]\n",
    "\n",
    "def percentByValue(c):\n",
    "    return [(k[0], '{0:.2f}%'.format(100*k[1]/c.count())) for k in c.countByValue().iteritems()]\n",
    "print percentByValue(cores)\n",
    "print percentByValue(count)"
   ]
  },
  {
   "cell_type": "code",
   "execution_count": null,
   "metadata": {
    "collapsed": true
   },
   "outputs": [],
   "source": [
    "\n",
    "\n",
    "def webgl_fail(p):\n",
    "    if p['payload/histograms/CANVAS_WEBGL_SUCCESS'][0] > 0:\n",
    "        return True\n",
    "\n",
    "     #   return True\n",
    "    return False\n",
    "fail_pings = interesting_pings.filter(webgl_fail)\n",
    "\n",
    "def vga_fail(p):\n",
    "    if 'vga' in p['adapter']['driver']:\n",
    "        return True\n",
    "\n",
    "\n",
    "     #   return True\n",
    "    return False\n",
    "vga_pings = fail_pings.filter(vga_fail)\n",
    "\n",
    "def not_vga_fail(p):\n",
    "    if 'vga' in p['adapter']['driver']:\n",
    "        return False\n",
    "     #   return True\n",
    "    return True\n",
    "not_vga_pings = fail_pings.filter(not_vga_fail)\n",
    "\n",
    "\n",
    "#TDRResults = sample_result_1.map(lambda p: p[DeviceResetReasonKey]).reduce(lambda x, y: x + y)\n",
    "#help(pd.Series(TDRResults.values, DeviceResetReason))\n",
    "#print(pd.Series(TDRResults.values[1:8],DeviceResetReason))\n",
    "#pd.Series(TDRResults.values[1:8],DeviceResetReason).plot.bar()\n",
    "#reduce(lambda x, y: sample_result_1.take(2))\n",
    "#sample_result_1.take(1)[0]['payload/histograms/DEVICE_RESET_REASON'])\n",
    "#fail_pings.take(1)\n",
    "\n",
    "\n",
    "\n",
    "\n",
    "def map_x_to_count(data, sourceKey):\n",
    "    def extract(p):\n",
    "        return (p['adapter'][sourceKey],)\n",
    "    return data.map(extract).countByKey()    \n",
    "match_count(interesting_pings, pings)    \n",
    "match_count(fail_pings, interesting_pings)\n",
    "match_count(vga_pings, fail_pings)\n",
    "map_x_to_count(not_vga_pings, 'driverVersion')\n",
    "#not_vga_pings.take(5)"
   ]
  },
  {
   "cell_type": "code",
   "execution_count": null,
   "metadata": {
    "collapsed": true
   },
   "outputs": [],
   "source": []
  },
  {
   "cell_type": "code",
   "execution_count": null,
   "metadata": {
    "collapsed": true
   },
   "outputs": [],
   "source": []
  }
 ],
 "metadata": {
  "kernelspec": {
   "display_name": "Python 2",
   "language": "python",
   "name": "python2"
  },
  "language_info": {
   "codemirror_mode": {
    "name": "ipython",
    "version": 2
   },
   "file_extension": ".py",
   "mimetype": "text/x-python",
   "name": "python",
   "nbconvert_exporter": "python",
   "pygments_lexer": "ipython2",
   "version": "2.7.11"
  }
 },
 "nbformat": 4,
 "nbformat_minor": 0
}
