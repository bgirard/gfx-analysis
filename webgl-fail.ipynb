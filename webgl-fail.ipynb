{
 "cells": [
  {
   "cell_type": "code",
   "execution_count": 1,
   "metadata": {
    "collapsed": false
   },
   "outputs": [
    {
     "name": "stdout",
     "output_type": "stream",
     "text": [
      "Unable to parse whitelist (/home/hadoop/anaconda2/lib/python2.7/site-packages/moztelemetry/bucket-whitelist.json). Assuming all histograms are acceptable.\n",
      "Populating the interactive namespace from numpy and matplotlib\n"
     ]
    }
   ],
   "source": [
    "import ujson as json\n",
    "import matplotlib.pyplot as plt\n",
    "import pandas as pd\n",
    "import numpy as np\n",
    "import plotly.plotly as py\n",
    "import datetime\n",
    "from __future__ import division\n",
    "\n",
    "from moztelemetry import get_pings, get_pings_properties, get_one_ping_per_client\n",
    "\n",
    "%pylab inline"
   ]
  },
  {
   "cell_type": "code",
   "execution_count": 21,
   "metadata": {
    "collapsed": true
   },
   "outputs": [],
   "source": [
    "# We grab pings starting from 2 days ago until [TimeWindow] days ago.\n",
    "TimeWindow = 14\n",
    "\n",
    "# Additional filters.\n",
    "Filters = {\n",
    "    'app': 'Firefox',\n",
    "    \n",
    "    # We sample 0.5% of pings. For testing, it is beter to use a small number\n",
    "    # here (like 0.001) to speed up processing time.\n",
    "    'fraction': 0.005,\n",
    "    \n",
    "    # Optionally restrict pings to a single channel.\n",
    "    # 'channel': 'beta',\n",
    "}\n",
    "\n",
    "# In case you need them!\n",
    "VendorIDs = {\n",
    "    'Intel': '0x8086',\n",
    "    'NVIDIA': '0x10de',\n",
    "    'AMD': '0x1002',\n",
    "    'ATI': '0x1002'\n",
    "}"
   ]
  },
  {
   "cell_type": "code",
   "execution_count": 22,
   "metadata": {
    "collapsed": false
   },
   "outputs": [],
   "source": [
    "###############################\n",
    "# This section gathers pings. #\n",
    "###############################\n",
    "\n",
    "def run_get_pings():\n",
    "    def fmt_date(d):\n",
    "        return d.strftime(\"%Y%m%d\")\n",
    "    t1 = fmt_date(datetime.datetime.now() - datetime.timedelta(TimeWindow + 2)) # go back 16 days\n",
    "    t2 = fmt_date(datetime.datetime.now() - datetime.timedelta(2)) # go back 2 days\n",
    "    return get_pings(sc, build_id=(t1, t2), **Filters)\n",
    "\n",
    "# Get pings for the parameters in the previous step.\n",
    "raw_pings = run_get_pings()"
   ]
  },
  {
   "cell_type": "code",
   "execution_count": 23,
   "metadata": {
    "collapsed": false
   },
   "outputs": [],
   "source": [
    "######################################################################\n",
    "# This section takes the raw ping list, then formats and filters it. #\n",
    "######################################################################\n",
    "\n",
    "# Map the pings into a more readable dictionary-like form. To see\n",
    "# what these look like, execute \"pings.take(1)\".\n",
    "unique_pings = get_pings_properties(raw_pings, [\n",
    "  \"clientId\",\n",
    "  \"environment/build/version\",\n",
    "  \"environment/system/os/name\",\n",
    "  \"environment/system/os/version\",\n",
    "  \"environment/system/os/servicePackMajor\",\n",
    "  \"environment/system/os/servicePackMinor\",\n",
    "  \"environment/system/gfx/adapters\",\n",
    "  \"payload/histograms/CANVAS_WEBGL_SUCCESS\"\n",
    "])\n",
    "unique_pings = get_one_ping_per_client(unique_pings)"
   ]
  },
  {
   "cell_type": "code",
   "execution_count": 24,
   "metadata": {
    "collapsed": false
   },
   "outputs": [],
   "source": [
    "# We add two extra steps. The first rewrites the ping to have some\n",
    "# information more easily accessible (like the primary adapter),\n",
    "# and the second step removes any pings that don't have adapter\n",
    "# information.\n",
    "def rewrite_ping(p):\n",
    "    adapters = p.get('environment/system/gfx/adapters', None)\n",
    "    if not adapters:\n",
    "        return None\n",
    "    adapter = adapters[0]\n",
    "            \n",
    "    p['adapter'] = adapter\n",
    "            \n",
    "    # Convert the version to a tuple of integers.\n",
    "    if 'driverVersion' in adapter:\n",
    "        p['driverVersion'] = [int(n) for n in adapter['driverVersion'].split('.') if n.isdigit()]\n",
    "    return p\n",
    "\n",
    "def filter_ping(p):\n",
    "    return 'adapter' in p\n",
    "pings = unique_pings.map(rewrite_ping).filter(filter_ping)\n",
    "pings = pings.cache()\n",
    "\n",
    "#pings = pings.cache()"
   ]
  },
  {
   "cell_type": "code",
   "execution_count": 25,
   "metadata": {
    "collapsed": false
   },
   "outputs": [
    {
     "data": {
      "text/plain": [
       "[{'adapter': {u'GPUActive': True,\n",
       "   u'description': u'Intel(R) G33/G31 Express Chipset Family',\n",
       "   u'deviceID': u'0x29c2',\n",
       "   u'driver': u'igxprd32',\n",
       "   u'driverDate': u'1-13-2010',\n",
       "   u'driverVersion': u'6.14.10.5218',\n",
       "   u'subsysID': u'29c28086',\n",
       "   u'vendorID': u'0x8086'},\n",
       "  'clientId': u'59274342-94fb-416b-abcd-b37ad53114fc',\n",
       "  'driverVersion': [6, 14, 10, 5218],\n",
       "  'environment/build/version': u'46.0',\n",
       "  'environment/system/gfx/adapters': [{u'GPUActive': True,\n",
       "    u'description': u'Intel(R) G33/G31 Express Chipset Family',\n",
       "    u'deviceID': u'0x29c2',\n",
       "    u'driver': u'igxprd32',\n",
       "    u'driverDate': u'1-13-2010',\n",
       "    u'driverVersion': u'6.14.10.5218',\n",
       "    u'subsysID': u'29c28086',\n",
       "    u'vendorID': u'0x8086'}],\n",
       "  'environment/system/os/name': u'Windows_NT',\n",
       "  'environment/system/os/servicePackMajor': 3,\n",
       "  'environment/system/os/servicePackMinor': 0,\n",
       "  'environment/system/os/version': u'5.1',\n",
       "  'payload/histograms/CANVAS_WEBGL_SUCCESS': None}]"
      ]
     },
     "execution_count": 25,
     "metadata": {},
     "output_type": "execute_result"
    }
   ],
   "source": [
    "# Observe the format of a random ping. This may take some time since it has to\n",
    "# execute the pipeline.\n",
    "#pings.take(1)\n",
    "#pings.take(1)\n",
    "#new_pings = pings.map(rewrite_ping).filter(filter_ping)\n",
    "pings.take(1)"
   ]
  },
  {
   "cell_type": "code",
   "execution_count": 26,
   "metadata": {
    "collapsed": false
   },
   "outputs": [
    {
     "name": "stdout",
     "output_type": "stream",
     "text": [
      "Number of sessions: 236783\n"
     ]
    }
   ],
   "source": [
    "# Count the total number of sessions in the dataset.\n",
    "TotalSessions = pings.count()\n",
    "print('Number of sessions: {0}'.format(TotalSessions))"
   ]
  },
  {
   "cell_type": "code",
   "execution_count": 27,
   "metadata": {
    "collapsed": false
   },
   "outputs": [],
   "source": [
    "import json\n",
    "import urllib2\n",
    "\n",
    "gpu_db = json.load(urllib2.urlopen('https://raw.githubusercontent.com/jrmuizel/gpu-db/master/intel.json'))\n",
    "devices = {}\n",
    "for gen in gpu_db['8086'].items():\n",
    "    for chipset in gen[1].items():\n",
    "        for dev in chipset[1]:\n",
    "            #print dev, gen[0]\n",
    "            devices[int(dev,16)] = gen[0]"
   ]
  },
  {
   "cell_type": "code",
   "execution_count": 36,
   "metadata": {
    "collapsed": false
   },
   "outputs": [
    {
     "name": "stdout",
     "output_type": "stream",
     "text": [
      "820 out of 236783 sessions matched. (0.35%)\n",
      "64 out of 820 sessions matched. (7.80%)\n",
      "24 out of 64 sessions matched. (37.50%)\n"
     ]
    },
    {
     "data": {
      "text/plain": [
       "defaultdict(int,\n",
       "            {u'6.14.10.5337': 1,\n",
       "             u'6.14.10.5361': 1,\n",
       "             u'8.15.10.2253': 1,\n",
       "             u'8.15.10.2266': 1,\n",
       "             u'8.15.10.2279': 1,\n",
       "             u'8.15.10.2321': 1,\n",
       "             u'8.15.10.2342': 1,\n",
       "             u'8.15.10.2345': 1,\n",
       "             u'8.15.10.2353': 1,\n",
       "             u'8.15.10.2361': 2,\n",
       "             u'8.15.10.2418': 2,\n",
       "             u'8.15.10.2622': 2,\n",
       "             u'8.802.1.0': 1,\n",
       "             u'8.810.4.3000': 1,\n",
       "             u'8.810.4.5000': 1,\n",
       "             u'8.830.7.0': 1,\n",
       "             u'8.840.7.0': 3,\n",
       "             u'8.840.7.1000': 1,\n",
       "             u'8.840.7.1100': 2,\n",
       "             u'8.840.7.3000': 1,\n",
       "             u'8.840.7.9000': 2,\n",
       "             u'8.861.0.0': 1,\n",
       "             u'8.862.4.0': 1,\n",
       "             u'8.882.2.0': 2,\n",
       "             u'8.882.2.3000': 2,\n",
       "             u'8.901.1.1000': 1,\n",
       "             u'8.930.0.0': 1,\n",
       "             u'8.933.2.0': 1,\n",
       "             u'8.981.0.0': 1,\n",
       "             u'9.0.0.0': 1,\n",
       "             u'9.17.10.3347': 1})"
      ]
     },
     "execution_count": 36,
     "metadata": {},
     "output_type": "execute_result"
    }
   ],
   "source": [
    "# Sample filter #1 - how many people are using Intel devices\n",
    "# with a driver less than 8.15.10.2622? (bug 1175366).\n",
    "def sample_filter_1(p):\n",
    "    if not 'vendorID' in p['adapter']:\n",
    "        return False\n",
    "    if not 'driver' in p['adapter']:\n",
    "        return False\n",
    "    if p['adapter']['vendorID'] != VendorIDs['Intel']:\n",
    "        return False\n",
    "    if p['payload/histograms/CANVAS_WEBGL_SUCCESS'] is None:\n",
    "        return False\n",
    "    if devices[int(p['adapter']['deviceID'],16)] in ('gen6'):\n",
    "        return True\n",
    "\n",
    "    #if devices[int(p['adapter']['deviceID'],16)] in ('gen7'):\n",
    "\n",
    "     #   return True\n",
    "    return False\n",
    "\n",
    "interesting_pings = pings.filter(sample_filter_1)\n",
    "def webgl_fail(p):\n",
    "    if p['payload/histograms/CANVAS_WEBGL_SUCCESS'][0] > 0:\n",
    "        return True\n",
    "\n",
    "     #   return True\n",
    "    return False\n",
    "fail_pings = interesting_pings.filter(webgl_fail)\n",
    "\n",
    "def vga_fail(p):\n",
    "    if 'vga' in p['adapter']['driver']:\n",
    "        return True\n",
    "\n",
    "\n",
    "     #   return True\n",
    "    return False\n",
    "vga_pings = fail_pings.filter(vga_fail)\n",
    "\n",
    "def not_vga_fail(p):\n",
    "    if 'vga' in p['adapter']['driver']:\n",
    "        return False\n",
    "     #   return True\n",
    "    return True\n",
    "not_vga_pings = fail_pings.filter(not_vga_fail)\n",
    "\n",
    "\n",
    "#TDRResults = sample_result_1.map(lambda p: p[DeviceResetReasonKey]).reduce(lambda x, y: x + y)\n",
    "#help(pd.Series(TDRResults.values, DeviceResetReason))\n",
    "#print(pd.Series(TDRResults.values[1:8],DeviceResetReason))\n",
    "#pd.Series(TDRResults.values[1:8],DeviceResetReason).plot.bar()\n",
    "#reduce(lambda x, y: sample_result_1.take(2))\n",
    "#sample_result_1.take(1)[0]['payload/histograms/DEVICE_RESET_REASON'])\n",
    "#fail_pings.take(1)\n",
    "def match_count(a, b):\n",
    "    print('{0} out of {1} sessions matched. ({2:.2f}%)'.format(\n",
    "        a.count(),\n",
    "        b.count(),\n",
    "       ((a.count() / b.count()) * 100)))\n",
    "\n",
    "\n",
    "\n",
    "def map_x_to_count(data, sourceKey):\n",
    "    def extract(p):\n",
    "        return (p['adapter'][sourceKey],)\n",
    "    return data.map(extract).countByKey()    \n",
    "match_count(interesting_pings, pings)    \n",
    "match_count(fail_pings, interesting_pings)\n",
    "match_count(vga_pings, fail_pings)\n",
    "map_x_to_count(not_vga_pings, 'driverVersion')\n",
    "#not_vga_pings.take(5)"
   ]
  },
  {
   "cell_type": "code",
   "execution_count": null,
   "metadata": {
    "collapsed": true
   },
   "outputs": [],
   "source": []
  },
  {
   "cell_type": "code",
   "execution_count": null,
   "metadata": {
    "collapsed": true
   },
   "outputs": [],
   "source": []
  }
 ],
 "metadata": {
  "kernelspec": {
   "display_name": "Python 2",
   "language": "python",
   "name": "python2"
  },
  "language_info": {
   "codemirror_mode": {
    "name": "ipython",
    "version": 2
   },
   "file_extension": ".py",
   "mimetype": "text/x-python",
   "name": "python",
   "nbconvert_exporter": "python",
   "pygments_lexer": "ipython2",
   "version": "2.7.11"
  }
 },
 "nbformat": 4,
 "nbformat_minor": 0
}
