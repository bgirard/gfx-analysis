{
 "cells": [
  {
   "cell_type": "code",
   "execution_count": 1,
   "metadata": {
    "collapsed": false
   },
   "outputs": [
    {
     "name": "stdout",
     "output_type": "stream",
     "text": [
      "Unable to parse whitelist (/home/hadoop/anaconda2/lib/python2.7/site-packages/moztelemetry/histogram-whitelists.json). Assuming all histograms are acceptable.\n",
      "Populating the interactive namespace from numpy and matplotlib\n"
     ]
    }
   ],
   "source": [
    "import ujson as json\n",
    "import matplotlib.pyplot as plt\n",
    "import pandas as pd\n",
    "import numpy as np\n",
    "import plotly.plotly as py\n",
    "import datetime\n",
    "from __future__ import division\n",
    "\n",
    "from moztelemetry import get_pings, get_pings_properties, get_one_ping_per_client\n",
    "\n",
    "%pylab inline"
   ]
  },
  {
   "cell_type": "code",
   "execution_count": 4,
   "metadata": {
    "collapsed": true
   },
   "outputs": [],
   "source": [
    "# We grab pings starting from 2 days ago until [TimeWindow] days ago.\n",
    "TimeWindow = 14\n",
    "\n",
    "# Additional filters.\n",
    "Filters = {\n",
    "    'app': 'Firefox',\n",
    "    \n",
    "    # We sample 0.5% of pings. For testing, it is beter to use a small number\n",
    "    # here (like 0.001) to speed up processing time.\n",
    "    'fraction': 0.001,\n",
    "    \n",
    "    # Optionally restrict pings to a single channel.\n",
    "    # 'channel': 'nightly',\n",
    "}\n",
    "\n",
    "# In case you need them!\n",
    "VendorIDs = {\n",
    "    'Intel': '0x8086',\n",
    "    'NVIDIA': '0x10de',\n",
    "    'AMD': '0x1002',\n",
    "    'ATI': '0x1002'\n",
    "}"
   ]
  },
  {
   "cell_type": "code",
   "execution_count": 5,
   "metadata": {
    "collapsed": false
   },
   "outputs": [],
   "source": [
    "###############################\n",
    "# This section gathers pings. #\n",
    "###############################\n",
    "\n",
    "def run_get_pings():\n",
    "    def fmt_date(d):\n",
    "        return d.strftime(\"%Y%m%d\")\n",
    "    t1 = fmt_date(datetime.datetime.now() - datetime.timedelta(TimeWindow + 2)) # go back 16 days\n",
    "    t2 = fmt_date(datetime.datetime.now() - datetime.timedelta(2)) # go back 2 days\n",
    "    return get_pings(sc, build_id=(t1, t2), **Filters)\n",
    "\n",
    "# Get pings for the parameters in the previous step.\n",
    "raw_pings = run_get_pings()"
   ]
  },
  {
   "cell_type": "code",
   "execution_count": 6,
   "metadata": {
    "collapsed": false
   },
   "outputs": [],
   "source": [
    "######################################################################\n",
    "# This section takes the raw ping list, then formats and filters it. #\n",
    "######################################################################\n",
    "\n",
    "# Map the pings into a more readable dictionary-like form. To see\n",
    "# what these look like, execute \"pings.take(1)\".\n",
    "unique_pings = get_pings_properties(raw_pings, [\n",
    "  \"clientId\",\n",
    "  \"environment/build/version\",\n",
    "  \"environment/system/os/name\",\n",
    "  \"environment/system/os/version\",\n",
    "  \"environment/system/os/servicePackMajor\",\n",
    "  \"environment/system/os/servicePackMinor\",\n",
    "  \"environment/system/gfx/adapters\",\n",
    "  \"payload/histograms/CANVAS_WEBGL_SUCCESS\"\n",
    "])\n",
    "unique_pings = get_one_ping_per_client(unique_pings)"
   ]
  },
  {
   "cell_type": "code",
   "execution_count": 21,
   "metadata": {
    "collapsed": false
   },
   "outputs": [],
   "source": [
    "# We add two extra steps. The first rewrites the ping to have some\n",
    "# information more easily accessible (like the primary adapter),\n",
    "# and the second step removes any pings that don't have adapter\n",
    "# information.\n",
    "def rewrite_ping(p):\n",
    "    adapters = p.get('environment/system/gfx/adapters', None)\n",
    "    if not adapters:\n",
    "        return None\n",
    "    adapter = adapters[0]\n",
    "            \n",
    "    p['adapter'] = adapter\n",
    "            \n",
    "    # Convert the version to a tuple of integers.\n",
    "    if 'driverVersion' in adapter:\n",
    "        p['driverVersion'] = [int(n) for n in adapter['driverVersion'].split('.') if n.isdigit()]\n",
    "    #else:\n",
    "    #    return None\n",
    "    return p\n",
    "\n",
    "def filter_ping(p):\n",
    "    return 'adapter' in p and 'driverVersion' in p\n",
    "pings = unique_pings.map(rewrite_ping).filter(filter_ping)\n",
    "pings = pings.cache()\n",
    "\n",
    "#pings = pings.cache()"
   ]
  },
  {
   "cell_type": "code",
   "execution_count": 22,
   "metadata": {
    "collapsed": false
   },
   "outputs": [
    {
     "data": {
      "text/plain": [
       "[{'adapter': {u'GPUActive': True,\n",
       "   u'description': u'Intel(R) HD Graphics',\n",
       "   u'deviceID': u'0x22b1',\n",
       "   u'driver': u'igdumdim64 igd10iumd64 igd10iumd64 igdumdim32 igd10iumd32 igd10iumd32',\n",
       "   u'driverDate': u'3-19-2015',\n",
       "   u'driverVersion': u'10.18.14.4175',\n",
       "   u'subsysID': u'09531025',\n",
       "   u'vendorID': u'0x8086'},\n",
       "  'clientId': u'2fa8737c-b1a1-42f1-a3e2-9872eac591bd',\n",
       "  'driverVersion': [10, 18, 14, 4175],\n",
       "  'environment/build/version': u'48.0',\n",
       "  'environment/system/gfx/adapters': [{u'GPUActive': True,\n",
       "    u'description': u'Intel(R) HD Graphics',\n",
       "    u'deviceID': u'0x22b1',\n",
       "    u'driver': u'igdumdim64 igd10iumd64 igd10iumd64 igdumdim32 igd10iumd32 igd10iumd32',\n",
       "    u'driverDate': u'3-19-2015',\n",
       "    u'driverVersion': u'10.18.14.4175',\n",
       "    u'subsysID': u'09531025',\n",
       "    u'vendorID': u'0x8086'}],\n",
       "  'environment/system/os/name': u'Windows_NT',\n",
       "  'environment/system/os/servicePackMajor': 0,\n",
       "  'environment/system/os/servicePackMinor': 0,\n",
       "  'environment/system/os/version': u'6.3',\n",
       "  'payload/histograms/CANVAS_WEBGL_SUCCESS': None}]"
      ]
     },
     "execution_count": 22,
     "metadata": {},
     "output_type": "execute_result"
    }
   ],
   "source": [
    "# Observe the format of a random ping. This may take some time since it has to\n",
    "# execute the pipeline.\n",
    "#pings.take(1)\n",
    "#pings.take(1)\n",
    "#new_pings = pings.map(rewrite_ping).filter(filter_ping)\n",
    "pings.take(1)"
   ]
  },
  {
   "cell_type": "code",
   "execution_count": 23,
   "metadata": {
    "collapsed": false
   },
   "outputs": [
    {
     "name": "stdout",
     "output_type": "stream",
     "text": [
      "Number of sessions: 25437\n"
     ]
    }
   ],
   "source": [
    "# Count the total number of sessions in the dataset.\n",
    "TotalSessions = pings.count()\n",
    "print('Number of sessions: {0}'.format(TotalSessions))"
   ]
  },
  {
   "cell_type": "code",
   "execution_count": 24,
   "metadata": {
    "collapsed": false
   },
   "outputs": [],
   "source": [
    "import json\n",
    "import urllib2\n",
    "\n",
    "gpu_db = json.load(urllib2.urlopen('https://raw.githubusercontent.com/jrmuizel/gpu-db/master/intel.json'))\n",
    "devices = {}\n",
    "for gen in gpu_db['8086'].items():\n",
    "    for chipset in gen[1].items():\n",
    "        for dev in chipset[1]:\n",
    "            #print dev, gen[0]\n",
    "            devices[int(dev,16)] = gen[0]"
   ]
  },
  {
   "cell_type": "code",
   "execution_count": 67,
   "metadata": {
    "collapsed": false
   },
   "outputs": [
    {
     "data": {
      "text/plain": [
       "3726"
      ]
     },
     "execution_count": 67,
     "metadata": {},
     "output_type": "execute_result"
    }
   ],
   "source": [
    "# Sample filter #1 - how many people are using Intel devices\n",
    "# with a driver less than 8.15.10.2622? (bug 1175366).\n",
    "def sample_filter_1(p):\n",
    "    if not 'vendorID' in p['adapter']:\n",
    "        return False\n",
    "    if not 'driverVersion' in p['adapter']:\n",
    "        return False\n",
    "\n",
    "    return True\n",
    "\n",
    "interesting_pings = pings.filter(sample_filter_1)\n",
    "all_amd_pings = interesting_pings.filter(lambda p: p['adapter']['vendorID'] == '0x1002')\n",
    "all_amd_pings.count()\n",
    "#all_amd_pings.map(lambda p : tuple(p['driverVersion'])).countByValue()"
   ]
  },
  {
   "cell_type": "code",
   "execution_count": 101,
   "metadata": {
    "collapsed": false
   },
   "outputs": [
    {
     "data": {
      "text/plain": [
       "{u'R100': [u'4336',\n",
       "  u'4337',\n",
       "  u'4c57',\n",
       "  u'4c58',\n",
       "  u'4c59',\n",
       "  u'5157',\n",
       "  u'5144',\n",
       "  u'5159',\n",
       "  u'515a',\n",
       "  u'515e']}"
      ]
     },
     "execution_count": 101,
     "metadata": {},
     "output_type": "execute_result"
    }
   ],
   "source": [
    "import json\n",
    "import urllib2\n",
    "\n",
    "gpu_db = json.load(urllib2.urlopen('https://raw.githubusercontent.com/jrmuizel/gpu-db/master/amd.json'))\n",
    "devices = {}\n",
    "for gen in gpu_db['1002'].items():\n",
    "    for chipset in gen[1].items():\n",
    "        for dev in chipset[1]:\n",
    "            #print dev, gen[0]\n",
    "            devices[int(dev,16)] = gen[0]\n",
    "            \n",
    "def do_gen(p):\n",
    "    p['gen'] = devices[int(p['adapter']['deviceID'],16)]\n",
    "    return p\n",
    "    \n",
    "all_amd_pings = all_amd_pings.map(do_gen)\n",
    "gpu_db['1002']['R100']"
   ]
  },
  {
   "cell_type": "code",
   "execution_count": 102,
   "metadata": {
    "collapsed": false
   },
   "outputs": [
    {
     "data": {
      "text/plain": [
       "3726"
      ]
     },
     "execution_count": 102,
     "metadata": {},
     "output_type": "execute_result"
    }
   ],
   "source": [
    "def pad_number(x):\n",
    "    if x <= 0:\n",
    "        return x\n",
    "    while x < 1000:\n",
    "        x *= 10\n",
    "    return x\n",
    "def padDriver(p):\n",
    "    for i in range(1,4):\n",
    "        p['driverVersion'][i] = pad_number(p['driverVersion'][i])\n",
    "    return p\n",
    "all_amd_pings = all_amd_pings.map(padDriver)\n",
    "all_amd_pings.count()\n",
    "#all_amd_pings.map(lambda p : tuple(p['driverVersion'])).countByValue()"
   ]
  },
  {
   "cell_type": "code",
   "execution_count": 121,
   "metadata": {
    "collapsed": false
   },
   "outputs": [
    {
     "name": "stdout",
     "output_type": "stream",
     "text": [
      "0.0391841116479\n"
     ]
    },
    {
     "data": {
      "text/plain": [
       "defaultdict(int,\n",
       "            {2001: 6,\n",
       "             2003: 2,\n",
       "             2004: 18,\n",
       "             2005: 21,\n",
       "             2006: 31,\n",
       "             2007: 28,\n",
       "             2008: 40})"
      ]
     },
     "execution_count": 121,
     "metadata": {},
     "output_type": "execute_result"
    }
   ],
   "source": [
    "blocked_amd = all_amd_pings.filter(lambda p: tuple(p['driverVersion']) < (8,5600,1000,1500))\n",
    "blocked_amd = blocked_amd.filter(lambda p: 'vga' not in p['adapter']['driver'] and 'Unknown' not in p['adapter']['driver'])\n",
    "print blocked_amd.count()/all_amd_pings.count()\n",
    "import dateutil.parser\n",
    "blocked_amd.map(lambda p: dateutil.parser.parse(p['adapter']['driverDate']).year).countByValue()"
   ]
  },
  {
   "cell_type": "code",
   "execution_count": 114,
   "metadata": {
    "collapsed": false
   },
   "outputs": [
    {
     "data": {
      "text/plain": [
       "146"
      ]
     },
     "execution_count": 114,
     "metadata": {},
     "output_type": "execute_result"
    }
   ],
   "source": []
  },
  {
   "cell_type": "code",
   "execution_count": 116,
   "metadata": {
    "collapsed": false
   },
   "outputs": [
    {
     "data": {
      "text/plain": [
       "defaultdict(int,\n",
       "            {u'R100': 14,\n",
       "             u'R200': 13,\n",
       "             u'R300': 73,\n",
       "             u'R400': 11,\n",
       "             u'R500': 9,\n",
       "             u'R600': 19,\n",
       "             u'R700': 1,\n",
       "             u'RAGE': 6})"
      ]
     },
     "execution_count": 116,
     "metadata": {},
     "output_type": "execute_result"
    }
   ],
   "source": [
    "blocked_amd.map(lambda p: p['gen']).countByValue()\n",
    "#blocked_amd.filter(lambda p: p['gen'] == 'CIK').take(1)"
   ]
  },
  {
   "cell_type": "code",
   "execution_count": 117,
   "metadata": {
    "collapsed": false
   },
   "outputs": [
    {
     "data": {
      "text/plain": [
       "defaultdict(int, {u'5.1': 92, u'5.2': 1, u'6.0': 23, u'6.1': 29, u'6.3': 1})"
      ]
     },
     "execution_count": 117,
     "metadata": {},
     "output_type": "execute_result"
    }
   ],
   "source": [
    "blocked_amd.map(lambda p: p['environment/system/os/version']).countByValue()"
   ]
  },
  {
   "cell_type": "code",
   "execution_count": 23,
   "metadata": {
    "collapsed": true
   },
   "outputs": [],
   "source": [
    "import dateutil.parser\n",
    "def before_2006(p):\n",
    "    d = dateutil.parser.parse(p['adapter']['driverDate'])\n",
    "    return d > dateutil.parser.parse('2006')\n",
    "amd_pings = all_amd_pings.filter(before_2006)"
   ]
  },
  {
   "cell_type": "code",
   "execution_count": 12,
   "metadata": {
    "collapsed": false
   },
   "outputs": [
    {
     "data": {
      "text/plain": [
       "defaultdict(int,\n",
       "            {0: 2,\n",
       "             4: 10,\n",
       "             5: 2,\n",
       "             8: 8,\n",
       "             9: 1,\n",
       "             10: 68,\n",
       "             11: 1237,\n",
       "             12: 548,\n",
       "             13: 5865,\n",
       "             17: 1,\n",
       "             24: 6})"
      ]
     },
     "execution_count": 12,
     "metadata": {},
     "output_type": "execute_result"
    }
   ],
   "source": [
    "amd_pings.map(lambda p: p['driverVersion'][2]).countByValue()"
   ]
  },
  {
   "cell_type": "code",
   "execution_count": 13,
   "metadata": {
    "collapsed": false
   },
   "outputs": [],
   "source": [
    "xp_amd_pings = amd_pings.filter(lambda p: p['environment/system/os/version'] == '5.1')\n",
    "xp_amd_pings.count()\n",
    "not_xp_amd_pings = amd_pings.filter(lambda p: p['environment/system/os/version'] != '5.1')\n",
    "not_xp_amd_pings.count()\n",
    "xp_715_amd_pings = xp_amd_pings.filter(lambda p: p['driverVersion'][0] == 7 and p['driverVersion'][1] == 15)\n",
    "xp_715_amd_pings = amd_pings.filter(lambda p: p['driverVersion'][0] == 7 and p['driverVersion'][1] == 15)"
   ]
  },
  {
   "cell_type": "code",
   "execution_count": 14,
   "metadata": {
    "collapsed": false
   },
   "outputs": [
    {
     "data": {
      "text/plain": [
       "803"
      ]
     },
     "execution_count": 14,
     "metadata": {},
     "output_type": "execute_result"
    }
   ],
   "source": [
    "blocked = not_xp_amd_pings.filter(lambda p: p['driverVersion'][1] < 17 and (p['driverVersion'][2] * 10000 + p['driverVersion'][3]) > 118265)\n",
    "blocked.count()"
   ]
  },
  {
   "cell_type": "code",
   "execution_count": 42,
   "metadata": {
    "collapsed": false
   },
   "outputs": [
    {
     "data": {
      "text/plain": [
       "defaultdict(int,\n",
       "            {datetime.datetime(2009, 4, 30, 0, 0): 14,\n",
       "             datetime.datetime(2009, 5, 1, 0, 0): 2,\n",
       "             datetime.datetime(2009, 5, 12, 0, 0): 4,\n",
       "             datetime.datetime(2009, 5, 14, 0, 0): 2292,\n",
       "             datetime.datetime(2009, 5, 24, 0, 0): 1,\n",
       "             datetime.datetime(2009, 6, 3, 0, 0): 3,\n",
       "             datetime.datetime(2009, 6, 4, 0, 0): 1,\n",
       "             datetime.datetime(2009, 6, 8, 0, 0): 1,\n",
       "             datetime.datetime(2009, 6, 10, 0, 0): 12,\n",
       "             datetime.datetime(2009, 6, 11, 0, 0): 6,\n",
       "             datetime.datetime(2009, 6, 16, 0, 0): 14,\n",
       "             datetime.datetime(2009, 6, 23, 0, 0): 1,\n",
       "             datetime.datetime(2009, 6, 26, 0, 0): 12,\n",
       "             datetime.datetime(2009, 7, 1, 0, 0): 23,\n",
       "             datetime.datetime(2009, 7, 4, 0, 0): 2,\n",
       "             datetime.datetime(2009, 7, 8, 0, 0): 35,\n",
       "             datetime.datetime(2009, 7, 11, 0, 0): 1,\n",
       "             datetime.datetime(2009, 7, 14, 0, 0): 113,\n",
       "             datetime.datetime(2009, 7, 18, 0, 0): 20,\n",
       "             datetime.datetime(2009, 7, 23, 0, 0): 53,\n",
       "             datetime.datetime(2009, 7, 24, 0, 0): 1,\n",
       "             datetime.datetime(2009, 7, 27, 0, 0): 11,\n",
       "             datetime.datetime(2009, 7, 28, 0, 0): 19,\n",
       "             datetime.datetime(2009, 7, 29, 0, 0): 33,\n",
       "             datetime.datetime(2009, 7, 31, 0, 0): 2,\n",
       "             datetime.datetime(2009, 8, 6, 0, 0): 23,\n",
       "             datetime.datetime(2009, 8, 10, 0, 0): 4,\n",
       "             datetime.datetime(2009, 8, 11, 0, 0): 1,\n",
       "             datetime.datetime(2009, 8, 15, 0, 0): 6,\n",
       "             datetime.datetime(2009, 8, 17, 0, 0): 7,\n",
       "             datetime.datetime(2009, 8, 19, 0, 0): 2,\n",
       "             datetime.datetime(2009, 8, 22, 0, 0): 3,\n",
       "             datetime.datetime(2009, 8, 28, 0, 0): 7,\n",
       "             datetime.datetime(2009, 9, 1, 0, 0): 16,\n",
       "             datetime.datetime(2009, 9, 5, 0, 0): 1,\n",
       "             datetime.datetime(2009, 9, 8, 0, 0): 1,\n",
       "             datetime.datetime(2009, 9, 19, 0, 0): 4,\n",
       "             datetime.datetime(2009, 9, 24, 0, 0): 6,\n",
       "             datetime.datetime(2009, 9, 27, 0, 0): 43,\n",
       "             datetime.datetime(2009, 9, 29, 0, 0): 5,\n",
       "             datetime.datetime(2009, 10, 1, 0, 0): 4,\n",
       "             datetime.datetime(2009, 10, 3, 0, 0): 37,\n",
       "             datetime.datetime(2009, 10, 10, 0, 0): 5,\n",
       "             datetime.datetime(2009, 10, 26, 0, 0): 3,\n",
       "             datetime.datetime(2009, 10, 30, 0, 0): 13,\n",
       "             datetime.datetime(2009, 11, 2, 0, 0): 20,\n",
       "             datetime.datetime(2009, 11, 5, 0, 0): 4,\n",
       "             datetime.datetime(2009, 11, 13, 0, 0): 4,\n",
       "             datetime.datetime(2009, 11, 23, 0, 0): 4,\n",
       "             datetime.datetime(2009, 11, 27, 0, 0): 1,\n",
       "             datetime.datetime(2009, 11, 28, 0, 0): 8,\n",
       "             datetime.datetime(2009, 12, 1, 0, 0): 5,\n",
       "             datetime.datetime(2009, 12, 2, 0, 0): 1,\n",
       "             datetime.datetime(2009, 12, 4, 0, 0): 3,\n",
       "             datetime.datetime(2009, 12, 6, 0, 0): 2,\n",
       "             datetime.datetime(2009, 12, 7, 0, 0): 1,\n",
       "             datetime.datetime(2009, 12, 11, 0, 0): 11,\n",
       "             datetime.datetime(2009, 12, 14, 0, 0): 1,\n",
       "             datetime.datetime(2009, 12, 17, 0, 0): 3,\n",
       "             datetime.datetime(2009, 12, 22, 0, 0): 1,\n",
       "             datetime.datetime(2009, 12, 28, 0, 0): 1,\n",
       "             datetime.datetime(2009, 12, 29, 0, 0): 1,\n",
       "             datetime.datetime(2010, 1, 5, 0, 0): 3,\n",
       "             datetime.datetime(2010, 1, 7, 0, 0): 4,\n",
       "             datetime.datetime(2010, 1, 11, 0, 0): 6,\n",
       "             datetime.datetime(2010, 1, 13, 0, 0): 6,\n",
       "             datetime.datetime(2010, 1, 15, 0, 0): 2,\n",
       "             datetime.datetime(2010, 1, 19, 0, 0): 4,\n",
       "             datetime.datetime(2010, 1, 20, 0, 0): 2,\n",
       "             datetime.datetime(2010, 1, 25, 0, 0): 6,\n",
       "             datetime.datetime(2010, 1, 26, 0, 0): 1,\n",
       "             datetime.datetime(2010, 1, 29, 0, 0): 1,\n",
       "             datetime.datetime(2010, 2, 3, 0, 0): 8,\n",
       "             datetime.datetime(2010, 2, 4, 0, 0): 1,\n",
       "             datetime.datetime(2010, 2, 10, 0, 0): 8,\n",
       "             datetime.datetime(2010, 2, 17, 0, 0): 1,\n",
       "             datetime.datetime(2010, 2, 19, 0, 0): 1,\n",
       "             datetime.datetime(2010, 2, 22, 0, 0): 8,\n",
       "             datetime.datetime(2010, 3, 9, 0, 0): 2,\n",
       "             datetime.datetime(2010, 3, 10, 0, 0): 1,\n",
       "             datetime.datetime(2010, 3, 15, 0, 0): 2,\n",
       "             datetime.datetime(2010, 4, 7, 0, 0): 1,\n",
       "             datetime.datetime(2010, 4, 16, 0, 0): 5,\n",
       "             datetime.datetime(2010, 4, 27, 0, 0): 1,\n",
       "             datetime.datetime(2010, 5, 5, 0, 0): 1,\n",
       "             datetime.datetime(2010, 5, 7, 0, 0): 23,\n",
       "             datetime.datetime(2010, 5, 12, 0, 0): 17,\n",
       "             datetime.datetime(2010, 5, 20, 0, 0): 1,\n",
       "             datetime.datetime(2010, 5, 24, 0, 0): 1,\n",
       "             datetime.datetime(2010, 6, 4, 0, 0): 2,\n",
       "             datetime.datetime(2010, 7, 7, 0, 0): 1,\n",
       "             datetime.datetime(2010, 7, 9, 0, 0): 1,\n",
       "             datetime.datetime(2010, 9, 16, 0, 0): 1,\n",
       "             datetime.datetime(2011, 3, 18, 0, 0): 1,\n",
       "             datetime.datetime(2012, 9, 23, 0, 0): 1,\n",
       "             datetime.datetime(2013, 1, 31, 0, 0): 2,\n",
       "             datetime.datetime(2013, 3, 21, 0, 0): 1,\n",
       "             datetime.datetime(2013, 6, 21, 0, 0): 1,\n",
       "             datetime.datetime(2013, 10, 28, 0, 0): 1,\n",
       "             datetime.datetime(2013, 10, 29, 0, 0): 1,\n",
       "             datetime.datetime(2014, 7, 2, 0, 0): 1,\n",
       "             datetime.datetime(2014, 9, 13, 0, 0): 1})"
      ]
     },
     "execution_count": 42,
     "metadata": {},
     "output_type": "execute_result"
    }
   ],
   "source": [
    "blocked.map(lambda p: dateutil.parser.parse(p['adapter']['driverDate'])).countByValue()"
   ]
  },
  {
   "cell_type": "code",
   "execution_count": 40,
   "metadata": {
    "collapsed": false
   },
   "outputs": [
    {
     "data": {
      "text/plain": [
       "defaultdict(int,\n",
       "            {'[6, 1400, 1100, 8618]': 1,\n",
       "             '[6, 1400, 1100, 8634]': 1,\n",
       "             '[6, 1400, 1100, 9156]': 1,\n",
       "             '[6, 1400, 1100, 9197]': 1,\n",
       "             '[6, 1400, 1100, 9713]': 1,\n",
       "             '[6, 1400, 1200, 5896]': 1,\n",
       "             '[6, 1400, 1200, 6779]': 1,\n",
       "             '[6, 1400, 1300, 2049]': 1,\n",
       "             '[6, 1400, 1300, 2101]': 1,\n",
       "             '[6, 1400, 1300, 4052]': 1,\n",
       "             '[6, 1400, 1300, 4411]': 1,\n",
       "             '[6, 1400, 1300, 6810]': 1,\n",
       "             '[6, 1400, 1300, 7830]': 2,\n",
       "             '[6, 1400, 1300, 7900]': 1,\n",
       "             '[6, 1400, 1300, 9000]': 1,\n",
       "             '[7, 1500, 1100, 8267]': 4,\n",
       "             '[7, 1500, 1100, 8586]': 2,\n",
       "             '[8, 1500, 1100, 8585]': 14,\n",
       "             '[8, 1500, 1100, 8593]': 2292,\n",
       "             '[8, 1500, 1100, 8599]': 1,\n",
       "             '[8, 1500, 1100, 8610]': 3,\n",
       "             '[8, 1500, 1100, 8613]': 1,\n",
       "             '[8, 1500, 1100, 8618]': 11,\n",
       "             '[8, 1500, 1100, 8619]': 6,\n",
       "             '[8, 1500, 1100, 8621]': 14,\n",
       "             '[8, 1500, 1100, 8624]': 1,\n",
       "             '[8, 1500, 1100, 8627]': 12,\n",
       "             '[8, 1500, 1100, 8631]': 23,\n",
       "             '[8, 1500, 1100, 8633]': 2,\n",
       "             '[8, 1500, 1100, 8634]': 34,\n",
       "             '[8, 1500, 1100, 8636]': 1,\n",
       "             '[8, 1500, 1100, 8637]': 8,\n",
       "             '[8, 1500, 1100, 8640]': 20,\n",
       "             '[8, 1500, 1100, 8642]': 8,\n",
       "             '[8, 1500, 1100, 8644]': 45,\n",
       "             '[8, 1500, 1100, 8645]': 1,\n",
       "             '[8, 1500, 1100, 8647]': 11,\n",
       "             '[8, 1500, 1100, 8652]': 19,\n",
       "             '[8, 1500, 1100, 8655]': 32,\n",
       "             '[8, 1500, 1100, 8656]': 1,\n",
       "             '[8, 1500, 1100, 8660]': 2,\n",
       "             '[8, 1500, 1100, 8664]': 4,\n",
       "             '[8, 1500, 1100, 8669]': 4,\n",
       "             '[8, 1500, 1100, 8670]': 1,\n",
       "             '[8, 1500, 1100, 8678]': 6,\n",
       "             '[8, 1500, 1100, 8684]': 3,\n",
       "             '[8, 1500, 1100, 8688]': 7,\n",
       "             '[8, 1500, 1100, 9015]': 1,\n",
       "             '[8, 1500, 1100, 9038]': 105,\n",
       "             '[8, 1500, 1100, 9045]': 19,\n",
       "             '[8, 1600, 1100, 8681]': 2,\n",
       "             '[8, 1600, 1100, 8691]': 16,\n",
       "             '[8, 1600, 1100, 8694]': 1,\n",
       "             '[8, 1600, 1100, 8747]': 5,\n",
       "             '[8, 1600, 1100, 8766]': 37,\n",
       "             '[8, 1600, 1100, 8770]': 5,\n",
       "             '[8, 1600, 1100, 8780]': 9,\n",
       "             '[8, 1600, 1100, 8782]': 4,\n",
       "             '[8, 1600, 1100, 8783]': 19,\n",
       "             '[8, 1600, 1100, 8787]': 4,\n",
       "             '[8, 1600, 1100, 8798]': 4,\n",
       "             '[8, 1600, 1100, 8815]': 1,\n",
       "             '[8, 1600, 1100, 8817]': 8,\n",
       "             '[8, 1600, 1100, 8822]': 5,\n",
       "             '[8, 1600, 1100, 8824]': 1,\n",
       "             '[8, 1600, 1100, 8829]': 2,\n",
       "             '[8, 1600, 1100, 8831]': 1,\n",
       "             '[8, 1600, 1100, 8836]': 7,\n",
       "             '[8, 1600, 1100, 8837]': 1,\n",
       "             '[8, 1600, 1100, 8838]': 3,\n",
       "             '[8, 1600, 1100, 8840]': 1,\n",
       "             '[8, 1600, 1100, 8849]': 1,\n",
       "             '[8, 1600, 1100, 8855]': 1,\n",
       "             '[8, 1600, 1100, 8861]': 3,\n",
       "             '[8, 1600, 1100, 8864]': 4,\n",
       "             '[8, 1600, 1100, 8867]': 6,\n",
       "             '[8, 1600, 1100, 8875]': 2,\n",
       "             '[8, 1600, 1100, 8880]': 4,\n",
       "             '[8, 1600, 1100, 8881]': 2,\n",
       "             '[8, 1600, 1100, 8886]': 6,\n",
       "             '[8, 1600, 1100, 8893]': 1,\n",
       "             '[8, 1600, 1100, 8898]': 8,\n",
       "             '[8, 1600, 1100, 8899]': 1,\n",
       "             '[8, 1600, 1100, 8911]': 8,\n",
       "             '[8, 1600, 1100, 8921]': 1,\n",
       "             '[8, 1600, 1100, 8925]': 6,\n",
       "             '[8, 1600, 1100, 8946]': 1,\n",
       "             '[8, 1600, 1100, 8950]': 1,\n",
       "             '[8, 1600, 1100, 8969]': 1,\n",
       "             '[8, 1600, 1100, 8974]': 5,\n",
       "             '[8, 1600, 1100, 8986]': 1,\n",
       "             '[8, 1600, 1100, 8988]': 1,\n",
       "             '[8, 1600, 1100, 8990]': 23,\n",
       "             '[8, 1600, 1100, 8992]': 17,\n",
       "             '[8, 1600, 1100, 8997]': 1,\n",
       "             '[8, 1600, 1100, 8999]': 1,\n",
       "             '[8, 1600, 1100, 9024]': 2,\n",
       "             '[8, 1600, 1100, 9062]': 7,\n",
       "             '[8, 1600, 1100, 9067]': 1,\n",
       "             '[8, 1600, 1100, 9103]': 4,\n",
       "             '[8, 1600, 1100, 9104]': 6,\n",
       "             '[8, 1600, 1100, 9107]': 43,\n",
       "             '[8, 1600, 1100, 9111]': 3,\n",
       "             '[8, 1600, 1100, 9114]': 1,\n",
       "             '[8, 1600, 1100, 9125]': 4,\n",
       "             '[8, 1600, 1100, 9133]': 6,\n",
       "             '[8, 1600, 1100, 9137]': 1,\n",
       "             '[8, 1600, 1100, 9141]': 2,\n",
       "             '[8, 1600, 1100, 9156]': 3,\n",
       "             '[8, 1600, 1100, 9175]': 3,\n",
       "             '[8, 1600, 1100, 9178]': 3,\n",
       "             '[8, 1600, 1100, 9181]': 1,\n",
       "             '[8, 1600, 1100, 9187]': 1,\n",
       "             '[8, 1600, 1100, 9197]': 1,\n",
       "             '[8, 1600, 1100, 9216]': 1,\n",
       "             '[8, 1600, 1100, 9231]': 1})"
      ]
     },
     "execution_count": 40,
     "metadata": {},
     "output_type": "execute_result"
    }
   ],
   "source": [
    "\n",
    "blocked.map(lambda p: str([p['driverVersion'][0]] + [pad_number(x) for x in p['driverVersion'][1:4]])).countByValue()"
   ]
  },
  {
   "cell_type": "code",
   "execution_count": 47,
   "metadata": {
    "collapsed": false
   },
   "outputs": [
    {
     "data": {
      "text/plain": [
       "13.162465222156646"
      ]
     },
     "execution_count": 47,
     "metadata": {},
     "output_type": "execute_result"
    }
   ],
   "source": [
    "100*(all_amd_pings.count()/interesting_pings.count())"
   ]
  },
  {
   "cell_type": "code",
   "execution_count": 50,
   "metadata": {
    "collapsed": false
   },
   "outputs": [
    {
     "data": {
      "text/plain": [
       "defaultdict(int,\n",
       "            {u'0x000b': 4,\n",
       "             u'0x00ac': 3,\n",
       "             u'0x00ba': 150,\n",
       "             u'0x1002': 31866,\n",
       "             u'0x1013': 3,\n",
       "             u'0x1022': 1,\n",
       "             u'0x1023': 4,\n",
       "             u'0x102b': 119,\n",
       "             u'0x1039': 653,\n",
       "             u'0x10de': 31224,\n",
       "             u'0x1106': 902,\n",
       "             u'0x126f': 5,\n",
       "             u'0x12d2': 1,\n",
       "             u'0x1414': 48,\n",
       "             u'0x15ad': 87,\n",
       "             u'0x18ca': 12,\n",
       "             u'0x1a03': 3,\n",
       "             u'0x1ab8': 14,\n",
       "             u'0x1b36': 2,\n",
       "             u'0x300b': 379,\n",
       "             u'0x5333': 54,\n",
       "             u'0x5853': 1,\n",
       "             u'0x8086': 171169,\n",
       "             u'0x80ee': 30,\n",
       "             u'ATI Technologies Inc.': 11,\n",
       "             u'Humper': 1,\n",
       "             u'Intel Open Source Technology Center': 275,\n",
       "             u'Mesa Project': 3,\n",
       "             u'Mesa project: www.mesa3d.org': 1,\n",
       "             u'NVIDIA Corporation': 92,\n",
       "             u'Nouveau': 1,\n",
       "             u'Tungsten Graphics, Inc': 2,\n",
       "             u'VMware, Inc.': 18,\n",
       "             u'X.Org': 53,\n",
       "             u'X.Org R300 Project': 3,\n",
       "             u'nouveau': 26})"
      ]
     },
     "execution_count": 50,
     "metadata": {},
     "output_type": "execute_result"
    }
   ],
   "source": [
    "interesting_pings.map(lambda p: (p['adapter']['vendorID'])).countByValue()"
   ]
  },
  {
   "cell_type": "code",
   "execution_count": 51,
   "metadata": {
    "collapsed": false
   },
   "outputs": [
    {
     "data": {
      "text/plain": [
       "237220"
      ]
     },
     "execution_count": 51,
     "metadata": {},
     "output_type": "execute_result"
    }
   ],
   "source": [
    "interesting_pings.count()"
   ]
  },
  {
   "cell_type": "code",
   "execution_count": null,
   "metadata": {
    "collapsed": true
   },
   "outputs": [],
   "source": []
  }
 ],
 "metadata": {
  "kernelspec": {
   "display_name": "Python 2",
   "language": "python",
   "name": "python2"
  },
  "language_info": {
   "codemirror_mode": {
    "name": "ipython",
    "version": 2
   },
   "file_extension": ".py",
   "mimetype": "text/x-python",
   "name": "python",
   "nbconvert_exporter": "python",
   "pygments_lexer": "ipython2",
   "version": "2.7.11"
  },
  "widgets": {
   "state": {},
   "version": "1.1.2"
  }
 },
 "nbformat": 4,
 "nbformat_minor": 0
}
