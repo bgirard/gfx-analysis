{
 "cells": [
  {
   "cell_type": "code",
   "execution_count": 6,
   "metadata": {
    "collapsed": false
   },
   "outputs": [
    {
     "name": "stdout",
     "output_type": "stream",
     "text": [
      "Populating the interactive namespace from numpy and matplotlib\n"
     ]
    }
   ],
   "source": [
    "import ujson as json\n",
    "import matplotlib.pyplot as plt\n",
    "import pandas as pd\n",
    "import numpy as np\n",
    "import plotly.plotly as py\n",
    "import datetime\n",
    "from __future__ import division\n",
    "\n",
    "from moztelemetry import get_pings, get_pings_properties, get_one_ping_per_client\n",
    "\n",
    "%pylab inline"
   ]
  },
  {
   "cell_type": "code",
   "execution_count": 49,
   "metadata": {
    "collapsed": true
   },
   "outputs": [],
   "source": [
    "# We grab pings starting from 2 days ago until [TimeWindow] days ago.\n",
    "TimeWindow = 3\n",
    "\n",
    "# Additional filters.\n",
    "Filters = {\n",
    "    'app': 'Firefox',\n",
    "    \n",
    "    # We sample 0.5% of pings. For testing, it is beter to use a small number\n",
    "    # here (like 0.001) to speed up processing time.\n",
    "    'fraction': 0.01,\n",
    "    \n",
    "    # Optionally restrict pings to a single channel.\n",
    "     'channel': 'nightly',\n",
    "}\n",
    "\n",
    "# In case you need them!\n",
    "VendorIDs = {\n",
    "    'Intel': '0x8086',\n",
    "    'NVIDIA': '0x10de',\n",
    "    'AMD': '0x1002',\n",
    "    'ATI': '0x1002'\n",
    "}"
   ]
  },
  {
   "cell_type": "code",
   "execution_count": 50,
   "metadata": {
    "collapsed": false
   },
   "outputs": [],
   "source": [
    "###############################\n",
    "# This section gathers pings. #\n",
    "###############################\n",
    "\n",
    "def run_get_pings():\n",
    "    def fmt_date(d):\n",
    "        return d.strftime(\"%Y%m%d\")\n",
    "    t1 = fmt_date(datetime.datetime.now() - datetime.timedelta(TimeWindow + 0)) # go back 16 days\n",
    "    t2 = fmt_date(datetime.datetime.now() - datetime.timedelta(0)) # go back 2 days\n",
    "    return get_pings(sc, build_id=(t1, t2), **Filters)\n",
    "\n",
    "# Get pings for the parameters in the previous step.\n",
    "raw_pings = run_get_pings()"
   ]
  },
  {
   "cell_type": "code",
   "execution_count": 51,
   "metadata": {
    "collapsed": false
   },
   "outputs": [],
   "source": [
    "######################################################################\n",
    "# This section takes the raw ping list, then formats and filters it. #\n",
    "######################################################################\n",
    "\n",
    "# Map the pings into a more readable dictionary-like form. To see\n",
    "# what these look like, execute \"pings.take(1)\".\n",
    "unique_pings = get_pings_properties(raw_pings, [\n",
    "  \"clientId\",\n",
    "  \"environment/build/version\",\n",
    "  \"environment/system/os/name\",\n",
    "  \"environment/system/os/version\",\n",
    "  \"environment/system/os/servicePackMajor\",\n",
    "  \"environment/system/os/servicePackMinor\",\n",
    "  \"environment/system/gfx/adapters\",\n",
    "  \"environment/system/gfx/features\",\n",
    "  \"environment/system/cpu\"\n",
    "])\n",
    "unique_pings = get_one_ping_per_client(unique_pings)"
   ]
  },
  {
   "cell_type": "code",
   "execution_count": 52,
   "metadata": {
    "collapsed": false
   },
   "outputs": [],
   "source": [
    "# We add two extra steps. The first rewrites the ping to have some\n",
    "# information more easily accessible (like the primary adapter),\n",
    "# and the second step removes any pings that don't have adapter\n",
    "# information.\n",
    "def rewrite_ping(p):\n",
    "    adapters = p.get('environment/system/gfx/adapters', None)\n",
    "    if not adapters:\n",
    "        return None\n",
    "    adapter = adapters[0]\n",
    "            \n",
    "    p['adapter'] = adapter\n",
    "    features = p.get('environment/system/gfx/features', None)\n",
    "    if not features:\n",
    "        return None\n",
    "    feature = features\n",
    "            \n",
    "    p['feature'] = feature\n",
    "            \n",
    "    # Convert the version to a tuple of integers.\n",
    "    if 'driverVersion' in adapter:\n",
    "        p['driverVersion'] = [int(n) for n in adapter['driverVersion'].split('.') if n.isdigit()]\n",
    "    return p\n",
    "\n",
    "def filter_ping(p):\n",
    "    return 'adapter' in p\n",
    "pings = unique_pings.map(rewrite_ping).filter(filter_ping)\n",
    "pings = pings.cache()\n",
    "\n",
    "#pings = pings.cache()"
   ]
  },
  {
   "cell_type": "code",
   "execution_count": 53,
   "metadata": {
    "collapsed": false
   },
   "outputs": [
    {
     "data": {
      "text/plain": [
       "[{'adapter': {u'GPUActive': True,\n",
       "   u'description': u'Intel(R) HD Graphics',\n",
       "   u'deviceID': u'0x0046',\n",
       "   u'driver': u'igdumd64 igd10umd64 igdumdx32 igd10umd32',\n",
       "   u'driverDate': u'4-10-2011',\n",
       "   u'driverVersion': u'8.15.10.2361',\n",
       "   u'subsysID': u'14321043',\n",
       "   u'vendorID': u'0x8086'},\n",
       "  'clientId': u'79d4cff0-eb10-42c2-8432-d0197b64a38d',\n",
       "  'driverVersion': [8, 15, 10, 2361],\n",
       "  'environment/build/version': u'49.0a1',\n",
       "  'environment/system/cpu': {u'cores': 2,\n",
       "   u'count': 4,\n",
       "   u'extensions': [u'hasMMX',\n",
       "    u'hasSSE',\n",
       "    u'hasSSE2',\n",
       "    u'hasSSE3',\n",
       "    u'hasSSSE3',\n",
       "    u'hasSSE4_1',\n",
       "    u'hasSSE4_2'],\n",
       "   u'family': 6,\n",
       "   u'l2cacheKB': 256,\n",
       "   u'l3cacheKB': 3072,\n",
       "   u'model': 37,\n",
       "   u'speedMHz': 2466,\n",
       "   u'stepping': 5,\n",
       "   u'vendor': u'GenuineIntel'},\n",
       "  'environment/system/gfx/adapters': [{u'GPUActive': True,\n",
       "    u'description': u'Intel(R) HD Graphics',\n",
       "    u'deviceID': u'0x0046',\n",
       "    u'driver': u'igdumd64 igd10umd64 igdumdx32 igd10umd32',\n",
       "    u'driverDate': u'4-10-2011',\n",
       "    u'driverVersion': u'8.15.10.2361',\n",
       "    u'subsysID': u'14321043',\n",
       "    u'vendorID': u'0x8086'},\n",
       "   {u'GPUActive': False,\n",
       "    u'RAM': 1024,\n",
       "    u'description': u'NVIDIA GeForce 310M    ',\n",
       "    u'deviceID': u'0x0a70',\n",
       "    u'driver': u'nvd3dumx,nvwgf2umx,nvwgf2umx nvd3dum,nvwgf2um,nvwgf2um',\n",
       "    u'driverDate': u'8-29-2013',\n",
       "    u'driverVersion': u'9.18.13.2702',\n",
       "    u'subsysID': u'14321043',\n",
       "    u'vendorID': u'0x10de'}],\n",
       "  'environment/system/gfx/features': {u'compositor': u'd3d11',\n",
       "   u'd2d': {u'failureId': u'FEATURE_FAILURE_DL_BLACKLIST_g984',\n",
       "    u'status': u'blacklisted',\n",
       "    u'version': u'1.1'},\n",
       "   u'd3d11': {u'blacklisted': False,\n",
       "    u'failureId': u'OK',\n",
       "    u'status': u'available',\n",
       "    u'textureSharing': True,\n",
       "    u'version': 40960,\n",
       "    u'warp': False},\n",
       "   u'opengl': {u'failureId': u'FEATURE_FAILURE_INTEL_OGL_DIS'},\n",
       "   u'webgl': {u'failureId': u'FEATURE_FAILURE_INTEL_WEBGL_DIS'}},\n",
       "  'environment/system/os/name': u'Windows_NT',\n",
       "  'environment/system/os/servicePackMajor': 1,\n",
       "  'environment/system/os/servicePackMinor': 0,\n",
       "  'environment/system/os/version': u'6.1',\n",
       "  'feature': {u'compositor': u'd3d11',\n",
       "   u'd2d': {u'failureId': u'FEATURE_FAILURE_DL_BLACKLIST_g984',\n",
       "    u'status': u'blacklisted',\n",
       "    u'version': u'1.1'},\n",
       "   u'd3d11': {u'blacklisted': False,\n",
       "    u'failureId': u'OK',\n",
       "    u'status': u'available',\n",
       "    u'textureSharing': True,\n",
       "    u'version': 40960,\n",
       "    u'warp': False},\n",
       "   u'opengl': {u'failureId': u'FEATURE_FAILURE_INTEL_OGL_DIS'},\n",
       "   u'webgl': {u'failureId': u'FEATURE_FAILURE_INTEL_WEBGL_DIS'}}}]"
      ]
     },
     "execution_count": 53,
     "metadata": {},
     "output_type": "execute_result"
    }
   ],
   "source": [
    "# Observe the format of a random ping. This may take some time since it has to\n",
    "# execute the pipeline.\n",
    "#pings.take(1)\n",
    "#pings.take(1)\n",
    "#new_pings = pings.map(rewrite_ping).filter(filter_ping)\n",
    "pings.take(1)"
   ]
  },
  {
   "cell_type": "code",
   "execution_count": 54,
   "metadata": {
    "collapsed": false
   },
   "outputs": [
    {
     "name": "stdout",
     "output_type": "stream",
     "text": [
      "Number of sessions: 1079\n"
     ]
    }
   ],
   "source": [
    "# Count the total number of sessions in the dataset.\n",
    "TotalSessions = pings.count()\n",
    "print('Number of sessions: {0}'.format(TotalSessions))"
   ]
  },
  {
   "cell_type": "code",
   "execution_count": 55,
   "metadata": {
    "collapsed": false
   },
   "outputs": [],
   "source": [
    "import json\n",
    "import urllib2\n",
    "\n",
    "gpu_db = json.load(urllib2.urlopen('https://raw.githubusercontent.com/jrmuizel/gpu-db/master/intel.json'))\n",
    "devices = {}\n",
    "for gen in gpu_db['8086'].items():\n",
    "    for chipset in gen[1].items():\n",
    "        for dev in chipset[1]:\n",
    "            #print dev, gen[0]\n",
    "            devices[int(dev,16)] = gen[0]"
   ]
  },
  {
   "cell_type": "code",
   "execution_count": 56,
   "metadata": {
    "collapsed": false
   },
   "outputs": [
    {
     "data": {
      "text/plain": [
       "1041"
      ]
     },
     "execution_count": 56,
     "metadata": {},
     "output_type": "execute_result"
    }
   ],
   "source": [
    "# Sample filter #1 - how many people are using Intel devices\n",
    "# with a driver less than 8.15.10.2622? (bug 1175366).\n",
    "def sample_filter_1(p):\n",
    "    if not 'vendorID' in p['adapter']:\n",
    "        return False\n",
    "    if not 'driver' in p['adapter']:\n",
    "        return False\n",
    "\n",
    "    if not 'compositor' in p['feature']:\n",
    "        return False\n",
    "    \n",
    "    #if p['feature']['compositor'] != 'basic':\n",
    "    #    return False\n",
    "    #if devices[int(p['adapter']['deviceID'],16)] in ('gen6'):\n",
    "    #    return True\n",
    "\n",
    "    #if devices[int(p['adapter']['deviceID'],16)] in ('gen7'):\n",
    "\n",
    "     #   return True\n",
    "    return True\n",
    "\n",
    "interesting_pings = pings.filter(sample_filter_1)\n",
    "interesting_pings.count()"
   ]
  },
  {
   "cell_type": "code",
   "execution_count": 57,
   "metadata": {
    "collapsed": true
   },
   "outputs": [],
   "source": [
    "def match_count(a, b):\n",
    "    print('{0} out of {1} sessions matched. ({2:.2f}%)'.format(\n",
    "        a.count(),\n",
    "        b.count(),\n",
    "       ((a.count() / b.count()) * 100)))"
   ]
  },
  {
   "cell_type": "code",
   "execution_count": 60,
   "metadata": {
    "collapsed": false
   },
   "outputs": [
    {
     "name": "stdout",
     "output_type": "stream",
     "text": [
      "937 out of 1041 sessions matched. (90.01%)\n",
      "1006 out of 1041 sessions matched. (96.64%)\n",
      "487 out of 1041 sessions matched. (46.78%)\n",
      "644 out of 1041 sessions matched. (61.86%)\n",
      "242 out of 1041 sessions matched. (23.25%)\n"
     ]
    }
   ],
   "source": [
    "ssse3_pings = interesting_pings.filter(lambda p: 'hasSSSE3' in p['environment/system/cpu']['extensions'])\n",
    "multicore_pings = interesting_pings.filter(lambda p: p['environment/system/cpu']['cores'] > 1)\n",
    "quadcore_pings = interesting_pings.filter(lambda p: p['environment/system/cpu']['cores'] > 2)\n",
    "avx_pings = interesting_pings.filter(lambda p: 'hasAVX' in p['environment/system/cpu']['extensions'])\n",
    "avx2_pings = interesting_pings.filter(lambda p: 'hasAVX2' in p['environment/system/cpu']['extensions'])\n",
    "\n",
    "\n",
    "match_count(ssse3_pings, interesting_pings)\n",
    "match_count(multicore_pings, interesting_pings)\n",
    "match_count(quadcore_pings, interesting_pings)\n",
    "match_count(avx_pings, interesting_pings)\n",
    "match_count(avx2_pings, interesting_pings)"
   ]
  },
  {
   "cell_type": "code",
   "execution_count": 12,
   "metadata": {
    "collapsed": false
   },
   "outputs": [
    {
     "name": "stdout",
     "output_type": "stream",
     "text": [
      "35154 out of 431156 sessions matched. (8.15%)\n",
      "8770 out of 35154 sessions matched. (24.95%)\n",
      "1051 out of 8770 sessions matched. (11.98%)\n"
     ]
    }
   ],
   "source": [
    "\n",
    "def webgl_fail(p):\n",
    "    if p['payload/histograms/CANVAS_WEBGL_SUCCESS'][0] > 0:\n",
    "        return True\n",
    "\n",
    "     #   return True\n",
    "    return False\n",
    "fail_pings = interesting_pings.filter(webgl_fail)\n",
    "\n",
    "def vga_fail(p):\n",
    "    if 'vga' in p['adapter']['driver']:\n",
    "        return True\n",
    "\n",
    "\n",
    "     #   return True\n",
    "    return False\n",
    "vga_pings = fail_pings.filter(vga_fail)\n",
    "\n",
    "def not_vga_fail(p):\n",
    "    if 'vga' in p['adapter']['driver']:\n",
    "        return False\n",
    "     #   return True\n",
    "    return True\n",
    "not_vga_pings = fail_pings.filter(not_vga_fail)\n",
    "\n",
    "\n",
    "#TDRResults = sample_result_1.map(lambda p: p[DeviceResetReasonKey]).reduce(lambda x, y: x + y)\n",
    "#help(pd.Series(TDRResults.values, DeviceResetReason))\n",
    "#print(pd.Series(TDRResults.values[1:8],DeviceResetReason))\n",
    "#pd.Series(TDRResults.values[1:8],DeviceResetReason).plot.bar()\n",
    "#reduce(lambda x, y: sample_result_1.take(2))\n",
    "#sample_result_1.take(1)[0]['payload/histograms/DEVICE_RESET_REASON'])\n",
    "#fail_pings.take(1)\n",
    "\n",
    "\n",
    "\n",
    "\n",
    "def map_x_to_count(data, sourceKey):\n",
    "    def extract(p):\n",
    "        return (p['adapter'][sourceKey],)\n",
    "    return data.map(extract).countByKey()    \n",
    "match_count(interesting_pings, pings)    \n",
    "match_count(fail_pings, interesting_pings)\n",
    "match_count(vga_pings, fail_pings)\n",
    "#map_x_to_count(not_vga_pings, 'driverVersion')\n",
    "#not_vga_pings.take(5)"
   ]
  },
  {
   "cell_type": "code",
   "execution_count": null,
   "metadata": {
    "collapsed": true
   },
   "outputs": [],
   "source": []
  },
  {
   "cell_type": "code",
   "execution_count": null,
   "metadata": {
    "collapsed": true
   },
   "outputs": [],
   "source": []
  }
 ],
 "metadata": {
  "kernelspec": {
   "display_name": "Python 2",
   "language": "python",
   "name": "python2"
  },
  "language_info": {
   "codemirror_mode": {
    "name": "ipython",
    "version": 2
   },
   "file_extension": ".py",
   "mimetype": "text/x-python",
   "name": "python",
   "nbconvert_exporter": "python",
   "pygments_lexer": "ipython2",
   "version": "2.7.11"
  }
 },
 "nbformat": 4,
 "nbformat_minor": 0
}
