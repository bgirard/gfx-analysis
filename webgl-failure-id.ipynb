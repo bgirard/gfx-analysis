{
 "cells": [
  {
   "cell_type": "code",
   "execution_count": 3,
   "metadata": {
    "collapsed": false
   },
   "outputs": [
    {
     "name": "stdout",
     "output_type": "stream",
     "text": [
      "Unable to parse whitelist (/home/hadoop/anaconda2/lib/python2.7/site-packages/moztelemetry/histogram-whitelists.json). Assuming all histograms are acceptable.\n",
      "Populating the interactive namespace from numpy and matplotlib\n"
     ]
    },
    {
     "name": "stderr",
     "output_type": "stream",
     "text": [
      "/home/hadoop/anaconda2/lib/python2.7/site-packages/matplotlib/font_manager.py:273: UserWarning: Matplotlib is building the font cache using fc-list. This may take a moment.\n",
      "  warnings.warn('Matplotlib is building the font cache using fc-list. This may take a moment.')\n"
     ]
    }
   ],
   "source": [
    "import ujson as json\n",
    "import matplotlib.pyplot as plt\n",
    "import pandas as pd\n",
    "import numpy as np\n",
    "import plotly.plotly as py\n",
    "import datetime\n",
    "from __future__ import division\n",
    "\n",
    "from moztelemetry import get_pings, get_pings_properties, get_one_ping_per_client\n",
    "\n",
    "%pylab inline"
   ]
  },
  {
   "cell_type": "code",
   "execution_count": 24,
   "metadata": {
    "collapsed": true
   },
   "outputs": [],
   "source": [
    "# We grab pings starting from 2 days ago until [TimeWindow] days ago.\n",
    "TimeWindow = 4\n",
    "\n",
    "# Additional filters.\n",
    "Filters = {\n",
    "    'app': 'Firefox',\n",
    "    \n",
    "    # We sample 0.5% of pings. For testing, it is beter to use a small number\n",
    "    # here (like 0.001) to speed up processing time.\n",
    "    'fraction': 1,\n",
    "    \n",
    "    # Optionally restrict pings to a single channel.\n",
    "     'channel': 'nightly',\n",
    "}\n",
    "\n",
    "# In case you need them!\n",
    "VendorIDs = {\n",
    "    'Intel': '0x8086',\n",
    "    'NVIDIA': '0x10de',\n",
    "    'AMD': '0x1002',\n",
    "    'ATI': '0x1002'\n",
    "}"
   ]
  },
  {
   "cell_type": "code",
   "execution_count": 25,
   "metadata": {
    "collapsed": false
   },
   "outputs": [],
   "source": [
    "###############################\n",
    "# This section gathers pings. #\n",
    "###############################\n",
    "\n",
    "def run_get_pings():\n",
    "    def fmt_date(d):\n",
    "        return d.strftime(\"%Y%m%d\")\n",
    "    t1 = fmt_date(datetime.datetime.now() - datetime.timedelta(TimeWindow + 0)) # go back 16 days\n",
    "    t2 = fmt_date(datetime.datetime.now() - datetime.timedelta(0)) # go back 2 days\n",
    "    return get_pings(sc, build_id=(t1, t2), **Filters)\n",
    "\n",
    "# Get pings for the parameters in the previous step.\n",
    "raw_pings = run_get_pings()"
   ]
  },
  {
   "cell_type": "code",
   "execution_count": 26,
   "metadata": {
    "collapsed": false
   },
   "outputs": [],
   "source": [
    "######################################################################\n",
    "# This section takes the raw ping list, then formats and filters it. #\n",
    "######################################################################\n",
    "\n",
    "# Map the pings into a more readable dictionary-like form. To see\n",
    "# what these look like, execute \"pings.take(1)\".\n",
    "unique_pings = get_pings_properties(raw_pings, [\n",
    "  \"clientId\",\n",
    "  \"application/buildId\",\n",
    "  \"environment/build/version\",\n",
    "  \"environment/system/os/name\",\n",
    "  \"environment/system/os/version\",\n",
    "  \"environment/system/os/servicePackMajor\",\n",
    "  \"environment/system/os/servicePackMinor\",\n",
    "  \"environment/system/gfx/adapters\",\n",
    "  \"environment/system/gfx/features\",\n",
    "  \"payload/keyedHistograms/CANVAS_WEBGL_FAILURE_ID\"\n",
    "])\n",
    "unique_pings = get_one_ping_per_client(unique_pings)"
   ]
  },
  {
   "cell_type": "code",
   "execution_count": 27,
   "metadata": {
    "collapsed": false
   },
   "outputs": [
    {
     "data": {
      "text/plain": [
       "[{'application/buildId': u'20160611030214',\n",
       "  'clientId': u'd672bc1a-c894-4238-83c2-1a5f3696916f',\n",
       "  'environment/build/version': u'50.0a1',\n",
       "  'environment/system/gfx/adapters': [{u'GPUActive': True,\n",
       "    u'description': u'ATI Radeon HD 3200 Graphics (Microsoft Corporation WDDM 1.1) ',\n",
       "    u'deviceID': u'0x9610',\n",
       "    u'driver': u'atidxx32 atidxx64 atiumdag atiumdva atiumd64 atiumd6a atitmm64',\n",
       "    u'driverDate': u'4-24-2009',\n",
       "    u'driverVersion': u'8.56.1.15',\n",
       "    u'subsysID': u'014f1025',\n",
       "    u'vendorID': u'0x1002'}],\n",
       "  'environment/system/gfx/features': {u'compositor': u'd3d11',\n",
       "   u'd2d': {u'status': u'unavailable', u'version': u'1.1'},\n",
       "   u'd3d11': {u'blacklisted': False,\n",
       "    u'status': u'available',\n",
       "    u'textureSharing': True,\n",
       "    u'version': 40960,\n",
       "    u'warp': False}},\n",
       "  'environment/system/os/name': u'Windows_NT',\n",
       "  'environment/system/os/servicePackMajor': 0,\n",
       "  'environment/system/os/servicePackMinor': 0,\n",
       "  'environment/system/os/version': u'6.1',\n",
       "  'payload/keyedHistograms/CANVAS_WEBGL_FAILURE_ID': None}]"
      ]
     },
     "execution_count": 27,
     "metadata": {},
     "output_type": "execute_result"
    }
   ],
   "source": [
    "unique_pings.take(1)"
   ]
  },
  {
   "cell_type": "code",
   "execution_count": 28,
   "metadata": {
    "collapsed": false
   },
   "outputs": [],
   "source": [
    "# We add two extra steps. The first rewrites the ping to have some\n",
    "# information more easily accessible (like the primary adapter),\n",
    "# and the second step removes any pings that don't have adapter\n",
    "# information.\n",
    "def rewrite_ping(p):\n",
    "    adapters = p.get('environment/system/gfx/adapters', None)\n",
    "    if not adapters:\n",
    "        return None\n",
    "    adapter = adapters[0]\n",
    "            \n",
    "    p['adapter'] = adapter\n",
    "    \n",
    "    features = p.get('environment/system/gfx/features', None)\n",
    "    if features == None:\n",
    "        return None\n",
    "            \n",
    "    p['features'] = features\n",
    "            \n",
    "    # Convert the version to a tuple of integers.\n",
    "    if 'driverVersion' in adapter:\n",
    "        p['driverVersion'] = [int(n) for n in adapter['driverVersion'].split('.') if n.isdigit()]\n",
    "    return p\n",
    "\n",
    "def filter_ping(p):\n",
    "    return p and 'adapter' in p and 'features' in p\n",
    "pings = unique_pings.map(rewrite_ping).filter(filter_ping)\n",
    "pings = pings.cache()\n",
    "\n",
    "#pings = pings.cache()"
   ]
  },
  {
   "cell_type": "code",
   "execution_count": 29,
   "metadata": {
    "collapsed": false
   },
   "outputs": [
    {
     "data": {
      "text/plain": [
       "[{'adapter': {u'GPUActive': True,\n",
       "   u'description': u'ATI Radeon HD 3200 Graphics (Microsoft Corporation WDDM 1.1) ',\n",
       "   u'deviceID': u'0x9610',\n",
       "   u'driver': u'atidxx32 atidxx64 atiumdag atiumdva atiumd64 atiumd6a atitmm64',\n",
       "   u'driverDate': u'4-24-2009',\n",
       "   u'driverVersion': u'8.56.1.15',\n",
       "   u'subsysID': u'014f1025',\n",
       "   u'vendorID': u'0x1002'},\n",
       "  'application/buildId': u'20160611030214',\n",
       "  'clientId': u'd672bc1a-c894-4238-83c2-1a5f3696916f',\n",
       "  'driverVersion': [8, 56, 1, 15],\n",
       "  'environment/build/version': u'50.0a1',\n",
       "  'environment/system/gfx/adapters': [{u'GPUActive': True,\n",
       "    u'description': u'ATI Radeon HD 3200 Graphics (Microsoft Corporation WDDM 1.1) ',\n",
       "    u'deviceID': u'0x9610',\n",
       "    u'driver': u'atidxx32 atidxx64 atiumdag atiumdva atiumd64 atiumd6a atitmm64',\n",
       "    u'driverDate': u'4-24-2009',\n",
       "    u'driverVersion': u'8.56.1.15',\n",
       "    u'subsysID': u'014f1025',\n",
       "    u'vendorID': u'0x1002'}],\n",
       "  'environment/system/gfx/features': {u'compositor': u'd3d11',\n",
       "   u'd2d': {u'status': u'unavailable', u'version': u'1.1'},\n",
       "   u'd3d11': {u'blacklisted': False,\n",
       "    u'status': u'available',\n",
       "    u'textureSharing': True,\n",
       "    u'version': 40960,\n",
       "    u'warp': False}},\n",
       "  'environment/system/os/name': u'Windows_NT',\n",
       "  'environment/system/os/servicePackMajor': 0,\n",
       "  'environment/system/os/servicePackMinor': 0,\n",
       "  'environment/system/os/version': u'6.1',\n",
       "  'features': {u'compositor': u'd3d11',\n",
       "   u'd2d': {u'status': u'unavailable', u'version': u'1.1'},\n",
       "   u'd3d11': {u'blacklisted': False,\n",
       "    u'status': u'available',\n",
       "    u'textureSharing': True,\n",
       "    u'version': 40960,\n",
       "    u'warp': False}},\n",
       "  'payload/keyedHistograms/CANVAS_WEBGL_FAILURE_ID': None}]"
      ]
     },
     "execution_count": 29,
     "metadata": {},
     "output_type": "execute_result"
    }
   ],
   "source": [
    "# Observe the format of a random ping. This may take some time since it has to\n",
    "# execute the pipeline.\n",
    "#pings.take(1)\n",
    "#pings.take(1)\n",
    "#new_pings = pings.map(rewrite_ping).filter(filter_ping)\n",
    "pings.take(1)"
   ]
  },
  {
   "cell_type": "code",
   "execution_count": 30,
   "metadata": {
    "collapsed": false
   },
   "outputs": [
    {
     "name": "stdout",
     "output_type": "stream",
     "text": [
      "Number of sessions: 25475\n"
     ]
    }
   ],
   "source": [
    "# Count the total number of sessions in the dataset.\n",
    "TotalSessions = pings.count()\n",
    "print('Number of sessions: {0}'.format(TotalSessions))"
   ]
  },
  {
   "cell_type": "code",
   "execution_count": 31,
   "metadata": {
    "collapsed": false
   },
   "outputs": [],
   "source": [
    "import json\n",
    "import urllib2\n",
    "\n",
    "gpu_db = json.load(urllib2.urlopen('https://raw.githubusercontent.com/jrmuizel/gpu-db/master/intel.json'))\n",
    "devices = {}\n",
    "for gen in gpu_db['8086'].items():\n",
    "    for chipset in gen[1].items():\n",
    "        for dev in chipset[1]:\n",
    "            #print dev, gen[0]\n",
    "            devices[int(dev,16)] = gen[0]"
   ]
  },
  {
   "cell_type": "code",
   "execution_count": 32,
   "metadata": {
    "collapsed": false
   },
   "outputs": [
    {
     "name": "stdout",
     "output_type": "stream",
     "text": [
      "1010\n"
     ]
    },
    {
     "data": {
      "text/plain": [
       "[{'adapter': {u'GPUActive': True,\n",
       "   u'RAM': 2048,\n",
       "   u'description': u'AMD Radeon HD 6670',\n",
       "   u'deviceID': u'0x6758',\n",
       "   u'driver': u'aticfx64 aticfx64 aticfx64 aticfx32 aticfx32 aticfx32 atiumd64 atidxx64 atidxx64 atiumdag atidxx32 atidxx32 atiumdva atiumd6a atitmm64',\n",
       "   u'driverDate': u'11-29-2013',\n",
       "   u'driverVersion': u'13.250.18.0',\n",
       "   u'subsysID': u'25571458',\n",
       "   u'vendorID': u'0x1002'},\n",
       "  'application/buildId': u'20160613030258',\n",
       "  'clientId': u'efcdc60a-4e9f-4466-bfee-2189e4c5d1f6',\n",
       "  'driverVersion': [13, 250, 18, 0],\n",
       "  'environment/build/version': u'50.0a1',\n",
       "  'environment/system/gfx/adapters': [{u'GPUActive': True,\n",
       "    u'RAM': 2048,\n",
       "    u'description': u'AMD Radeon HD 6670',\n",
       "    u'deviceID': u'0x6758',\n",
       "    u'driver': u'aticfx64 aticfx64 aticfx64 aticfx32 aticfx32 aticfx32 atiumd64 atidxx64 atidxx64 atiumdag atidxx32 atidxx32 atiumdva atiumd6a atitmm64',\n",
       "    u'driverDate': u'11-29-2013',\n",
       "    u'driverVersion': u'13.250.18.0',\n",
       "    u'subsysID': u'25571458',\n",
       "    u'vendorID': u'0x1002'}],\n",
       "  'environment/system/gfx/features': {u'compositor': u'd3d11',\n",
       "   u'd2d': {u'status': u'available', u'version': u'1.1'},\n",
       "   u'd3d11': {u'blacklisted': False,\n",
       "    u'status': u'available',\n",
       "    u'textureSharing': True,\n",
       "    u'version': 45056,\n",
       "    u'warp': False}},\n",
       "  'environment/system/os/name': u'Windows_NT',\n",
       "  'environment/system/os/servicePackMajor': 1,\n",
       "  'environment/system/os/servicePackMinor': 0,\n",
       "  'environment/system/os/version': u'6.1',\n",
       "  'features': {u'compositor': u'd3d11',\n",
       "   u'd2d': {u'status': u'available', u'version': u'1.1'},\n",
       "   u'd3d11': {u'blacklisted': False,\n",
       "    u'status': u'available',\n",
       "    u'textureSharing': True,\n",
       "    u'version': 45056,\n",
       "    u'warp': False}},\n",
       "  'payload/keyedHistograms/CANVAS_WEBGL_FAILURE_ID': {u'SUCCESS': 4L}}]"
      ]
     },
     "execution_count": 32,
     "metadata": {},
     "output_type": "execute_result"
    }
   ],
   "source": [
    "# Sample filter #1 - how many people are using Intel devices\n",
    "# with a driver less than 8.15.10.2622? (bug 1175366).\n",
    "def sample_filter_1(p):\n",
    "    if not 'vendorID' in p['adapter']:\n",
    "        return False\n",
    "    if not 'driver' in p['adapter']:\n",
    "        return False\n",
    "\n",
    "    if p['payload/keyedHistograms/CANVAS_WEBGL_FAILURE_ID'] is None:\n",
    "        return False\n",
    "    #if devices[int(p['adapter']['deviceID'],16)] in ('gen6'):\n",
    "    #    return True\n",
    "\n",
    "    #if devices[int(p['adapter']['deviceID'],16)] in ('gen7'):\n",
    "\n",
    "     #   return True\n",
    "    return True\n",
    "\n",
    "interesting_pings = pings.filter(sample_filter_1)\n",
    "print(interesting_pings.count())\n",
    "interesting_pings.take(1)"
   ]
  },
  {
   "cell_type": "code",
   "execution_count": 33,
   "metadata": {
    "collapsed": false
   },
   "outputs": [
    {
     "name": "stdout",
     "output_type": "stream",
     "text": [
      "42\n"
     ]
    },
    {
     "data": {
      "text/plain": [
       "defaultdict(int,\n",
       "            {u'FEATURE_FAILURE_EGL_LIB_INIT': 38,\n",
       "             u'FEATURE_FAILURE_PERF_WARP': 2,\n",
       "             u'FEATURE_FAILURE_WEBGL_DISABLED': 2})"
      ]
     },
     "execution_count": 33,
     "metadata": {},
     "output_type": "execute_result"
    }
   ],
   "source": [
    "def webgl_fail(p):\n",
    "    if not 'SUCCESS' in p['payload/keyedHistograms/CANVAS_WEBGL_FAILURE_ID']:\n",
    "        return True\n",
    "\n",
    "     #   return True\n",
    "    return False\n",
    "fail_pings = interesting_pings.filter(webgl_fail)\n",
    "\n",
    "def not_vga_fail(p):\n",
    "    if 'vga' in p['adapter']['driver']:\n",
    "        return False\n",
    "     #   return True\n",
    "    return True\n",
    "not_vga_pings = fail_pings.filter(not_vga_fail)\n",
    "\n",
    "extracted = fail_pings.map(lambda p: (p['payload/keyedHistograms/CANVAS_WEBGL_FAILURE_ID'].keys()[0],))\n",
    "print fail_pings.count()\n",
    "\n",
    "extracted.countByKey()\n"
   ]
  },
  {
   "cell_type": "code",
   "execution_count": 34,
   "metadata": {
    "collapsed": false
   },
   "outputs": [
    {
     "data": {
      "text/plain": [
       "[{'adapter': {u'GPUActive': True,\n",
       "   u'description': u'Intel(R) 82945G Express Chipset Family',\n",
       "   u'deviceID': u'0x2772',\n",
       "   u'driver': u'ialmrnt5',\n",
       "   u'driverDate': u'2-7-2006',\n",
       "   u'driverVersion': u'6.14.10.4497',\n",
       "   u'subsysID': u'00000000',\n",
       "   u'vendorID': u'0x8086'},\n",
       "  'application/buildId': u'20160611030214',\n",
       "  'clientId': u'29ac0444-e4a3-48c8-abe2-16ce576ae222',\n",
       "  'driverVersion': [6, 14, 10, 4497],\n",
       "  'environment/build/version': u'50.0a1',\n",
       "  'environment/system/gfx/adapters': [{u'GPUActive': True,\n",
       "    u'description': u'Intel(R) 82945G Express Chipset Family',\n",
       "    u'deviceID': u'0x2772',\n",
       "    u'driver': u'ialmrnt5',\n",
       "    u'driverDate': u'2-7-2006',\n",
       "    u'driverVersion': u'6.14.10.4497',\n",
       "    u'subsysID': u'00000000',\n",
       "    u'vendorID': u'0x8086'}],\n",
       "  'environment/system/gfx/features': {u'compositor': u'basic',\n",
       "   u'd2d': {u'status': u'unavailable', u'version': u'1.1'},\n",
       "   u'd3d11': {u'status': u'blacklisted'}},\n",
       "  'environment/system/os/name': u'Windows_NT',\n",
       "  'environment/system/os/servicePackMajor': 3,\n",
       "  'environment/system/os/servicePackMinor': 0,\n",
       "  'environment/system/os/version': u'5.1',\n",
       "  'features': {u'compositor': u'basic',\n",
       "   u'd2d': {u'status': u'unavailable', u'version': u'1.1'},\n",
       "   u'd3d11': {u'status': u'blacklisted'}},\n",
       "  'payload/keyedHistograms/CANVAS_WEBGL_FAILURE_ID': {u'FEATURE_FAILURE_EGL_LIB_INIT': 1L}},\n",
       " {'adapter': {u'GPUActive': True,\n",
       "   u'deviceID': u'0x0000',\n",
       "   u'driver': u'vga framebuf vga256 vga64k',\n",
       "   u'subsysID': u'00000000',\n",
       "   u'vendorID': u'0x0000'},\n",
       "  'application/buildId': u'20160614030210',\n",
       "  'clientId': u'78a63f03-96bb-46b5-9ade-8cf25f44383d',\n",
       "  'environment/build/version': u'50.0a1',\n",
       "  'environment/system/gfx/adapters': [{u'GPUActive': True,\n",
       "    u'deviceID': u'0x0000',\n",
       "    u'driver': u'vga framebuf vga256 vga64k',\n",
       "    u'subsysID': u'00000000',\n",
       "    u'vendorID': u'0x0000'}],\n",
       "  'environment/system/gfx/features': {u'compositor': u'basic',\n",
       "   u'd2d': {u'status': u'unavailable', u'version': u'1.1'},\n",
       "   u'd3d11': {u'status': u'blacklisted'}},\n",
       "  'environment/system/os/name': u'Windows_NT',\n",
       "  'environment/system/os/servicePackMajor': 3,\n",
       "  'environment/system/os/servicePackMinor': 0,\n",
       "  'environment/system/os/version': u'5.1',\n",
       "  'features': {u'compositor': u'basic',\n",
       "   u'd2d': {u'status': u'unavailable', u'version': u'1.1'},\n",
       "   u'd3d11': {u'status': u'blacklisted'}},\n",
       "  'payload/keyedHistograms/CANVAS_WEBGL_FAILURE_ID': {u'FEATURE_FAILURE_EGL_LIB_INIT': 3L}},\n",
       " {'adapter': {u'GPUActive': True,\n",
       "   u'RAM': 3072,\n",
       "   u'description': u'AMD Radeon HD 7900 Series',\n",
       "   u'deviceID': u'0x679a',\n",
       "   u'driver': u'aticfx64 aticfx64 aticfx64 aticfx32 aticfx32 aticfx32 atiumd64 atidxx64 atidxx64 atiumdag atidxx32 atidxx32 atiumdva atiumd6a atitmm64',\n",
       "   u'driverDate': u'6-2-2016',\n",
       "   u'driverVersion': u'16.200.1025.0',\n",
       "   u'subsysID': u'00000000',\n",
       "   u'vendorID': u'0x1002'},\n",
       "  'application/buildId': u'20160611030214',\n",
       "  'clientId': u'300cb491-11ed-4ee2-83d2-98b7fc2a5d08',\n",
       "  'driverVersion': [16, 200, 1025, 0],\n",
       "  'environment/build/version': u'50.0a1',\n",
       "  'environment/system/gfx/adapters': [{u'GPUActive': True,\n",
       "    u'RAM': 3072,\n",
       "    u'description': u'AMD Radeon HD 7900 Series',\n",
       "    u'deviceID': u'0x679a',\n",
       "    u'driver': u'aticfx64 aticfx64 aticfx64 aticfx32 aticfx32 aticfx32 atiumd64 atidxx64 atidxx64 atiumdag atidxx32 atidxx32 atiumdva atiumd6a atitmm64',\n",
       "    u'driverDate': u'6-2-2016',\n",
       "    u'driverVersion': u'16.200.1025.0',\n",
       "    u'subsysID': u'00000000',\n",
       "    u'vendorID': u'0x1002'}],\n",
       "  'environment/system/gfx/features': {u'compositor': u'd3d11',\n",
       "   u'd2d': {u'status': u'available', u'version': u'1.1'},\n",
       "   u'd3d11': {u'blacklisted': False,\n",
       "    u'status': u'available',\n",
       "    u'textureSharing': True,\n",
       "    u'version': 45312,\n",
       "    u'warp': False}},\n",
       "  'environment/system/os/name': u'Windows_NT',\n",
       "  'environment/system/os/servicePackMajor': 0,\n",
       "  'environment/system/os/servicePackMinor': 0,\n",
       "  'environment/system/os/version': u'6.3',\n",
       "  'features': {u'compositor': u'd3d11',\n",
       "   u'd2d': {u'status': u'available', u'version': u'1.1'},\n",
       "   u'd3d11': {u'blacklisted': False,\n",
       "    u'status': u'available',\n",
       "    u'textureSharing': True,\n",
       "    u'version': 45312,\n",
       "    u'warp': False}},\n",
       "  'payload/keyedHistograms/CANVAS_WEBGL_FAILURE_ID': {u'FEATURE_FAILURE_WEBGL_DISABLED': 3L}},\n",
       " {'adapter': {u'GPUActive': True,\n",
       "   u'description': u'Intel(R) 82865G Graphics Controller',\n",
       "   u'deviceID': u'0x2572',\n",
       "   u'driver': u'ialmrnt5',\n",
       "   u'driverDate': u'9-20-2005',\n",
       "   u'driverVersion': u'6.14.10.4396',\n",
       "   u'subsysID': u'019d1028',\n",
       "   u'vendorID': u'0x8086'},\n",
       "  'application/buildId': u'20160611030214',\n",
       "  'clientId': u'2a781714-45a5-469d-a3b2-908e79a69d6f',\n",
       "  'driverVersion': [6, 14, 10, 4396],\n",
       "  'environment/build/version': u'50.0a1',\n",
       "  'environment/system/gfx/adapters': [{u'GPUActive': True,\n",
       "    u'description': u'Intel(R) 82865G Graphics Controller',\n",
       "    u'deviceID': u'0x2572',\n",
       "    u'driver': u'ialmrnt5',\n",
       "    u'driverDate': u'9-20-2005',\n",
       "    u'driverVersion': u'6.14.10.4396',\n",
       "    u'subsysID': u'019d1028',\n",
       "    u'vendorID': u'0x8086'}],\n",
       "  'environment/system/gfx/features': {u'compositor': u'basic',\n",
       "   u'd2d': {u'status': u'unavailable', u'version': u'1.1'},\n",
       "   u'd3d11': {u'status': u'unavailable'}},\n",
       "  'environment/system/os/name': u'Windows_NT',\n",
       "  'environment/system/os/servicePackMajor': 3,\n",
       "  'environment/system/os/servicePackMinor': 0,\n",
       "  'environment/system/os/version': u'5.1',\n",
       "  'features': {u'compositor': u'basic',\n",
       "   u'd2d': {u'status': u'unavailable', u'version': u'1.1'},\n",
       "   u'd3d11': {u'status': u'unavailable'}},\n",
       "  'payload/keyedHistograms/CANVAS_WEBGL_FAILURE_ID': {u'FEATURE_FAILURE_EGL_LIB_INIT': 1L}},\n",
       " {'adapter': {u'GPUActive': True,\n",
       "   u'description': u'Mobile Intel(R) 945 Express Chipset Family',\n",
       "   u'deviceID': u'0x27a2',\n",
       "   u'driver': u'igxprd32',\n",
       "   u'driverDate': u'2-15-2008',\n",
       "   u'driverVersion': u'6.14.10.4926',\n",
       "   u'subsysID': u'201a17aa',\n",
       "   u'vendorID': u'0x8086'},\n",
       "  'application/buildId': u'20160612030220',\n",
       "  'clientId': u'56c5ba86-69bf-4446-94fd-d7ad743d3e55',\n",
       "  'driverVersion': [6, 14, 10, 4926],\n",
       "  'environment/build/version': u'50.0a1',\n",
       "  'environment/system/gfx/adapters': [{u'GPUActive': True,\n",
       "    u'description': u'Mobile Intel(R) 945 Express Chipset Family',\n",
       "    u'deviceID': u'0x27a2',\n",
       "    u'driver': u'igxprd32',\n",
       "    u'driverDate': u'2-15-2008',\n",
       "    u'driverVersion': u'6.14.10.4926',\n",
       "    u'subsysID': u'201a17aa',\n",
       "    u'vendorID': u'0x8086'}],\n",
       "  'environment/system/gfx/features': {u'compositor': u'basic',\n",
       "   u'd2d': {u'status': u'unavailable', u'version': u'1.1'},\n",
       "   u'd3d11': {u'status': u'unavailable'}},\n",
       "  'environment/system/os/name': u'Windows_NT',\n",
       "  'environment/system/os/servicePackMajor': 3,\n",
       "  'environment/system/os/servicePackMinor': 0,\n",
       "  'environment/system/os/version': u'5.1',\n",
       "  'features': {u'compositor': u'basic',\n",
       "   u'd2d': {u'status': u'unavailable', u'version': u'1.1'},\n",
       "   u'd3d11': {u'status': u'unavailable'}},\n",
       "  'payload/keyedHistograms/CANVAS_WEBGL_FAILURE_ID': {u'FEATURE_FAILURE_EGL_LIB_INIT': 12L}}]"
      ]
     },
     "execution_count": 34,
     "metadata": {},
     "output_type": "execute_result"
    }
   ],
   "source": [
    "fail_pings.take(5)"
   ]
  },
  {
   "cell_type": "code",
   "execution_count": 37,
   "metadata": {
    "collapsed": false
   },
   "outputs": [
    {
     "data": {
      "text/plain": [
       "defaultdict(int,\n",
       "            {u'FEATURE_FAILURE_EGL_LIB_INIT': 4,\n",
       "             u'FEATURE_FAILURE_PERF_WARP': 2,\n",
       "             u'FEATURE_FAILURE_WEBGL_DISABLED': 2})"
      ]
     },
     "execution_count": 37,
     "metadata": {},
     "output_type": "execute_result"
    }
   ],
   "source": [
    "win7_pings = fail_pings.filter(lambda p: float(p['environment/system/os/version']) > 5.1)\n",
    "win7_pings.map(lambda p: (p['payload/keyedHistograms/CANVAS_WEBGL_FAILURE_ID'].keys()[0],)).countByKey()\n"
   ]
  },
  {
   "cell_type": "code",
   "execution_count": 41,
   "metadata": {
    "collapsed": false
   },
   "outputs": [
    {
     "data": {
      "text/plain": [
       "defaultdict(int, {u'FEATURE_FAILURE_EGL_LIB_INIT': 4})"
      ]
     },
     "execution_count": 41,
     "metadata": {},
     "output_type": "execute_result"
    }
   ],
   "source": [
    "def expected_dis(p):\n",
    "    k = p['payload/keyedHistograms/CANVAS_WEBGL_FAILURE_ID'].keys()\n",
    "    if k == ['FEATURE_FAILURE_PERF_WARP']:\n",
    "        return False\n",
    "    if k == ['FEATURE_FAILURE_WEBGL_DISABLED']:\n",
    "        return False\n",
    "    return True\n",
    "interesting_win7 = win7_pings.filter(expected_dis)\n",
    "interesting_win7.map(lambda p: (p['payload/keyedHistograms/CANVAS_WEBGL_FAILURE_ID'].keys()[0],)).countByKey()\n"
   ]
  },
  {
   "cell_type": "code",
   "execution_count": 42,
   "metadata": {
    "collapsed": false
   },
   "outputs": [
    {
     "data": {
      "text/plain": [
       "[{'adapter': {u'GPUActive': True,\n",
       "   u'description': u'Intel(R) G33/G31 Express Chipset Family (Microsoft Corporation - WDDM 1.0)',\n",
       "   u'deviceID': u'0x29c2',\n",
       "   u'driver': u'igdumd32',\n",
       "   u'driverDate': u'10-1-2012',\n",
       "   u'driverVersion': u'8.15.10.2697',\n",
       "   u'subsysID': u'29c28086',\n",
       "   u'vendorID': u'0x8086'},\n",
       "  'application/buildId': u'20160614030210',\n",
       "  'clientId': u'3f0a6b58-eeb5-4c1d-b06d-6dd78a22f35c',\n",
       "  'driverVersion': [8, 15, 10, 2697],\n",
       "  'environment/build/version': u'50.0a1',\n",
       "  'environment/system/gfx/adapters': [{u'GPUActive': True,\n",
       "    u'description': u'Intel(R) G33/G31 Express Chipset Family (Microsoft Corporation - WDDM 1.0)',\n",
       "    u'deviceID': u'0x29c2',\n",
       "    u'driver': u'igdumd32',\n",
       "    u'driverDate': u'10-1-2012',\n",
       "    u'driverVersion': u'8.15.10.2697',\n",
       "    u'subsysID': u'29c28086',\n",
       "    u'vendorID': u'0x8086'}],\n",
       "  'environment/system/gfx/features': {u'compositor': u'basic',\n",
       "   u'd2d': {u'status': u'failed', u'version': u'1.1'},\n",
       "   u'd3d11': {u'status': u'failed'}},\n",
       "  'environment/system/os/name': u'Windows_NT',\n",
       "  'environment/system/os/servicePackMajor': 0,\n",
       "  'environment/system/os/servicePackMinor': 0,\n",
       "  'environment/system/os/version': u'10.0',\n",
       "  'features': {u'compositor': u'basic',\n",
       "   u'd2d': {u'status': u'failed', u'version': u'1.1'},\n",
       "   u'd3d11': {u'status': u'failed'}},\n",
       "  'payload/keyedHistograms/CANVAS_WEBGL_FAILURE_ID': {u'FEATURE_FAILURE_EGL_LIB_INIT': 2L}},\n",
       " {'adapter': {u'GPUActive': True,\n",
       "   u'description': u'Intel(R) G33/G31 Express Chipset Family (Microsoft Corporation - WDDM 1.0)',\n",
       "   u'deviceID': u'0x29c2',\n",
       "   u'driver': u'igdumd32',\n",
       "   u'driverDate': u'10-1-2012',\n",
       "   u'driverVersion': u'8.15.10.2697',\n",
       "   u'subsysID': u'02941028',\n",
       "   u'vendorID': u'0x8086'},\n",
       "  'application/buildId': u'20160612030220',\n",
       "  'clientId': u'f85a6f27-ece7-4cb1-b1c6-5a8c6bf18d07',\n",
       "  'driverVersion': [8, 15, 10, 2697],\n",
       "  'environment/build/version': u'50.0a1',\n",
       "  'environment/system/gfx/adapters': [{u'GPUActive': True,\n",
       "    u'description': u'Intel(R) G33/G31 Express Chipset Family (Microsoft Corporation - WDDM 1.0)',\n",
       "    u'deviceID': u'0x29c2',\n",
       "    u'driver': u'igdumd32',\n",
       "    u'driverDate': u'10-1-2012',\n",
       "    u'driverVersion': u'8.15.10.2697',\n",
       "    u'subsysID': u'02941028',\n",
       "    u'vendorID': u'0x8086'}],\n",
       "  'environment/system/gfx/features': {u'compositor': u'basic',\n",
       "   u'd2d': {u'status': u'failed', u'version': u'1.1'},\n",
       "   u'd3d11': {u'status': u'failed'}},\n",
       "  'environment/system/os/name': u'Windows_NT',\n",
       "  'environment/system/os/servicePackMajor': 0,\n",
       "  'environment/system/os/servicePackMinor': 0,\n",
       "  'environment/system/os/version': u'10.0',\n",
       "  'features': {u'compositor': u'basic',\n",
       "   u'd2d': {u'status': u'failed', u'version': u'1.1'},\n",
       "   u'd3d11': {u'status': u'failed'}},\n",
       "  'payload/keyedHistograms/CANVAS_WEBGL_FAILURE_ID': {u'FEATURE_FAILURE_EGL_LIB_INIT': 4L}},\n",
       " {'adapter': {u'GPUActive': True,\n",
       "   u'description': u'Standard VGA Graphics Adapter',\n",
       "   u'deviceID': u'0x0162',\n",
       "   u'driver': u'vga framebuf vga256 vga64k',\n",
       "   u'driverDate': u'6-21-2006',\n",
       "   u'driverVersion': u'6.1.7600.16385',\n",
       "   u'subsysID': u'05771028',\n",
       "   u'vendorID': u'0x8086'},\n",
       "  'application/buildId': u'20160612030220',\n",
       "  'clientId': u'ad1e15f7-e67a-458b-88ca-be8d245fe13c',\n",
       "  'driverVersion': [6, 1, 7600, 16385],\n",
       "  'environment/build/version': u'50.0a1',\n",
       "  'environment/system/gfx/adapters': [{u'GPUActive': True,\n",
       "    u'description': u'Standard VGA Graphics Adapter',\n",
       "    u'deviceID': u'0x0162',\n",
       "    u'driver': u'vga framebuf vga256 vga64k',\n",
       "    u'driverDate': u'6-21-2006',\n",
       "    u'driverVersion': u'6.1.7600.16385',\n",
       "    u'subsysID': u'05771028',\n",
       "    u'vendorID': u'0x8086'}],\n",
       "  'environment/system/gfx/features': {u'compositor': u'basic',\n",
       "   u'd2d': {u'status': u'blacklisted', u'version': u'1.1'},\n",
       "   u'd3d11': {u'status': u'unavailable'}},\n",
       "  'environment/system/os/name': u'Windows_NT',\n",
       "  'environment/system/os/servicePackMajor': 1,\n",
       "  'environment/system/os/servicePackMinor': 0,\n",
       "  'environment/system/os/version': u'6.1',\n",
       "  'features': {u'compositor': u'basic',\n",
       "   u'd2d': {u'status': u'blacklisted', u'version': u'1.1'},\n",
       "   u'd3d11': {u'status': u'unavailable'}},\n",
       "  'payload/keyedHistograms/CANVAS_WEBGL_FAILURE_ID': {u'FEATURE_FAILURE_EGL_LIB_INIT': 12L}},\n",
       " {'adapter': {u'GPUActive': True,\n",
       "   u'description': u'Intel(R) G33/G31 Express Chipset Family (Microsoft Corporation - WDDM 1.0)',\n",
       "   u'deviceID': u'0x29c2',\n",
       "   u'driver': u'igdumd32',\n",
       "   u'driverDate': u'10-1-2012',\n",
       "   u'driverVersion': u'8.15.10.2697',\n",
       "   u'subsysID': u'75291462',\n",
       "   u'vendorID': u'0x8086'},\n",
       "  'application/buildId': u'20160611030214',\n",
       "  'clientId': u'2d1f9488-26c3-4ce6-8f96-9288af7a3c61',\n",
       "  'driverVersion': [8, 15, 10, 2697],\n",
       "  'environment/build/version': u'50.0a1',\n",
       "  'environment/system/gfx/adapters': [{u'GPUActive': True,\n",
       "    u'description': u'Intel(R) G33/G31 Express Chipset Family (Microsoft Corporation - WDDM 1.0)',\n",
       "    u'deviceID': u'0x29c2',\n",
       "    u'driver': u'igdumd32',\n",
       "    u'driverDate': u'10-1-2012',\n",
       "    u'driverVersion': u'8.15.10.2697',\n",
       "    u'subsysID': u'75291462',\n",
       "    u'vendorID': u'0x8086'}],\n",
       "  'environment/system/gfx/features': {u'compositor': u'basic',\n",
       "   u'd2d': {u'status': u'failed', u'version': u'1.1'},\n",
       "   u'd3d11': {u'status': u'failed'}},\n",
       "  'environment/system/os/name': u'Windows_NT',\n",
       "  'environment/system/os/servicePackMajor': 0,\n",
       "  'environment/system/os/servicePackMinor': 0,\n",
       "  'environment/system/os/version': u'10.0',\n",
       "  'features': {u'compositor': u'basic',\n",
       "   u'd2d': {u'status': u'failed', u'version': u'1.1'},\n",
       "   u'd3d11': {u'status': u'failed'}},\n",
       "  'payload/keyedHistograms/CANVAS_WEBGL_FAILURE_ID': {u'FEATURE_FAILURE_EGL_LIB_INIT': 2L}}]"
      ]
     },
     "execution_count": 42,
     "metadata": {},
     "output_type": "execute_result"
    }
   ],
   "source": [
    "interesting_win7.take(4)"
   ]
  },
  {
   "cell_type": "code",
   "execution_count": 43,
   "metadata": {
    "collapsed": false
   },
   "outputs": [
    {
     "data": {
      "text/plain": [
       "defaultdict(int, {u'FEATURE_FAILURE_EGL_LIB_INIT': 34})"
      ]
     },
     "execution_count": 43,
     "metadata": {},
     "output_type": "execute_result"
    }
   ],
   "source": [
    "xp_pings = fail_pings.filter(lambda p: float(p['environment/system/os/version']) == 5.1)\n",
    "xp_pings.map(lambda p: (p['payload/keyedHistograms/CANVAS_WEBGL_FAILURE_ID'].keys()[0],)).countByKey()"
   ]
  },
  {
   "cell_type": "code",
   "execution_count": 44,
   "metadata": {
    "collapsed": false
   },
   "outputs": [
    {
     "data": {
      "text/plain": [
       "defaultdict(int,\n",
       "            {u'0x0000': 5,\n",
       "             u'0x1002': 8,\n",
       "             u'0x10de': 2,\n",
       "             u'0x1106': 1,\n",
       "             u'0x15ad': 1,\n",
       "             u'0x8086': 17})"
      ]
     },
     "execution_count": 44,
     "metadata": {},
     "output_type": "execute_result"
    }
   ],
   "source": [
    "xp_pings.map(lambda p: (p['adapter']['vendorID'],)).countByKey()"
   ]
  },
  {
   "cell_type": "code",
   "execution_count": 53,
   "metadata": {
    "collapsed": false
   },
   "outputs": [
    {
     "data": {
      "text/plain": [
       "defaultdict(int, {u'0x1002': 5, u'0x10de': 6, u'0x8086': 16})"
      ]
     },
     "execution_count": 53,
     "metadata": {},
     "output_type": "execute_result"
    }
   ],
   "source": [
    "not_vga_pings.map(lambda p: (p['adapter']['vendorID'],)).countByKey()"
   ]
  },
  {
   "cell_type": "code",
   "execution_count": 45,
   "metadata": {
    "collapsed": false
   },
   "outputs": [
    {
     "data": {
      "text/plain": [
       "defaultdict(int, {u'gen2': 2, u'gen3': 10, u'gen4': 5})"
      ]
     },
     "execution_count": 45,
     "metadata": {},
     "output_type": "execute_result"
    }
   ],
   "source": [
    "xp_intel_pings = xp_pings.filter(lambda p: p['adapter']['vendorID'] == '0x8086')\n",
    "def do_gen(p):\n",
    "    p['gen'] = devices[int(p['adapter']['deviceID'],16)]\n",
    "    return p\n",
    "    \n",
    "xp_intel_pings = xp_intel_pings.map(do_gen)\n",
    "xp_intel_pings.map(lambda p: (p['gen'],)).countByKey()"
   ]
  },
  {
   "cell_type": "code",
   "execution_count": 55,
   "metadata": {
    "collapsed": false
   },
   "outputs": [
    {
     "data": {
      "text/plain": [
       "defaultdict(int, {u'gen2': 1, u'gen3': 12, u'gen4': 3})"
      ]
     },
     "execution_count": 55,
     "metadata": {},
     "output_type": "execute_result"
    }
   ],
   "source": [
    "intel_pings = not_vga_pings.filter(lambda p: p['adapter']['vendorID'] == '0x8086')\n",
    "nv_pings = not_vga_pings.filter(lambda p: p['adapter']['vendorID'] == '0x10de')\n",
    "def do_gen(p):\n",
    "    p['gen'] = devices[int(p['adapter']['deviceID'],16)]\n",
    "    return p\n",
    "    \n",
    "intel_pings = intel_pings.map(do_gen)\n",
    "intel_pings.map(lambda p: (p['gen'],)).countByKey()"
   ]
  },
  {
   "cell_type": "code",
   "execution_count": 42,
   "metadata": {
    "collapsed": false
   },
   "outputs": [
    {
     "data": {
      "text/plain": [
       "[{'adapter': {u'GPUActive': True,\n",
       "   u'RAM': 4095,\n",
       "   u'description': u'NVIDIA GeForce GTX 970',\n",
       "   u'deviceID': u'0x13c2',\n",
       "   u'driver': u'nvd3dumx,nvwgf2umx,nvwgf2umx,nvwgf2umx nvd3dum,nvwgf2um,nvwgf2um,nvwgf2um',\n",
       "   u'driverDate': u'4-27-2016',\n",
       "   u'driverVersion': u'10.18.13.6510',\n",
       "   u'subsysID': u'39753842',\n",
       "   u'vendorID': u'0x10de'},\n",
       "  'clientId': u'5a171441-eeba-4e82-a356-50120314b974',\n",
       "  'driverVersion': [10, 18, 13, 6510],\n",
       "  'environment/build/version': u'49.0a1',\n",
       "  'environment/system/gfx/adapters': [{u'GPUActive': True,\n",
       "    u'RAM': 4095,\n",
       "    u'description': u'NVIDIA GeForce GTX 970',\n",
       "    u'deviceID': u'0x13c2',\n",
       "    u'driver': u'nvd3dumx,nvwgf2umx,nvwgf2umx,nvwgf2umx nvd3dum,nvwgf2um,nvwgf2um,nvwgf2um',\n",
       "    u'driverDate': u'4-27-2016',\n",
       "    u'driverVersion': u'10.18.13.6510',\n",
       "    u'subsysID': u'39753842',\n",
       "    u'vendorID': u'0x10de'}],\n",
       "  'environment/system/gfx/features': {u'compositor': u'basic',\n",
       "   u'd2d': {u'failureId': u'OK', u'status': u'failed', u'version': u'1.1'},\n",
       "   u'd3d11': {u'failureId': u'OK', u'status': u'failed'},\n",
       "   u'opengl': {u'failureId': u'OK'},\n",
       "   u'webgl': {u'failureId': u'OK'}},\n",
       "  'environment/system/os/name': u'Windows_NT',\n",
       "  'environment/system/os/servicePackMajor': 0,\n",
       "  'environment/system/os/servicePackMinor': 0,\n",
       "  'environment/system/os/version': u'10.0',\n",
       "  'features': {u'compositor': u'basic',\n",
       "   u'd2d': {u'failureId': u'OK', u'status': u'failed', u'version': u'1.1'},\n",
       "   u'd3d11': {u'failureId': u'OK', u'status': u'failed'},\n",
       "   u'opengl': {u'failureId': u'OK'},\n",
       "   u'webgl': {u'failureId': u'OK'}},\n",
       "  'payload/keyedHistograms/CANVAS_WEBGL_FAILURE_ID': {u'FEATURE_FAILURE_WEBGL_ANGLE_INIT': 5L}},\n",
       " {'adapter': {u'GPUActive': True,\n",
       "   u'RAM': 2048,\n",
       "   u'description': u'NVIDIA GeForce GTX 750 Ti',\n",
       "   u'deviceID': u'0x1380',\n",
       "   u'driver': u'nvd3dumx,nvwgf2umx,nvwgf2umx nvd3dum,nvwgf2um,nvwgf2um',\n",
       "   u'driverDate': u'5-9-2016',\n",
       "   u'driverVersion': u'10.18.13.6519',\n",
       "   u'subsysID': u'36811458',\n",
       "   u'vendorID': u'0x10de'},\n",
       "  'clientId': u'24f911d7-b50d-413e-9808-20d45ade8599',\n",
       "  'driverVersion': [10, 18, 13, 6519],\n",
       "  'environment/build/version': u'49.0a1',\n",
       "  'environment/system/gfx/adapters': [{u'GPUActive': True,\n",
       "    u'RAM': 2048,\n",
       "    u'description': u'NVIDIA GeForce GTX 750 Ti',\n",
       "    u'deviceID': u'0x1380',\n",
       "    u'driver': u'nvd3dumx,nvwgf2umx,nvwgf2umx nvd3dum,nvwgf2um,nvwgf2um',\n",
       "    u'driverDate': u'5-9-2016',\n",
       "    u'driverVersion': u'10.18.13.6519',\n",
       "    u'subsysID': u'36811458',\n",
       "    u'vendorID': u'0x10de'}],\n",
       "  'environment/system/gfx/features': {u'compositor': u'd3d11',\n",
       "   u'd2d': {u'failureId': u'OK', u'status': u'available', u'version': u'1.1'},\n",
       "   u'd3d11': {u'blacklisted': False,\n",
       "    u'failureId': u'OK',\n",
       "    u'status': u'available',\n",
       "    u'textureSharing': True,\n",
       "    u'version': 45056,\n",
       "    u'warp': False},\n",
       "   u'opengl': {u'failureId': u'OK'},\n",
       "   u'webgl': {u'failureId': u'OK'}},\n",
       "  'environment/system/os/name': u'Windows_NT',\n",
       "  'environment/system/os/servicePackMajor': 1,\n",
       "  'environment/system/os/servicePackMinor': 0,\n",
       "  'environment/system/os/version': u'6.1',\n",
       "  'features': {u'compositor': u'd3d11',\n",
       "   u'd2d': {u'failureId': u'OK', u'status': u'available', u'version': u'1.1'},\n",
       "   u'd3d11': {u'blacklisted': False,\n",
       "    u'failureId': u'OK',\n",
       "    u'status': u'available',\n",
       "    u'textureSharing': True,\n",
       "    u'version': 45056,\n",
       "    u'warp': False},\n",
       "   u'opengl': {u'failureId': u'OK'},\n",
       "   u'webgl': {u'failureId': u'OK'}},\n",
       "  'payload/keyedHistograms/CANVAS_WEBGL_FAILURE_ID': {u'FEATURE_FAILURE_WEBGL_DISABLED': 1L}},\n",
       " {'adapter': {u'GPUActive': True,\n",
       "   u'description': u'NVIDIA GeForce 6100 nForce 405',\n",
       "   u'deviceID': u'0x03d1',\n",
       "   u'driver': u'nv4_disp',\n",
       "   u'driverDate': u'12-5-2007',\n",
       "   u'driverVersion': u'6.14.11.6921',\n",
       "   u'subsysID': u'73091462',\n",
       "   u'vendorID': u'0x10de'},\n",
       "  'clientId': u'59cc3cf4-2177-404a-9b78-b52126b45af3',\n",
       "  'driverVersion': [6, 14, 11, 6921],\n",
       "  'environment/build/version': u'49.0a1',\n",
       "  'environment/system/gfx/adapters': [{u'GPUActive': True,\n",
       "    u'description': u'NVIDIA GeForce 6100 nForce 405',\n",
       "    u'deviceID': u'0x03d1',\n",
       "    u'driver': u'nv4_disp',\n",
       "    u'driverDate': u'12-5-2007',\n",
       "    u'driverVersion': u'6.14.11.6921',\n",
       "    u'subsysID': u'73091462',\n",
       "    u'vendorID': u'0x10de'}],\n",
       "  'environment/system/gfx/features': {u'compositor': u'basic',\n",
       "   u'd2d': {u'failureId': u'FEATURE_FAILURE_NV_XP',\n",
       "    u'status': u'unavailable',\n",
       "    u'version': u'1.1'},\n",
       "   u'd3d11': {u'failureId': u'FEATURE_FAILURE_NV_XP',\n",
       "    u'status': u'blacklisted'},\n",
       "   u'opengl': {u'failureId': u'FEATURE_FAILURE_NV_XP'},\n",
       "   u'webgl': {u'failureId': u'FEATURE_FAILURE_NV_XP'}},\n",
       "  'environment/system/os/name': u'Windows_NT',\n",
       "  'environment/system/os/servicePackMajor': 3,\n",
       "  'environment/system/os/servicePackMinor': 0,\n",
       "  'environment/system/os/version': u'5.1',\n",
       "  'features': {u'compositor': u'basic',\n",
       "   u'd2d': {u'failureId': u'FEATURE_FAILURE_NV_XP',\n",
       "    u'status': u'unavailable',\n",
       "    u'version': u'1.1'},\n",
       "   u'd3d11': {u'failureId': u'FEATURE_FAILURE_NV_XP',\n",
       "    u'status': u'blacklisted'},\n",
       "   u'opengl': {u'failureId': u'FEATURE_FAILURE_NV_XP'},\n",
       "   u'webgl': {u'failureId': u'FEATURE_FAILURE_NV_XP'}},\n",
       "  'payload/keyedHistograms/CANVAS_WEBGL_FAILURE_ID': {u'FEATURE_FAILURE_WEBGL_ANGLE_INIT': 3L}},\n",
       " {'adapter': {u'GPUActive': True,\n",
       "   u'RAM': 3072,\n",
       "   u'description': u'NVIDIA GeForce GTX 780',\n",
       "   u'deviceID': u'0x1004',\n",
       "   u'driver': u'nvd3dumx,nvwgf2umx,nvwgf2umx,nvwgf2umx nvd3dum,nvwgf2um,nvwgf2um,nvwgf2um',\n",
       "   u'driverDate': u'11-13-2015',\n",
       "   u'driverVersion': u'10.18.13.5900',\n",
       "   u'subsysID': u'00000000',\n",
       "   u'vendorID': u'0x10de'},\n",
       "  'clientId': u'63c18648-7d05-4740-ae96-9e7c8ccb02e8',\n",
       "  'driverVersion': [10, 18, 13, 5900],\n",
       "  'environment/build/version': u'49.0a1',\n",
       "  'environment/system/gfx/adapters': [{u'GPUActive': True,\n",
       "    u'RAM': 3072,\n",
       "    u'description': u'NVIDIA GeForce GTX 780',\n",
       "    u'deviceID': u'0x1004',\n",
       "    u'driver': u'nvd3dumx,nvwgf2umx,nvwgf2umx,nvwgf2umx nvd3dum,nvwgf2um,nvwgf2um,nvwgf2um',\n",
       "    u'driverDate': u'11-13-2015',\n",
       "    u'driverVersion': u'10.18.13.5900',\n",
       "    u'subsysID': u'00000000',\n",
       "    u'vendorID': u'0x10de'}],\n",
       "  'environment/system/gfx/features': {u'compositor': u'd3d11',\n",
       "   u'd2d': {u'failureId': u'OK', u'status': u'disabled', u'version': u'1.1'},\n",
       "   u'd3d11': {u'blacklisted': False,\n",
       "    u'failureId': u'OK',\n",
       "    u'status': u'available',\n",
       "    u'textureSharing': True,\n",
       "    u'version': 45056,\n",
       "    u'warp': False},\n",
       "   u'opengl': {u'failureId': u'OK'},\n",
       "   u'webgl': {u'failureId': u'OK'}},\n",
       "  'environment/system/os/name': u'Windows_NT',\n",
       "  'environment/system/os/servicePackMajor': 0,\n",
       "  'environment/system/os/servicePackMinor': 0,\n",
       "  'environment/system/os/version': u'10.0',\n",
       "  'features': {u'compositor': u'd3d11',\n",
       "   u'd2d': {u'failureId': u'OK', u'status': u'disabled', u'version': u'1.1'},\n",
       "   u'd3d11': {u'blacklisted': False,\n",
       "    u'failureId': u'OK',\n",
       "    u'status': u'available',\n",
       "    u'textureSharing': True,\n",
       "    u'version': 45056,\n",
       "    u'warp': False},\n",
       "   u'opengl': {u'failureId': u'OK'},\n",
       "   u'webgl': {u'failureId': u'OK'}},\n",
       "  'payload/keyedHistograms/CANVAS_WEBGL_FAILURE_ID': {u'FEATURE_FAILURE_WEBGL_DISABLED': 2L}}]"
      ]
     },
     "execution_count": 42,
     "metadata": {},
     "output_type": "execute_result"
    }
   ],
   "source": [
    "nv_pings.take(4)"
   ]
  },
  {
   "cell_type": "code",
   "execution_count": 57,
   "metadata": {
    "collapsed": false
   },
   "outputs": [
    {
     "data": {
      "text/plain": [
       "[{'adapter': {u'GPUActive': True,\n",
       "   u'description': u'Mobile Intel(R) 4 Series Express Chipset Family',\n",
       "   u'deviceID': u'0x2a42',\n",
       "   u'driver': u'igxprd32',\n",
       "   u'driverDate': u'8-25-2008',\n",
       "   u'driverVersion': u'6.14.10.4980',\n",
       "   u'subsysID': u'024d1028',\n",
       "   u'vendorID': u'0x8086'},\n",
       "  'clientId': u'4b055f9c-aed1-4f50-88c8-cff8fc7d72e1',\n",
       "  'driverVersion': [6, 14, 10, 4980],\n",
       "  'environment/build/version': u'49.0a1',\n",
       "  'environment/system/gfx/adapters': [{u'GPUActive': True,\n",
       "    u'description': u'Mobile Intel(R) 4 Series Express Chipset Family',\n",
       "    u'deviceID': u'0x2a42',\n",
       "    u'driver': u'igxprd32',\n",
       "    u'driverDate': u'8-25-2008',\n",
       "    u'driverVersion': u'6.14.10.4980',\n",
       "    u'subsysID': u'024d1028',\n",
       "    u'vendorID': u'0x8086'}],\n",
       "  'environment/system/gfx/features': {u'compositor': u'basic',\n",
       "   u'd2d': {u'failureId': u'FEATURE_FAILURE_DL_BLACKLIST_g984',\n",
       "    u'status': u'unavailable',\n",
       "    u'version': u'1.1'},\n",
       "   u'd3d11': {u'failureId': u'FEATURE_FAILURE_BUG_1153381',\n",
       "    u'status': u'unavailable'},\n",
       "   u'opengl': {u'failureId': u'FEATURE_FAILURE_INTEL_OGL_DIS'},\n",
       "   u'webgl': {u'failureId': u'FEATURE_FAILURE_INTEL_WEBGL_DIS'}},\n",
       "  'environment/system/os/name': u'Windows_NT',\n",
       "  'environment/system/os/servicePackMajor': 3,\n",
       "  'environment/system/os/servicePackMinor': 0,\n",
       "  'environment/system/os/version': u'5.1',\n",
       "  'features': {u'compositor': u'basic',\n",
       "   u'd2d': {u'failureId': u'FEATURE_FAILURE_DL_BLACKLIST_g984',\n",
       "    u'status': u'unavailable',\n",
       "    u'version': u'1.1'},\n",
       "   u'd3d11': {u'failureId': u'FEATURE_FAILURE_BUG_1153381',\n",
       "    u'status': u'unavailable'},\n",
       "   u'opengl': {u'failureId': u'FEATURE_FAILURE_INTEL_OGL_DIS'},\n",
       "   u'webgl': {u'failureId': u'FEATURE_FAILURE_INTEL_WEBGL_DIS'}},\n",
       "  'gen': u'gen4',\n",
       "  'payload/keyedHistograms/CANVAS_WEBGL_FAILURE_ID': {u'FEATURE_FAILURE_WEBGL_ANGLE_INIT': 6L}},\n",
       " {'adapter': {u'GPUActive': True,\n",
       "   u'description': u'Intel(R)  946GZ Express Chipset Family',\n",
       "   u'deviceID': u'0x2972',\n",
       "   u'driver': u'igxprd32',\n",
       "   u'driverDate': u'12-12-2008',\n",
       "   u'driverVersion': u'6.14.10.5016',\n",
       "   u'subsysID': u'101517aa',\n",
       "   u'vendorID': u'0x8086'},\n",
       "  'clientId': u'07dd371f-ec15-49dd-9342-ad9dcedf2030',\n",
       "  'driverVersion': [6, 14, 10, 5016],\n",
       "  'environment/build/version': u'49.0a1',\n",
       "  'environment/system/gfx/adapters': [{u'GPUActive': True,\n",
       "    u'description': u'Intel(R)  946GZ Express Chipset Family',\n",
       "    u'deviceID': u'0x2972',\n",
       "    u'driver': u'igxprd32',\n",
       "    u'driverDate': u'12-12-2008',\n",
       "    u'driverVersion': u'6.14.10.5016',\n",
       "    u'subsysID': u'101517aa',\n",
       "    u'vendorID': u'0x8086'}],\n",
       "  'environment/system/gfx/features': {u'compositor': u'basic',\n",
       "   u'd2d': {u'failureId': u'FEATURE_FAILURE_DL_BLACKLIST_g984',\n",
       "    u'status': u'unavailable',\n",
       "    u'version': u'1.1'},\n",
       "   u'd3d11': {u'failureId': u'FEATURE_FAILURE_INTEL_5',\n",
       "    u'status': u'blacklisted'},\n",
       "   u'opengl': {u'failureId': u'FEATURE_FAILURE_INTEL_5'},\n",
       "   u'webgl': {u'failureId': u'FEATURE_FAILURE_INTEL_5'}},\n",
       "  'environment/system/os/name': u'Windows_NT',\n",
       "  'environment/system/os/servicePackMajor': 3,\n",
       "  'environment/system/os/servicePackMinor': 0,\n",
       "  'environment/system/os/version': u'5.1',\n",
       "  'features': {u'compositor': u'basic',\n",
       "   u'd2d': {u'failureId': u'FEATURE_FAILURE_DL_BLACKLIST_g984',\n",
       "    u'status': u'unavailable',\n",
       "    u'version': u'1.1'},\n",
       "   u'd3d11': {u'failureId': u'FEATURE_FAILURE_INTEL_5',\n",
       "    u'status': u'blacklisted'},\n",
       "   u'opengl': {u'failureId': u'FEATURE_FAILURE_INTEL_5'},\n",
       "   u'webgl': {u'failureId': u'FEATURE_FAILURE_INTEL_5'}},\n",
       "  'gen': u'gen4',\n",
       "  'payload/keyedHistograms/CANVAS_WEBGL_FAILURE_ID': {u'FEATURE_FAILURE_WEBGL_ANGLE_INIT': 12L}},\n",
       " {'adapter': {u'GPUActive': True,\n",
       "   u'description': u'Mobile Intel(R) 965 Express Chipset Family',\n",
       "   u'deviceID': u'0x2a02',\n",
       "   u'driver': u'igxprd32',\n",
       "   u'driverDate': u'6-12-2009',\n",
       "   u'driverVersion': u'6.14.10.5076',\n",
       "   u'subsysID': u'01f91028',\n",
       "   u'vendorID': u'0x8086'},\n",
       "  'clientId': u'318a1907-10bc-45f3-bd8e-b824f94d2369',\n",
       "  'driverVersion': [6, 14, 10, 5076],\n",
       "  'environment/build/version': u'49.0a1',\n",
       "  'environment/system/gfx/adapters': [{u'GPUActive': True,\n",
       "    u'description': u'Mobile Intel(R) 965 Express Chipset Family',\n",
       "    u'deviceID': u'0x2a02',\n",
       "    u'driver': u'igxprd32',\n",
       "    u'driverDate': u'6-12-2009',\n",
       "    u'driverVersion': u'6.14.10.5076',\n",
       "    u'subsysID': u'01f91028',\n",
       "    u'vendorID': u'0x8086'}],\n",
       "  'environment/system/gfx/features': {u'compositor': u'basic',\n",
       "   u'd2d': {u'failureId': u'FEATURE_FAILURE_BLACKLIST_PREF',\n",
       "    u'status': u'unavailable',\n",
       "    u'version': u'1.1'},\n",
       "   u'd3d11': {u'failureId': u'FEATURE_FAILURE_INTEL_5',\n",
       "    u'status': u'blacklisted'},\n",
       "   u'opengl': {u'failureId': u'FEATURE_FAILURE_BLACKLIST_PREF'},\n",
       "   u'webgl': {u'failureId': u'FEATURE_FAILURE_BLACKLIST_PREF'}},\n",
       "  'environment/system/os/name': u'Windows_NT',\n",
       "  'environment/system/os/servicePackMajor': 3,\n",
       "  'environment/system/os/servicePackMinor': 0,\n",
       "  'environment/system/os/version': u'5.1',\n",
       "  'features': {u'compositor': u'basic',\n",
       "   u'd2d': {u'failureId': u'FEATURE_FAILURE_BLACKLIST_PREF',\n",
       "    u'status': u'unavailable',\n",
       "    u'version': u'1.1'},\n",
       "   u'd3d11': {u'failureId': u'FEATURE_FAILURE_INTEL_5',\n",
       "    u'status': u'blacklisted'},\n",
       "   u'opengl': {u'failureId': u'FEATURE_FAILURE_BLACKLIST_PREF'},\n",
       "   u'webgl': {u'failureId': u'FEATURE_FAILURE_BLACKLIST_PREF'}},\n",
       "  'gen': u'gen4',\n",
       "  'payload/keyedHistograms/CANVAS_WEBGL_FAILURE_ID': {u'FEATURE_FAILURE_WEBGL_ANGLE_INIT': 2L}}]"
      ]
     },
     "execution_count": 57,
     "metadata": {},
     "output_type": "execute_result"
    }
   ],
   "source": [
    "intel_pings.filter(lambda p: p['gen'] == 'gen4').take(5)"
   ]
  },
  {
   "cell_type": "code",
   "execution_count": null,
   "metadata": {
    "collapsed": true
   },
   "outputs": [],
   "source": [
    "def webgl_fail(p):\n",
    "    if p['payload/histograms/CANVAS_WEBGL_FAILURE_ID']['SUCCESS'] == 0:\n",
    "        return True\n",
    "\n",
    "     #   return True\n",
    "    return False\n",
    "fail_pings = interesting_pings.filter(webgl_fail)\n",
    "\n",
    "def vga_fail(p):\n",
    "    if 'vga' in p['adapter']['driver']:\n",
    "        return True\n",
    "\n",
    "\n",
    "     #   return True\n",
    "    return False\n",
    "vga_pings = fail_pings.filter(vga_fail)\n",
    "\n",
    "def not_vga_fail(p):\n",
    "    if 'vga' in p['adapter']['driver']:\n",
    "        return False\n",
    "     #   return True\n",
    "    return True\n",
    "not_vga_pings = fail_pings.filter(not_vga_fail)\n",
    "\n",
    "\n",
    "amd1_pings = fail_pings.filter(lambda p: p['features']['webgl']['failureId'] == 'FEATURE_FAILURE_AMD1')\n",
    "\n",
    "\n",
    "\n",
    "#TDRResults = sample_result_1.map(lambda p: p[DeviceResetReasonKey]).reduce(lambda x, y: x + y)\n",
    "#help(pd.Series(TDRResults.values, DeviceResetReason))\n",
    "#print(pd.Series(TDRResults.values[1:8],DeviceResetReason))\n",
    "#pd.Series(TDRResults.values[1:8],DeviceResetReason).plot.bar()\n",
    "#reduce(lambda x, y: sample_result_1.take(2))\n",
    "#sample_result_1.take(1)[0]['payload/histograms/DEVICE_RESET_REASON'])\n",
    "#fail_pings.take(1)\n",
    "def match_count(a, b):\n",
    "    print('{0} out of {1} sessions matched. ({2:.2f}%)'.format(\n",
    "        a.count(),\n",
    "        b.count(),\n",
    "       ((a.count() / b.count()) * 100)))\n",
    "\n",
    "\n",
    "\n",
    "def map_x_to_count(data, sourceKey):\n",
    "    def extract(p):\n",
    "        return (p['adapter'][sourceKey],)\n",
    "    return data.map(extract).countByKey()    \n",
    "match_count(interesting_pings, pings)    \n",
    "match_count(fail_pings, interesting_pings)\n",
    "match_count(vga_pings, fail_pings)\n",
    "match_count(not_vga_pings, fail_pings)\n",
    "match_count(amd1_pings, fail_pings)\n",
    "#map_x_to_count(not_vga_pings, 'driverVersion')\n",
    "#not_vga_pings.take(5)\n",
    "\n",
    "#fail_pings.map(lambda p: (p['features']['webgl']['failureId'],)).countByKey()\n",
    "#amd1_pings.take(23)\n",
    "amd1_pings.map(lambda p: (p['adapter']['driverVersion'],)).countByKey()"
   ]
  },
  {
   "cell_type": "code",
   "execution_count": null,
   "metadata": {
    "collapsed": true
   },
   "outputs": [],
   "source": []
  },
  {
   "cell_type": "code",
   "execution_count": null,
   "metadata": {
    "collapsed": true
   },
   "outputs": [],
   "source": []
  },
  {
   "cell_type": "code",
   "execution_count": null,
   "metadata": {
    "collapsed": true
   },
   "outputs": [],
   "source": []
  },
  {
   "cell_type": "code",
   "execution_count": null,
   "metadata": {
    "collapsed": true
   },
   "outputs": [],
   "source": []
  }
 ],
 "metadata": {
  "kernelspec": {
   "display_name": "Python 2",
   "language": "python",
   "name": "python2"
  },
  "language_info": {
   "codemirror_mode": {
    "name": "ipython",
    "version": 2
   },
   "file_extension": ".py",
   "mimetype": "text/x-python",
   "name": "python",
   "nbconvert_exporter": "python",
   "pygments_lexer": "ipython2",
   "version": "2.7.11"
  }
 },
 "nbformat": 4,
 "nbformat_minor": 0
}
