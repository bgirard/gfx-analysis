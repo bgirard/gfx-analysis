{
 "cells": [
  {
   "cell_type": "code",
   "execution_count": 55,
   "metadata": {
    "collapsed": false
   },
   "outputs": [
    {
     "name": "stdout",
     "output_type": "stream",
     "text": [
      "Populating the interactive namespace from numpy and matplotlib\n"
     ]
    }
   ],
   "source": [
    "import ujson as json\n",
    "import matplotlib.pyplot as plt\n",
    "import pandas as pd\n",
    "import numpy as np\n",
    "import plotly.plotly as py\n",
    "import datetime\n",
    "from __future__ import division\n",
    "\n",
    "from moztelemetry import get_pings, get_pings_properties, get_one_ping_per_client\n",
    "\n",
    "%pylab inline"
   ]
  },
  {
   "cell_type": "code",
   "execution_count": 56,
   "metadata": {
    "collapsed": true
   },
   "outputs": [],
   "source": [
    "# We grab pings starting from 2 days ago until [TimeWindow] days ago.\n",
    "TimeWindow = 1\n",
    "\n",
    "# Additional filters.\n",
    "Filters = {\n",
    "    'app': 'Firefox',\n",
    "    \n",
    "    # We sample 0.5% of pings. For testing, it is beter to use a small number\n",
    "    # here (like 0.001) to speed up processing time.\n",
    "    'fraction': 1,\n",
    "    \n",
    "    # Optionally restrict pings to a single channel.\n",
    "     'channel': 'nightly',\n",
    "}\n",
    "\n",
    "# In case you need them!\n",
    "VendorIDs = {\n",
    "    'Intel': '0x8086',\n",
    "    'NVIDIA': '0x10de',\n",
    "    'AMD': '0x1002',\n",
    "    'ATI': '0x1002'\n",
    "}"
   ]
  },
  {
   "cell_type": "code",
   "execution_count": 57,
   "metadata": {
    "collapsed": false
   },
   "outputs": [],
   "source": [
    "###############################\n",
    "# This section gathers pings. #\n",
    "###############################\n",
    "\n",
    "def run_get_pings():\n",
    "    def fmt_date(d):\n",
    "        return d.strftime(\"%Y%m%d\")\n",
    "    t1 = fmt_date(datetime.datetime.now() - datetime.timedelta(TimeWindow + 0)) # go back 16 days\n",
    "    t2 = fmt_date(datetime.datetime.now() - datetime.timedelta(-1)) # go back 2 days\n",
    "    return get_pings(sc, build_id=(t1, t2), **Filters)\n",
    "\n",
    "# Get pings for the parameters in the previous step.\n",
    "raw_pings = run_get_pings()"
   ]
  },
  {
   "cell_type": "code",
   "execution_count": 58,
   "metadata": {
    "collapsed": false
   },
   "outputs": [],
   "source": [
    "######################################################################\n",
    "# This section takes the raw ping list, then formats and filters it. #\n",
    "######################################################################\n",
    "\n",
    "# Map the pings into a more readable dictionary-like form. To see\n",
    "# what these look like, execute \"pings.take(1)\".\n",
    "unique_pings = get_pings_properties(raw_pings, [\n",
    "  \"clientId\",\n",
    "  \"application/buildId\",\n",
    "  \"environment/build/version\",\n",
    "  \"environment/system/os/name\",\n",
    "  \"environment/system/os/version\",\n",
    "  \"environment/system/os/servicePackMajor\",\n",
    "  \"environment/system/os/servicePackMinor\",\n",
    "  \"environment/system/gfx/adapters\",\n",
    "  \"environment/system/gfx/features\",\n",
    "  \"payload/keyedHistograms/CANVAS_WEBGL_FAILURE_ID\",\n",
    "  \"payload/keyedHistograms/CANVAS_WEBGL_ACCL_FAILURE_ID\"\n",
    "])\n",
    "unique_pings = get_one_ping_per_client(unique_pings)"
   ]
  },
  {
   "cell_type": "code",
   "execution_count": 59,
   "metadata": {
    "collapsed": false
   },
   "outputs": [],
   "source": [
    "# We add two extra steps. The first rewrites the ping to have some\n",
    "# information more easily accessible (like the primary adapter),\n",
    "# and the second step removes any pings that don't have adapter\n",
    "# information.\n",
    "def rewrite_ping(p):\n",
    "    adapters = p.get('environment/system/gfx/adapters', None)\n",
    "    if not adapters:\n",
    "        return None\n",
    "    adapter = adapters[0]\n",
    "            \n",
    "    p['adapter'] = adapter\n",
    "    \n",
    "    features = p.get('environment/system/gfx/features', None)\n",
    "    if features == None:\n",
    "        return None\n",
    "            \n",
    "    p['features'] = features\n",
    "            \n",
    "    # Convert the version to a tuple of integers.\n",
    "    if 'driverVersion' in adapter:\n",
    "        p['driverVersion'] = [int(n) for n in adapter['driverVersion'].split('.') if n.isdigit()]\n",
    "    return p\n",
    "\n",
    "def filter_ping(p):\n",
    "    return p and 'adapter' in p and 'features' in p\n",
    "pings = unique_pings.map(rewrite_ping).filter(filter_ping)\n",
    "pings = pings.cache()\n",
    "# Observe the format of a random ping. This may take some time since it has to\n",
    "# execute the pipeline.\n",
    "#pings.take(1)\n"
   ]
  },
  {
   "cell_type": "code",
   "execution_count": 60,
   "metadata": {
    "collapsed": false
   },
   "outputs": [
    {
     "name": "stdout",
     "output_type": "stream",
     "text": [
      "Number of sessions: 8037\n"
     ]
    }
   ],
   "source": [
    "# Count the total number of sessions in the dataset.\n",
    "TotalSessions = pings.count()\n",
    "print('Number of sessions: {0}'.format(TotalSessions))"
   ]
  },
  {
   "cell_type": "code",
   "execution_count": 62,
   "metadata": {
    "collapsed": false
   },
   "outputs": [
    {
     "data": {
      "text/plain": [
       "defaultdict(int, {u'20160710030217': 7989, u'20160711034039': 48})"
      ]
     },
     "execution_count": 62,
     "metadata": {},
     "output_type": "execute_result"
    }
   ],
   "source": [
    "pings.map(lambda p : p['application/buildId']).countByValue()\n",
    "#def fmt_date(d):\n",
    "#    return d.strftime(\"%Y%m%d\")\n",
    "#fmt_date(datetime.datetime.now()  - datetime.timedelta(-1))"
   ]
  },
  {
   "cell_type": "code",
   "execution_count": 63,
   "metadata": {
    "collapsed": false
   },
   "outputs": [],
   "source": [
    "import json\n",
    "import urllib2\n",
    "\n",
    "gpu_db = json.load(urllib2.urlopen('https://raw.githubusercontent.com/jrmuizel/gpu-db/master/intel.json'))\n",
    "devices = {}\n",
    "for gen in gpu_db['8086'].items():\n",
    "    for chipset in gen[1].items():\n",
    "        for dev in chipset[1]:\n",
    "            #print dev, gen[0]\n",
    "            devices[int(dev,16)] = gen[0]"
   ]
  },
  {
   "cell_type": "code",
   "execution_count": 64,
   "metadata": {
    "collapsed": false
   },
   "outputs": [
    {
     "name": "stdout",
     "output_type": "stream",
     "text": [
      "224\n",
      "222\n"
     ]
    },
    {
     "data": {
      "text/plain": [
       "[{'adapter': {u'GPUActive': True,\n",
       "   u'description': u'Intel(R) HD Graphics 4400',\n",
       "   u'deviceID': u'0x041e',\n",
       "   u'driver': u'igdumdim64 igd10iumd64 igd10iumd64 igd12umd64 igdumdim32 igd10iumd32 igd10iumd32 igd12umd32',\n",
       "   u'driverDate': u'6-13-2016',\n",
       "   u'driverVersion': u'20.19.15.4474',\n",
       "   u'subsysID': u'78171462',\n",
       "   u'vendorID': u'0x8086'},\n",
       "  'application/buildId': u'20160710030217',\n",
       "  'clientId': u'6e110751-742c-4fea-bf03-c01c298ebb5a',\n",
       "  'driverVersion': [20, 19, 15, 4474],\n",
       "  'environment/build/version': u'50.0a1',\n",
       "  'environment/system/gfx/adapters': [{u'GPUActive': True,\n",
       "    u'description': u'Intel(R) HD Graphics 4400',\n",
       "    u'deviceID': u'0x041e',\n",
       "    u'driver': u'igdumdim64 igd10iumd64 igd10iumd64 igd12umd64 igdumdim32 igd10iumd32 igd10iumd32 igd12umd32',\n",
       "    u'driverDate': u'6-13-2016',\n",
       "    u'driverVersion': u'20.19.15.4474',\n",
       "    u'subsysID': u'78171462',\n",
       "    u'vendorID': u'0x8086'}],\n",
       "  'environment/system/gfx/features': {u'compositor': u'd3d11',\n",
       "   u'd2d': {u'status': u'available', u'version': u'1.1'},\n",
       "   u'd3d11': {u'blacklisted': False,\n",
       "    u'status': u'available',\n",
       "    u'textureSharing': True,\n",
       "    u'version': 45312,\n",
       "    u'warp': False}},\n",
       "  'environment/system/os/name': u'Windows_NT',\n",
       "  'environment/system/os/servicePackMajor': 0,\n",
       "  'environment/system/os/servicePackMinor': 0,\n",
       "  'environment/system/os/version': u'10.0',\n",
       "  'features': {u'compositor': u'd3d11',\n",
       "   u'd2d': {u'status': u'available', u'version': u'1.1'},\n",
       "   u'd3d11': {u'blacklisted': False,\n",
       "    u'status': u'available',\n",
       "    u'textureSharing': True,\n",
       "    u'version': 45312,\n",
       "    u'warp': False}},\n",
       "  'payload/keyedHistograms/CANVAS_WEBGL_ACCL_FAILURE_ID': {u'': 1L},\n",
       "  'payload/keyedHistograms/CANVAS_WEBGL_FAILURE_ID': {u'SUCCESS': 1L}}]"
      ]
     },
     "execution_count": 64,
     "metadata": {},
     "output_type": "execute_result"
    }
   ],
   "source": [
    "# Sample filter #1 - how many people are using Intel devices\n",
    "# with a driver less than 8.15.10.2622? (bug 1175366).\n",
    "def sample_filter_1(p):\n",
    "    if not 'vendorID' in p['adapter']:\n",
    "        return False\n",
    "    if not 'driver' in p['adapter']:\n",
    "        return False\n",
    "\n",
    "    if p['payload/keyedHistograms/CANVAS_WEBGL_FAILURE_ID'] is None:\n",
    "        return False\n",
    "    #if devices[int(p['adapter']['deviceID'],16)] in ('gen6'):\n",
    "    #    return True\n",
    "\n",
    "    #if devices[int(p['adapter']['deviceID'],16)] in ('gen7'):\n",
    "\n",
    "     #   return True\n",
    "    return True\n",
    "\n",
    "webgl_interesting_pings = pings.filter(sample_filter_1)\n",
    "print(webgl_interesting_pings.count())\n",
    "interesting_pings = webgl_interesting_pings.filter(lambda p: not p['payload/keyedHistograms/CANVAS_WEBGL_ACCL_FAILURE_ID'] is None)\n",
    "print(interesting_pings.count())\n",
    "interesting_pings.take(1)\n"
   ]
  },
  {
   "cell_type": "code",
   "execution_count": 65,
   "metadata": {
    "collapsed": false
   },
   "outputs": [
    {
     "data": {
      "text/plain": [
       "defaultdict(int,\n",
       "            {u'FEATURE_FAILURE_NO_DISPLAY': 4,\n",
       "             u'FEATURE_FAILURE_WARP_FALLBACK': 5,\n",
       "             u'FEATURE_FAILURE_WEBGL_DISABLED': 2})"
      ]
     },
     "execution_count": 65,
     "metadata": {},
     "output_type": "execute_result"
    }
   ],
   "source": [
    "webgl_fail = webgl_interesting_pings.filter(lambda p: 'SUCCESS' not in p['payload/keyedHistograms/CANVAS_WEBGL_FAILURE_ID'])\n",
    "webgl_fail.map(lambda p: (p['payload/keyedHistograms/CANVAS_WEBGL_FAILURE_ID'].keys()[0],)).countByKey()"
   ]
  },
  {
   "cell_type": "code",
   "execution_count": 66,
   "metadata": {
    "collapsed": false
   },
   "outputs": [
    {
     "data": {
      "text/plain": [
       "[{'adapter': {u'GPUActive': True,\n",
       "   u'description': u'Intel(R) 82945G Express Chipset Family',\n",
       "   u'deviceID': u'0x2772',\n",
       "   u'driver': u'igdumd32',\n",
       "   u'driverDate': u'9-23-2009',\n",
       "   u'driverVersion': u'8.15.10.1930',\n",
       "   u'subsysID': u'00000000',\n",
       "   u'vendorID': u'0x8086'},\n",
       "  'application/buildId': u'20160710030217',\n",
       "  'clientId': u'2877bb89-acca-4254-baca-72e9214e9804',\n",
       "  'driverVersion': [8, 15, 10, 1930],\n",
       "  'environment/build/version': u'50.0a1',\n",
       "  'environment/system/gfx/adapters': [{u'GPUActive': True,\n",
       "    u'description': u'Intel(R) 82945G Express Chipset Family',\n",
       "    u'deviceID': u'0x2772',\n",
       "    u'driver': u'igdumd32',\n",
       "    u'driverDate': u'9-23-2009',\n",
       "    u'driverVersion': u'8.15.10.1930',\n",
       "    u'subsysID': u'00000000',\n",
       "    u'vendorID': u'0x8086'}],\n",
       "  'environment/system/gfx/features': {u'compositor': u'basic',\n",
       "   u'd2d': {u'status': u'blacklisted', u'version': u'1.1'},\n",
       "   u'd3d11': {u'status': u'failed'}},\n",
       "  'environment/system/os/name': u'Windows_NT',\n",
       "  'environment/system/os/servicePackMajor': 1,\n",
       "  'environment/system/os/servicePackMinor': 0,\n",
       "  'environment/system/os/version': u'6.1',\n",
       "  'features': {u'compositor': u'basic',\n",
       "   u'd2d': {u'status': u'blacklisted', u'version': u'1.1'},\n",
       "   u'd3d11': {u'status': u'failed'}},\n",
       "  'payload/keyedHistograms/CANVAS_WEBGL_ACCL_FAILURE_ID': {u'': 10L},\n",
       "  'payload/keyedHistograms/CANVAS_WEBGL_FAILURE_ID': {u'FEATURE_FAILURE_NO_DISPLAY': 10L}},\n",
       " {'adapter': {u'GPUActive': True,\n",
       "   u'description': u'Intel(R) Graphics Media Accelerator 3150',\n",
       "   u'deviceID': u'0xa011',\n",
       "   u'driver': u'igdumd64 igdumdx32',\n",
       "   u'driverDate': u'10-24-2010',\n",
       "   u'driverVersion': u'8.14.10.2230',\n",
       "   u'subsysID': u'00000000',\n",
       "   u'vendorID': u'0x8086'},\n",
       "  'application/buildId': u'20160710030217',\n",
       "  'clientId': u'5fab4882-7010-4ac2-a1a9-4aae0c537e6f',\n",
       "  'driverVersion': [8, 14, 10, 2230],\n",
       "  'environment/build/version': u'50.0a1',\n",
       "  'environment/system/gfx/adapters': [{u'GPUActive': True,\n",
       "    u'description': u'Intel(R) Graphics Media Accelerator 3150',\n",
       "    u'deviceID': u'0xa011',\n",
       "    u'driver': u'igdumd64 igdumdx32',\n",
       "    u'driverDate': u'10-24-2010',\n",
       "    u'driverVersion': u'8.14.10.2230',\n",
       "    u'subsysID': u'00000000',\n",
       "    u'vendorID': u'0x8086'}],\n",
       "  'environment/system/gfx/features': {u'compositor': u'basic',\n",
       "   u'd2d': {u'status': u'unavailable', u'version': u'1.1'},\n",
       "   u'd3d11': {u'status': u'blacklisted'}},\n",
       "  'environment/system/os/name': u'Windows_NT',\n",
       "  'environment/system/os/servicePackMajor': 1,\n",
       "  'environment/system/os/servicePackMinor': 0,\n",
       "  'environment/system/os/version': u'6.1',\n",
       "  'features': {u'compositor': u'basic',\n",
       "   u'd2d': {u'status': u'unavailable', u'version': u'1.1'},\n",
       "   u'd3d11': {u'status': u'blacklisted'}},\n",
       "  'payload/keyedHistograms/CANVAS_WEBGL_ACCL_FAILURE_ID': {u'': 10L},\n",
       "  'payload/keyedHistograms/CANVAS_WEBGL_FAILURE_ID': {u'FEATURE_FAILURE_NO_DISPLAY': 10L}},\n",
       " {'adapter': {u'GPUActive': True,\n",
       "   u'description': u'Radeon X300/X550/X1050 Series',\n",
       "   u'deviceID': u'0x5b63',\n",
       "   u'driver': u'ati2dvag',\n",
       "   u'driverDate': u'2-10-2010',\n",
       "   u'driverVersion': u'8.593.100.0',\n",
       "   u'subsysID': u'1490174b',\n",
       "   u'vendorID': u'0x1002'},\n",
       "  'application/buildId': u'20160710030217',\n",
       "  'clientId': u'777da486-7d5c-48ec-96e2-69ea85473f14',\n",
       "  'driverVersion': [8, 593, 100, 0],\n",
       "  'environment/build/version': u'50.0a1',\n",
       "  'environment/system/gfx/adapters': [{u'GPUActive': True,\n",
       "    u'description': u'Radeon X300/X550/X1050 Series',\n",
       "    u'deviceID': u'0x5b63',\n",
       "    u'driver': u'ati2dvag',\n",
       "    u'driverDate': u'2-10-2010',\n",
       "    u'driverVersion': u'8.593.100.0',\n",
       "    u'subsysID': u'1490174b',\n",
       "    u'vendorID': u'0x1002'}],\n",
       "  'environment/system/gfx/features': {u'compositor': u'basic',\n",
       "   u'd2d': {u'status': u'unavailable', u'version': u'1.1'},\n",
       "   u'd3d11': {u'status': u'unavailable'}},\n",
       "  'environment/system/os/name': u'Windows_NT',\n",
       "  'environment/system/os/servicePackMajor': 3,\n",
       "  'environment/system/os/servicePackMinor': 0,\n",
       "  'environment/system/os/version': u'5.1',\n",
       "  'features': {u'compositor': u'basic',\n",
       "   u'd2d': {u'status': u'unavailable', u'version': u'1.1'},\n",
       "   u'd3d11': {u'status': u'unavailable'}},\n",
       "  'payload/keyedHistograms/CANVAS_WEBGL_ACCL_FAILURE_ID': {u'': 5L},\n",
       "  'payload/keyedHistograms/CANVAS_WEBGL_FAILURE_ID': {u'FEATURE_FAILURE_NO_DISPLAY': 5L}},\n",
       " {'adapter': {u'GPUActive': True,\n",
       "   u'RAM': 3072,\n",
       "   u'description': u'AMD Radeon R9 200 / HD 7900 Series',\n",
       "   u'deviceID': u'0x6798',\n",
       "   u'driver': u'aticfx64 aticfx64 aticfx64 amdxc64 aticfx32 aticfx32 aticfx32 amdxc32 atiumd64 atidxx64 atidxx64 atiumdag atidxx32 atidxx32 atiumdva atiumd6a atitmm64',\n",
       "   u'driverDate': u'7-5-2016',\n",
       "   u'driverVersion': u'16.200.1035.1001',\n",
       "   u'subsysID': u'3000174b',\n",
       "   u'vendorID': u'0x1002'},\n",
       "  'application/buildId': u'20160710030217',\n",
       "  'clientId': u'06a3edee-f549-4e94-8b6e-59dc88a78344',\n",
       "  'driverVersion': [16, 200, 1035, 1001],\n",
       "  'environment/build/version': u'50.0a1',\n",
       "  'environment/system/gfx/adapters': [{u'GPUActive': True,\n",
       "    u'RAM': 3072,\n",
       "    u'description': u'AMD Radeon R9 200 / HD 7900 Series',\n",
       "    u'deviceID': u'0x6798',\n",
       "    u'driver': u'aticfx64 aticfx64 aticfx64 amdxc64 aticfx32 aticfx32 aticfx32 amdxc32 atiumd64 atidxx64 atidxx64 atiumdag atidxx32 atidxx32 atiumdva atiumd6a atitmm64',\n",
       "    u'driverDate': u'7-5-2016',\n",
       "    u'driverVersion': u'16.200.1035.1001',\n",
       "    u'subsysID': u'3000174b',\n",
       "    u'vendorID': u'0x1002'}],\n",
       "  'environment/system/gfx/features': {u'compositor': u'basic',\n",
       "   u'd2d': {u'status': u'unavailable', u'version': u'1.1'},\n",
       "   u'd3d11': {u'status': u'unavailable'}},\n",
       "  'environment/system/os/name': u'Windows_NT',\n",
       "  'environment/system/os/servicePackMajor': 0,\n",
       "  'environment/system/os/servicePackMinor': 0,\n",
       "  'environment/system/os/version': u'10.0',\n",
       "  'features': {u'compositor': u'basic',\n",
       "   u'd2d': {u'status': u'unavailable', u'version': u'1.1'},\n",
       "   u'd3d11': {u'status': u'unavailable'}},\n",
       "  'payload/keyedHistograms/CANVAS_WEBGL_ACCL_FAILURE_ID': {u'': 30L},\n",
       "  'payload/keyedHistograms/CANVAS_WEBGL_FAILURE_ID': {u'FEATURE_FAILURE_NO_DISPLAY': 30L}}]"
      ]
     },
     "execution_count": 66,
     "metadata": {},
     "output_type": "execute_result"
    }
   ],
   "source": [
    "nodisplay_fail = webgl_fail.filter(lambda p: 'FEATURE_FAILURE_NO_DISPLAY' in p['payload/keyedHistograms/CANVAS_WEBGL_FAILURE_ID'])\n",
    "nodisplay_fail.take(4)"
   ]
  },
  {
   "cell_type": "code",
   "execution_count": 67,
   "metadata": {
    "collapsed": false
   },
   "outputs": [
    {
     "name": "stdout",
     "output_type": "stream",
     "text": [
      "8\n"
     ]
    },
    {
     "data": {
      "text/plain": [
       "[{'adapter': {u'GPUActive': True,\n",
       "   u'deviceID': u'0x0000',\n",
       "   u'driver': u'vga framebuf vga256 vga64k',\n",
       "   u'subsysID': u'00000000',\n",
       "   u'vendorID': u'0x0000'},\n",
       "  'application/buildId': u'20160710030217',\n",
       "  'clientId': u'42982cd7-592c-4ded-a67e-75ceee371ad4',\n",
       "  'environment/build/version': u'50.0a1',\n",
       "  'environment/system/gfx/adapters': [{u'GPUActive': True,\n",
       "    u'deviceID': u'0x0000',\n",
       "    u'driver': u'vga framebuf vga256 vga64k',\n",
       "    u'subsysID': u'00000000',\n",
       "    u'vendorID': u'0x0000'}],\n",
       "  'environment/system/gfx/features': {u'compositor': u'basic',\n",
       "   u'd2d': {u'status': u'unavailable', u'version': u'1.1'},\n",
       "   u'd3d11': {u'status': u'blacklisted'}},\n",
       "  'environment/system/os/name': u'Windows_NT',\n",
       "  'environment/system/os/servicePackMajor': 3,\n",
       "  'environment/system/os/servicePackMinor': 0,\n",
       "  'environment/system/os/version': u'5.1',\n",
       "  'features': {u'compositor': u'basic',\n",
       "   u'd2d': {u'status': u'unavailable', u'version': u'1.1'},\n",
       "   u'd3d11': {u'status': u'blacklisted'}},\n",
       "  'payload/keyedHistograms/CANVAS_WEBGL_ACCL_FAILURE_ID': {u'FEATURE_FAILURE_TEST': 8L},\n",
       "  'payload/keyedHistograms/CANVAS_WEBGL_FAILURE_ID': {u'FEATURE_FAILURE_WARP_FALLBACK': 8L}},\n",
       " {'adapter': {u'GPUActive': True,\n",
       "   u'RAM': 0,\n",
       "   u'description': u'Microsoft Basic Display Adapter',\n",
       "   u'deviceID': u'0x3371',\n",
       "   u'driver': u'Unknown',\n",
       "   u'driverDate': u'6-21-2006',\n",
       "   u'driverVersion': u'6.3.9600.16384',\n",
       "   u'subsysID': u'12071565',\n",
       "   u'vendorID': u'0x1106'},\n",
       "  'application/buildId': u'20160710030217',\n",
       "  'clientId': u'299f7695-d185-418d-9358-1d14d042bfdd',\n",
       "  'driverVersion': [6, 3, 9600, 16384],\n",
       "  'environment/build/version': u'50.0a1',\n",
       "  'environment/system/gfx/adapters': [{u'GPUActive': True,\n",
       "    u'RAM': 0,\n",
       "    u'description': u'Microsoft Basic Display Adapter',\n",
       "    u'deviceID': u'0x3371',\n",
       "    u'driver': u'Unknown',\n",
       "    u'driverDate': u'6-21-2006',\n",
       "    u'driverVersion': u'6.3.9600.16384',\n",
       "    u'subsysID': u'12071565',\n",
       "    u'vendorID': u'0x1106'}],\n",
       "  'environment/system/gfx/features': {u'compositor': u'basic',\n",
       "   u'd2d': {u'status': u'unavailable', u'version': u'1.1'},\n",
       "   u'd3d11': {u'status': u'blacklisted'}},\n",
       "  'environment/system/os/name': u'Windows_NT',\n",
       "  'environment/system/os/servicePackMajor': 0,\n",
       "  'environment/system/os/servicePackMinor': 0,\n",
       "  'environment/system/os/version': u'6.2',\n",
       "  'features': {u'compositor': u'basic',\n",
       "   u'd2d': {u'status': u'unavailable', u'version': u'1.1'},\n",
       "   u'd3d11': {u'status': u'blacklisted'}},\n",
       "  'payload/keyedHistograms/CANVAS_WEBGL_ACCL_FAILURE_ID': {u'FEATURE_FAILURE_TEST': 1L},\n",
       "  'payload/keyedHistograms/CANVAS_WEBGL_FAILURE_ID': {u'SUCCESS': 1L}},\n",
       " {'adapter': {u'GPUActive': True,\n",
       "   u'deviceID': u'0x0000',\n",
       "   u'driver': u'RDPDD',\n",
       "   u'subsysID': u'00000000',\n",
       "   u'vendorID': u'0x0000'},\n",
       "  'application/buildId': u'20160710030217',\n",
       "  'clientId': u'ddbbfb3f-ac2c-479d-bea9-3f1a28488097',\n",
       "  'environment/build/version': u'50.0a1',\n",
       "  'environment/system/gfx/adapters': [{u'GPUActive': True,\n",
       "    u'deviceID': u'0x0000',\n",
       "    u'driver': u'RDPDD',\n",
       "    u'subsysID': u'00000000',\n",
       "    u'vendorID': u'0x0000'}],\n",
       "  'environment/system/gfx/features': {u'compositor': u'basic',\n",
       "   u'd2d': {u'status': u'unavailable', u'version': u'1.1'},\n",
       "   u'd3d11': {u'status': u'blacklisted'}},\n",
       "  'environment/system/os/name': u'Windows_NT',\n",
       "  'environment/system/os/servicePackMajor': 2,\n",
       "  'environment/system/os/servicePackMinor': 0,\n",
       "  'environment/system/os/version': u'5.2',\n",
       "  'features': {u'compositor': u'basic',\n",
       "   u'd2d': {u'status': u'unavailable', u'version': u'1.1'},\n",
       "   u'd3d11': {u'status': u'blacklisted'}},\n",
       "  'payload/keyedHistograms/CANVAS_WEBGL_ACCL_FAILURE_ID': {u'FEATURE_FAILURE_TEST': 6L},\n",
       "  'payload/keyedHistograms/CANVAS_WEBGL_FAILURE_ID': {u'FEATURE_FAILURE_WARP_FALLBACK': 6L}},\n",
       " {'adapter': {u'GPUActive': True,\n",
       "   u'description': u'Intel(R) 82945G Express Chipset Family',\n",
       "   u'deviceID': u'0x2772',\n",
       "   u'driver': u'ialmrnt5',\n",
       "   u'driverDate': u'11-28-2005',\n",
       "   u'driverVersion': u'6.14.10.4436',\n",
       "   u'subsysID': u'00000000',\n",
       "   u'vendorID': u'0x8086'},\n",
       "  'application/buildId': u'20160710030217',\n",
       "  'clientId': u'037c2107-8c33-43e3-8ed9-269ff7a99dd0',\n",
       "  'driverVersion': [6, 14, 10, 4436],\n",
       "  'environment/build/version': u'50.0a1',\n",
       "  'environment/system/gfx/adapters': [{u'GPUActive': True,\n",
       "    u'description': u'Intel(R) 82945G Express Chipset Family',\n",
       "    u'deviceID': u'0x2772',\n",
       "    u'driver': u'ialmrnt5',\n",
       "    u'driverDate': u'11-28-2005',\n",
       "    u'driverVersion': u'6.14.10.4436',\n",
       "    u'subsysID': u'00000000',\n",
       "    u'vendorID': u'0x8086'}],\n",
       "  'environment/system/gfx/features': {u'compositor': u'basic',\n",
       "   u'd2d': {u'status': u'unavailable', u'version': u'1.1'},\n",
       "   u'd3d11': {u'status': u'blacklisted'}},\n",
       "  'environment/system/os/name': u'Windows_NT',\n",
       "  'environment/system/os/servicePackMajor': 2,\n",
       "  'environment/system/os/servicePackMinor': 0,\n",
       "  'environment/system/os/version': u'5.1',\n",
       "  'features': {u'compositor': u'basic',\n",
       "   u'd2d': {u'status': u'unavailable', u'version': u'1.1'},\n",
       "   u'd3d11': {u'status': u'blacklisted'}},\n",
       "  'payload/keyedHistograms/CANVAS_WEBGL_ACCL_FAILURE_ID': {u'FEATURE_FAILURE_DL_BLACKLIST_g1057': 4L},\n",
       "  'payload/keyedHistograms/CANVAS_WEBGL_FAILURE_ID': {u'FEATURE_FAILURE_WARP_FALLBACK': 4L}},\n",
       " {'adapter': {u'GPUActive': True,\n",
       "   u'description': u'ATI Mobility Radeon X1300',\n",
       "   u'deviceID': u'0x7149',\n",
       "   u'driver': u'ati2dvag',\n",
       "   u'driverDate': u'5-23-2006',\n",
       "   u'driverVersion': u'8.261.0.0',\n",
       "   u'subsysID': u'20031028',\n",
       "   u'vendorID': u'0x1002'},\n",
       "  'application/buildId': u'20160710030217',\n",
       "  'clientId': u'e098b877-23ca-4903-9019-a384945e1ebc',\n",
       "  'driverVersion': [8, 261, 0, 0],\n",
       "  'environment/build/version': u'50.0a1',\n",
       "  'environment/system/gfx/adapters': [{u'GPUActive': True,\n",
       "    u'description': u'ATI Mobility Radeon X1300',\n",
       "    u'deviceID': u'0x7149',\n",
       "    u'driver': u'ati2dvag',\n",
       "    u'driverDate': u'5-23-2006',\n",
       "    u'driverVersion': u'8.261.0.0',\n",
       "    u'subsysID': u'20031028',\n",
       "    u'vendorID': u'0x1002'}],\n",
       "  'environment/system/gfx/features': {u'compositor': u'basic',\n",
       "   u'd2d': {u'status': u'unavailable', u'version': u'1.1'},\n",
       "   u'd3d11': {u'status': u'blacklisted'}},\n",
       "  'environment/system/os/name': u'Windows_NT',\n",
       "  'environment/system/os/servicePackMajor': 3,\n",
       "  'environment/system/os/servicePackMinor': 0,\n",
       "  'environment/system/os/version': u'5.1',\n",
       "  'features': {u'compositor': u'basic',\n",
       "   u'd2d': {u'status': u'unavailable', u'version': u'1.1'},\n",
       "   u'd3d11': {u'status': u'blacklisted'}},\n",
       "  'payload/keyedHistograms/CANVAS_WEBGL_ACCL_FAILURE_ID': {u'FEATURE_FAILURE_AMD1': 2L},\n",
       "  'payload/keyedHistograms/CANVAS_WEBGL_FAILURE_ID': {u'FEATURE_FAILURE_WARP_FALLBACK': 2L}}]"
      ]
     },
     "execution_count": 67,
     "metadata": {},
     "output_type": "execute_result"
    }
   ],
   "source": [
    "accl_fail = interesting_pings.filter(lambda p: not '' in p['payload/keyedHistograms/CANVAS_WEBGL_ACCL_FAILURE_ID'])\n",
    "print accl_fail.count()\n",
    "accl_fail.take(5)"
   ]
  },
  {
   "cell_type": "code",
   "execution_count": 68,
   "metadata": {
    "collapsed": false
   },
   "outputs": [
    {
     "name": "stdout",
     "output_type": "stream",
     "text": [
      "3\n"
     ]
    },
    {
     "data": {
      "text/plain": [
       "defaultdict(int, {u'10.0': 1, u'6.1': 1, u'6.2': 1})"
      ]
     },
     "execution_count": 68,
     "metadata": {},
     "output_type": "execute_result"
    }
   ],
   "source": [
    "warp_success = accl_fail.filter(lambda p: 'SUCCESS' in p['payload/keyedHistograms/CANVAS_WEBGL_FAILURE_ID'])\n",
    "print warp_success.count()\n",
    "warp_success.map(lambda p: p['environment/system/os/version']).countByValue()"
   ]
  },
  {
   "cell_type": "code",
   "execution_count": 69,
   "metadata": {
    "collapsed": false
   },
   "outputs": [
    {
     "name": "stdout",
     "output_type": "stream",
     "text": [
      "5\n"
     ]
    },
    {
     "data": {
      "text/plain": [
       "defaultdict(int, {u'5.1': 4, u'5.2': 1})"
      ]
     },
     "execution_count": 69,
     "metadata": {},
     "output_type": "execute_result"
    }
   ],
   "source": [
    "warp_fail = accl_fail.filter(lambda p: 'SUCCESS' not in p['payload/keyedHistograms/CANVAS_WEBGL_FAILURE_ID'])\n",
    "print warp_fail.count()\n",
    "warp_fail.map(lambda p: p['environment/system/os/version']).countByValue()"
   ]
  },
  {
   "cell_type": "code",
   "execution_count": 71,
   "metadata": {
    "collapsed": false
   },
   "outputs": [
    {
     "name": "stdout",
     "output_type": "stream",
     "text": [
      "8\n"
     ]
    },
    {
     "data": {
      "text/plain": [
       "defaultdict(int,\n",
       "            {u'FEATURE_FAILURE_AMD1': 1,\n",
       "             u'FEATURE_FAILURE_DL_BLACKLIST_g1057': 2,\n",
       "             u'FEATURE_FAILURE_TEST': 5})"
      ]
     },
     "execution_count": 71,
     "metadata": {},
     "output_type": "execute_result"
    }
   ],
   "source": [
    "print accl_fail.count()\n",
    "accl_fail.map(lambda p: (p['payload/keyedHistograms/CANVAS_WEBGL_ACCL_FAILURE_ID'].keys()[0],)).countByKey()"
   ]
  },
  {
   "cell_type": "code",
   "execution_count": 72,
   "metadata": {
    "collapsed": false
   },
   "outputs": [
    {
     "data": {
      "text/plain": [
       "defaultdict(int, {u'FEATURE_FAILURE_TEST': 4})"
      ]
     },
     "execution_count": 72,
     "metadata": {},
     "output_type": "execute_result"
    }
   ],
   "source": [
    "accl7_fail = accl_fail.filter(lambda p: float(p['environment/system/os/version']) > 5.1)\n",
    "accl7_fail.map(lambda p: (p['payload/keyedHistograms/CANVAS_WEBGL_ACCL_FAILURE_ID'].keys()[0],)).countByKey()"
   ]
  },
  {
   "cell_type": "code",
   "execution_count": null,
   "metadata": {
    "collapsed": true
   },
   "outputs": [],
   "source": []
  },
  {
   "cell_type": "code",
   "execution_count": 33,
   "metadata": {
    "collapsed": false
   },
   "outputs": [
    {
     "data": {
      "text/plain": [
       "defaultdict(int,\n",
       "            {u'6.13.10.3510': 1,\n",
       "             u'6.14.10.3732': 1,\n",
       "             u'6.14.10.3856': 1,\n",
       "             u'6.14.10.4396': 2,\n",
       "             u'6.14.10.4436': 2,\n",
       "             u'6.14.10.4704': 1,\n",
       "             u'6.14.10.4764': 1,\n",
       "             u'6.14.10.4860': 1,\n",
       "             u'6.14.10.4864': 3,\n",
       "             u'6.14.10.4906': 1,\n",
       "             u'6.14.10.4926': 4,\n",
       "             u'6.14.10.4964': 1,\n",
       "             u'6.14.10.5009': 1,\n",
       "             u'6.14.10.5082': 1,\n",
       "             u'6.14.10.5090': 1,\n",
       "             u'6.14.10.5102': 1,\n",
       "             u'6.14.10.5189': 1})"
      ]
     },
     "execution_count": 33,
     "metadata": {},
     "output_type": "execute_result"
    }
   ],
   "source": [
    "dl_fail = accl_fail.filter(lambda p: 'FEATURE_FAILURE_DL_BLACKLIST_g1057' in p['payload/keyedHistograms/CANVAS_WEBGL_ACCL_FAILURE_ID'])\n",
    "dl_fail.map(lambda p: p['adapter']['driverVersion']).countByValue()"
   ]
  },
  {
   "cell_type": "code",
   "execution_count": 20,
   "metadata": {
    "collapsed": false
   },
   "outputs": [
    {
     "name": "stdout",
     "output_type": "stream",
     "text": [
      "defaultdict(<type 'int'>, {u'8.475.0.0': 1, u'6.14.10.6497': 1, u'8.17.0.0': 1, u'8.501.0.0': 1, u'8.403.0.0': 1, u'8.479.0.0': 1, u'8.530.0.0': 1, u'8.204.0.0': 1, u'8.522.0.0': 1})\n",
      "defaultdict(<type 'int'>, {u'0x718a': 1, u'0x791e': 1, u'0x7942': 2, u'0x95c4': 1, u'0x71c5': 1, u'0x4437': 1, u'0x5b63': 1, u'0x5954': 1})\n",
      "defaultdict(<type 'int'>, {u'5.1': 7, u'6.1': 2})\n"
     ]
    }
   ],
   "source": [
    "amd_fail = accl_fail.filter(lambda p: 'FEATURE_FAILURE_AMD1' in p['payload/keyedHistograms/CANVAS_WEBGL_ACCL_FAILURE_ID'])\n",
    "print amd_fail.map(lambda p: p['adapter']['driverVersion']).countByValue()\n",
    "print amd_fail.map(lambda p: p['adapter']['deviceID']).countByValue()\n",
    "\n",
    "print amd_fail.map(lambda p: p['environment/system/os/version']).countByValue()"
   ]
  },
  {
   "cell_type": "code",
   "execution_count": 16,
   "metadata": {
    "collapsed": false
   },
   "outputs": [
    {
     "name": "stdout",
     "output_type": "stream",
     "text": [
      "defaultdict(<type 'int'>, {u'0x0658': 1, u'0x02e2': 1, u'0x0a75': 2, u'0x06ec': 1, u'0x0322': 2, u'0x0402': 1, u'0x0427': 1, u'0x01d3': 1, u'0x03d0': 1, u'0x040c': 1, u'0x0622': 1, u'0x0429': 1, u'0x03d6': 3})\n",
      "defaultdict(<type 'int'>, {u'5.1': 10, u'6.1': 7})\n"
     ]
    },
    {
     "data": {
      "text/plain": [
       "defaultdict(int,\n",
       "            {u'5.6.7.3': 1,\n",
       "             u'6.1.7600.16385': 1,\n",
       "             u'6.14.10.9382': 1,\n",
       "             u'6.14.11.6218': 1,\n",
       "             u'6.14.11.6757': 1,\n",
       "             u'6.14.11.6921': 1,\n",
       "             u'6.14.11.7474': 1,\n",
       "             u'6.14.11.7924': 1,\n",
       "             u'6.14.11.8224': 3,\n",
       "             u'8.15.11.8593': 1,\n",
       "             u'8.15.11.8624': 1,\n",
       "             u'8.15.11.8644': 1,\n",
       "             u'8.16.11.8886': 1,\n",
       "             u'8.16.11.8950': 1,\n",
       "             u'8.16.11.9181': 1})"
      ]
     },
     "execution_count": 16,
     "metadata": {},
     "output_type": "execute_result"
    }
   ],
   "source": [
    "nv_fail = accl_fail.filter(lambda p: 'FEATURE_FAILURE_NV_W7' in p['payload/keyedHistograms/CANVAS_WEBGL_ACCL_FAILURE_ID'] or 'FEATURE_FAILURE_NV_XP' in p['payload/keyedHistograms/CANVAS_WEBGL_ACCL_FAILURE_ID'])\n",
    "\n",
    "print nv_fail.map(lambda p: p['adapter']['deviceID']).countByValue()\n",
    "\n",
    "print nv_fail.map(lambda p: p['environment/system/os/version']).countByValue()\n",
    "nv_fail.map(lambda p: p['adapter']['driverVersion']).countByValue()"
   ]
  },
  {
   "cell_type": "code",
   "execution_count": 22,
   "metadata": {
    "collapsed": false
   },
   "outputs": [
    {
     "name": "stdout",
     "output_type": "stream",
     "text": [
      "defaultdict(<type 'int'>, {u'0x15ad': 3, u'0x00ba': 2, u'0x0000': 9, u'0x1ab8': 1, u'0x80ee': 1, u'0x1106': 1})\n"
     ]
    }
   ],
   "source": [
    "test_fail = accl_fail.filter(lambda p: 'FEATURE_FAILURE_TEST' in p['payload/keyedHistograms/CANVAS_WEBGL_ACCL_FAILURE_ID'])\n",
    "print test_fail.map(lambda p: p['adapter']['vendorID']).countByValue()"
   ]
  },
  {
   "cell_type": "code",
   "execution_count": 14,
   "metadata": {
    "collapsed": false
   },
   "outputs": [
    {
     "name": "stdout",
     "output_type": "stream",
     "text": [
      "198\n"
     ]
    },
    {
     "data": {
      "text/plain": [
       "defaultdict(int,\n",
       "            {u'FEATURE_FAILURE_EGL_LIB_INIT': 188,\n",
       "             u'FEATURE_FAILURE_EGL_OFFSCREEN': 1,\n",
       "             u'FEATURE_FAILURE_PERF_WARP': 6,\n",
       "             u'FEATURE_FAILURE_WEBGL_DISABLED': 3})"
      ]
     },
     "execution_count": 14,
     "metadata": {},
     "output_type": "execute_result"
    }
   ],
   "source": [
    "def webgl_fail(p):\n",
    "    if not 'SUCCESS' in p['payload/keyedHistograms/CANVAS_WEBGL_FAILURE_ID']:\n",
    "        return True\n",
    "\n",
    "     #   return True\n",
    "    return False\n",
    "fail_pings = interesting_pings.filter(webgl_fail)\n",
    "\n",
    "def not_vga_fail(p):\n",
    "    if 'vga' in p['adapter']['driver']:\n",
    "        return False\n",
    "     #   return True\n",
    "    return True\n",
    "not_vga_pings = fail_pings.filter(not_vga_fail)\n",
    "\n",
    "extracted = fail_pings.map(lambda p: (p['payload/keyedHistograms/CANVAS_WEBGL_FAILURE_ID'].keys()[0],))\n",
    "print fail_pings.count()\n",
    "\n",
    "extracted.countByKey()\n"
   ]
  },
  {
   "cell_type": "code",
   "execution_count": null,
   "metadata": {
    "collapsed": true
   },
   "outputs": [],
   "source": []
  },
  {
   "cell_type": "code",
   "execution_count": 15,
   "metadata": {
    "collapsed": false
   },
   "outputs": [
    {
     "data": {
      "text/plain": [
       "[{'adapter': {u'GPUActive': True,\n",
       "   u'description': u'Intel(R) G33/G31 Express Chipset Family',\n",
       "   u'deviceID': u'0x29c2',\n",
       "   u'driver': u'igxprd32',\n",
       "   u'driverDate': u'11-3-2008',\n",
       "   u'driverVersion': u'6.14.10.5009',\n",
       "   u'subsysID': u'00000000',\n",
       "   u'vendorID': u'0x8086'},\n",
       "  'application/buildId': u'20160625004039',\n",
       "  'clientId': u'cc3da994-b2ee-4431-a5b0-73f301329c89',\n",
       "  'driverVersion': [6, 14, 10, 5009],\n",
       "  'environment/build/version': u'49.0a2',\n",
       "  'environment/system/gfx/adapters': [{u'GPUActive': True,\n",
       "    u'description': u'Intel(R) G33/G31 Express Chipset Family',\n",
       "    u'deviceID': u'0x29c2',\n",
       "    u'driver': u'igxprd32',\n",
       "    u'driverDate': u'11-3-2008',\n",
       "    u'driverVersion': u'6.14.10.5009',\n",
       "    u'subsysID': u'00000000',\n",
       "    u'vendorID': u'0x8086'}],\n",
       "  'environment/system/gfx/features': {u'compositor': u'basic',\n",
       "   u'd2d': {u'status': u'unavailable', u'version': u'1.1'},\n",
       "   u'd3d11': {u'status': u'blacklisted'}},\n",
       "  'environment/system/os/name': u'Windows_NT',\n",
       "  'environment/system/os/servicePackMajor': 3,\n",
       "  'environment/system/os/servicePackMinor': 0,\n",
       "  'environment/system/os/version': u'5.1',\n",
       "  'features': {u'compositor': u'basic',\n",
       "   u'd2d': {u'status': u'unavailable', u'version': u'1.1'},\n",
       "   u'd3d11': {u'status': u'blacklisted'}},\n",
       "  'payload/keyedHistograms/CANVAS_WEBGL_FAILURE_ID': {u'FEATURE_FAILURE_EGL_LIB_INIT': 8L}},\n",
       " {'adapter': {u'GPUActive': True,\n",
       "   u'description': u'Intel(R) G41 Express Chipset',\n",
       "   u'deviceID': u'0x2e32',\n",
       "   u'driver': u'igxprd32',\n",
       "   u'driverDate': u'11-3-2008',\n",
       "   u'driverVersion': u'6.14.10.5009',\n",
       "   u'subsysID': u'304f17aa',\n",
       "   u'vendorID': u'0x8086'},\n",
       "  'application/buildId': u'20160626004021',\n",
       "  'clientId': u'1446e944-7197-4182-90b5-e885710f6028',\n",
       "  'driverVersion': [6, 14, 10, 5009],\n",
       "  'environment/build/version': u'49.0a2',\n",
       "  'environment/system/gfx/adapters': [{u'GPUActive': True,\n",
       "    u'description': u'Intel(R) G41 Express Chipset',\n",
       "    u'deviceID': u'0x2e32',\n",
       "    u'driver': u'igxprd32',\n",
       "    u'driverDate': u'11-3-2008',\n",
       "    u'driverVersion': u'6.14.10.5009',\n",
       "    u'subsysID': u'304f17aa',\n",
       "    u'vendorID': u'0x8086'}],\n",
       "  'environment/system/gfx/features': {u'compositor': u'basic',\n",
       "   u'd2d': {u'status': u'unavailable', u'version': u'1.1'},\n",
       "   u'd3d11': {u'status': u'blacklisted'}},\n",
       "  'environment/system/os/name': u'Windows_NT',\n",
       "  'environment/system/os/servicePackMajor': 3,\n",
       "  'environment/system/os/servicePackMinor': 0,\n",
       "  'environment/system/os/version': u'5.1',\n",
       "  'features': {u'compositor': u'basic',\n",
       "   u'd2d': {u'status': u'unavailable', u'version': u'1.1'},\n",
       "   u'd3d11': {u'status': u'blacklisted'}},\n",
       "  'payload/keyedHistograms/CANVAS_WEBGL_FAILURE_ID': {u'FEATURE_FAILURE_EGL_LIB_INIT': 25L}},\n",
       " {'adapter': {u'GPUActive': True,\n",
       "   u'description': u'Radeon X300/X550/X1050 Series (Microsoft Corporation - WDDM) ',\n",
       "   u'deviceID': u'0x5b60',\n",
       "   u'driver': u'atiumdag atiumdva atiumd64 atiumd6a atitmm64',\n",
       "   u'driverDate': u'4-25-2009',\n",
       "   u'driverVersion': u'8.56.1.16',\n",
       "   u'subsysID': u'0f021002',\n",
       "   u'vendorID': u'0x1002'},\n",
       "  'application/buildId': u'20160625004039',\n",
       "  'clientId': u'fcfdd6b0-d1a8-4c80-8b7e-88bec1418dd2',\n",
       "  'driverVersion': [8, 56, 1, 16],\n",
       "  'environment/build/version': u'49.0a2',\n",
       "  'environment/system/gfx/adapters': [{u'GPUActive': True,\n",
       "    u'description': u'Radeon X300/X550/X1050 Series (Microsoft Corporation - WDDM) ',\n",
       "    u'deviceID': u'0x5b60',\n",
       "    u'driver': u'atiumdag atiumdva atiumd64 atiumd6a atitmm64',\n",
       "    u'driverDate': u'4-25-2009',\n",
       "    u'driverVersion': u'8.56.1.16',\n",
       "    u'subsysID': u'0f021002',\n",
       "    u'vendorID': u'0x1002'}],\n",
       "  'environment/system/gfx/features': {u'compositor': u'basic',\n",
       "   u'd2d': {u'status': u'failed', u'version': u'1.1'},\n",
       "   u'd3d11': {u'status': u'failed'}},\n",
       "  'environment/system/os/name': u'Windows_NT',\n",
       "  'environment/system/os/servicePackMajor': 1,\n",
       "  'environment/system/os/servicePackMinor': 0,\n",
       "  'environment/system/os/version': u'6.1',\n",
       "  'features': {u'compositor': u'basic',\n",
       "   u'd2d': {u'status': u'failed', u'version': u'1.1'},\n",
       "   u'd3d11': {u'status': u'failed'}},\n",
       "  'payload/keyedHistograms/CANVAS_WEBGL_FAILURE_ID': {u'FEATURE_FAILURE_EGL_LIB_INIT': 4L}},\n",
       " {'adapter': {u'GPUActive': True,\n",
       "   u'description': u'Intel(R)  Q965/Q963 Express Chipset Family',\n",
       "   u'deviceID': u'0x2992',\n",
       "   u'driver': u'igxprd32',\n",
       "   u'driverDate': u'3-17-2008',\n",
       "   u'driverVersion': u'6.14.10.4935',\n",
       "   u'subsysID': u'2802103c',\n",
       "   u'vendorID': u'0x8086'},\n",
       "  'application/buildId': u'20160626004021',\n",
       "  'clientId': u'da98c5c7-1aa1-484b-aacb-9a08f7e13a84',\n",
       "  'driverVersion': [6, 14, 10, 4935],\n",
       "  'environment/build/version': u'49.0a2',\n",
       "  'environment/system/gfx/adapters': [{u'GPUActive': True,\n",
       "    u'description': u'Intel(R)  Q965/Q963 Express Chipset Family',\n",
       "    u'deviceID': u'0x2992',\n",
       "    u'driver': u'igxprd32',\n",
       "    u'driverDate': u'3-17-2008',\n",
       "    u'driverVersion': u'6.14.10.4935',\n",
       "    u'subsysID': u'2802103c',\n",
       "    u'vendorID': u'0x8086'}],\n",
       "  'environment/system/gfx/features': {u'compositor': u'basic',\n",
       "   u'd2d': {u'status': u'unavailable', u'version': u'1.1'},\n",
       "   u'd3d11': {u'status': u'blacklisted'}},\n",
       "  'environment/system/os/name': u'Windows_NT',\n",
       "  'environment/system/os/servicePackMajor': 3,\n",
       "  'environment/system/os/servicePackMinor': 0,\n",
       "  'environment/system/os/version': u'5.1',\n",
       "  'features': {u'compositor': u'basic',\n",
       "   u'd2d': {u'status': u'unavailable', u'version': u'1.1'},\n",
       "   u'd3d11': {u'status': u'blacklisted'}},\n",
       "  'payload/keyedHistograms/CANVAS_WEBGL_FAILURE_ID': {u'FEATURE_FAILURE_EGL_LIB_INIT': 2L}},\n",
       " {'adapter': {u'GPUActive': True,\n",
       "   u'description': u'ATI RADEON XPRESS 200 Series',\n",
       "   u'deviceID': u'0x5a61',\n",
       "   u'driver': u'ati2dvag',\n",
       "   u'driverDate': u'2-10-2010',\n",
       "   u'driverVersion': u'8.593.100.0',\n",
       "   u'subsysID': u'72541462',\n",
       "   u'vendorID': u'0x1002'},\n",
       "  'application/buildId': u'20160626004021',\n",
       "  'clientId': u'd9dbd36f-e131-4eaf-be24-c49f221f2db8',\n",
       "  'driverVersion': [8, 593, 100, 0],\n",
       "  'environment/build/version': u'49.0a2',\n",
       "  'environment/system/gfx/adapters': [{u'GPUActive': True,\n",
       "    u'description': u'ATI RADEON XPRESS 200 Series',\n",
       "    u'deviceID': u'0x5a61',\n",
       "    u'driver': u'ati2dvag',\n",
       "    u'driverDate': u'2-10-2010',\n",
       "    u'driverVersion': u'8.593.100.0',\n",
       "    u'subsysID': u'72541462',\n",
       "    u'vendorID': u'0x1002'}],\n",
       "  'environment/system/gfx/features': {u'compositor': u'basic',\n",
       "   u'd2d': {u'status': u'unavailable', u'version': u'1.1'},\n",
       "   u'd3d11': {u'status': u'unavailable'}},\n",
       "  'environment/system/os/name': u'Windows_NT',\n",
       "  'environment/system/os/servicePackMajor': 3,\n",
       "  'environment/system/os/servicePackMinor': 0,\n",
       "  'environment/system/os/version': u'5.1',\n",
       "  'features': {u'compositor': u'basic',\n",
       "   u'd2d': {u'status': u'unavailable', u'version': u'1.1'},\n",
       "   u'd3d11': {u'status': u'unavailable'}},\n",
       "  'payload/keyedHistograms/CANVAS_WEBGL_FAILURE_ID': {u'FEATURE_FAILURE_EGL_LIB_INIT': 2L}}]"
      ]
     },
     "execution_count": 15,
     "metadata": {},
     "output_type": "execute_result"
    }
   ],
   "source": [
    "fail_pings.take(5)"
   ]
  },
  {
   "cell_type": "code",
   "execution_count": 16,
   "metadata": {
    "collapsed": false
   },
   "outputs": [
    {
     "data": {
      "text/plain": [
       "defaultdict(int,\n",
       "            {u'FEATURE_FAILURE_EGL_LIB_INIT': 34,\n",
       "             u'FEATURE_FAILURE_EGL_OFFSCREEN': 1,\n",
       "             u'FEATURE_FAILURE_PERF_WARP': 6,\n",
       "             u'FEATURE_FAILURE_WEBGL_DISABLED': 3})"
      ]
     },
     "execution_count": 16,
     "metadata": {},
     "output_type": "execute_result"
    }
   ],
   "source": [
    "win7_pings = fail_pings.filter(lambda p: float(p['environment/system/os/version']) > 5.1)\n",
    "win7_pings.map(lambda p: (p['payload/keyedHistograms/CANVAS_WEBGL_FAILURE_ID'].keys()[0],)).countByKey()\n"
   ]
  },
  {
   "cell_type": "code",
   "execution_count": 17,
   "metadata": {
    "collapsed": false
   },
   "outputs": [
    {
     "data": {
      "text/plain": [
       "defaultdict(int,\n",
       "            {u'FEATURE_FAILURE_EGL_LIB_INIT': 34,\n",
       "             u'FEATURE_FAILURE_EGL_OFFSCREEN': 1})"
      ]
     },
     "execution_count": 17,
     "metadata": {},
     "output_type": "execute_result"
    }
   ],
   "source": [
    "def expected_dis(p):\n",
    "    k = p['payload/keyedHistograms/CANVAS_WEBGL_FAILURE_ID'].keys()\n",
    "    if k == ['FEATURE_FAILURE_PERF_WARP']:\n",
    "        return False\n",
    "    if k == ['FEATURE_FAILURE_WEBGL_DISABLED']:\n",
    "        return False\n",
    "    return True\n",
    "interesting_win7 = win7_pings.filter(expected_dis)\n",
    "interesting_win7.map(lambda p: (p['payload/keyedHistograms/CANVAS_WEBGL_FAILURE_ID'].keys()[0],)).countByKey()\n"
   ]
  },
  {
   "cell_type": "code",
   "execution_count": 24,
   "metadata": {
    "collapsed": false
   },
   "outputs": [
    {
     "data": {
      "text/plain": [
       "[{'adapter': {u'GPUActive': True,\n",
       "   u'description': u'Radeon X300/X550/X1050 Series (Microsoft Corporation - WDDM) ',\n",
       "   u'deviceID': u'0x5b60',\n",
       "   u'driver': u'atiumdag atiumdva atiumd64 atiumd6a atitmm64',\n",
       "   u'driverDate': u'4-25-2009',\n",
       "   u'driverVersion': u'8.56.1.16',\n",
       "   u'subsysID': u'0f021002',\n",
       "   u'vendorID': u'0x1002'},\n",
       "  'application/buildId': u'20160625004039',\n",
       "  'clientId': u'fcfdd6b0-d1a8-4c80-8b7e-88bec1418dd2',\n",
       "  'driverVersion': [8, 56, 1, 16],\n",
       "  'environment/build/version': u'49.0a2',\n",
       "  'environment/system/gfx/adapters': [{u'GPUActive': True,\n",
       "    u'description': u'Radeon X300/X550/X1050 Series (Microsoft Corporation - WDDM) ',\n",
       "    u'deviceID': u'0x5b60',\n",
       "    u'driver': u'atiumdag atiumdva atiumd64 atiumd6a atitmm64',\n",
       "    u'driverDate': u'4-25-2009',\n",
       "    u'driverVersion': u'8.56.1.16',\n",
       "    u'subsysID': u'0f021002',\n",
       "    u'vendorID': u'0x1002'}],\n",
       "  'environment/system/gfx/features': {u'compositor': u'basic',\n",
       "   u'd2d': {u'status': u'failed', u'version': u'1.1'},\n",
       "   u'd3d11': {u'status': u'failed'}},\n",
       "  'environment/system/os/name': u'Windows_NT',\n",
       "  'environment/system/os/servicePackMajor': 1,\n",
       "  'environment/system/os/servicePackMinor': 0,\n",
       "  'environment/system/os/version': u'6.1',\n",
       "  'features': {u'compositor': u'basic',\n",
       "   u'd2d': {u'status': u'failed', u'version': u'1.1'},\n",
       "   u'd3d11': {u'status': u'failed'}},\n",
       "  'payload/keyedHistograms/CANVAS_WEBGL_FAILURE_ID': {u'FEATURE_FAILURE_EGL_LIB_INIT': 4L}},\n",
       " {'adapter': {u'GPUActive': True,\n",
       "   u'description': u'Standard VGA Graphics Adapter',\n",
       "   u'deviceID': u'0x0162',\n",
       "   u'driver': u'vga framebuf vga256 vga64k',\n",
       "   u'driverDate': u'6-21-2006',\n",
       "   u'driverVersion': u'6.1.7600.16385',\n",
       "   u'subsysID': u'365e17aa',\n",
       "   u'vendorID': u'0x8086'},\n",
       "  'application/buildId': u'20160626004021',\n",
       "  'clientId': u'a82a86ee-5c61-4d51-ab63-aaf08d394edb',\n",
       "  'driverVersion': [6, 1, 7600, 16385],\n",
       "  'environment/build/version': u'49.0a2',\n",
       "  'environment/system/gfx/adapters': [{u'GPUActive': True,\n",
       "    u'description': u'Standard VGA Graphics Adapter',\n",
       "    u'deviceID': u'0x0162',\n",
       "    u'driver': u'vga framebuf vga256 vga64k',\n",
       "    u'driverDate': u'6-21-2006',\n",
       "    u'driverVersion': u'6.1.7600.16385',\n",
       "    u'subsysID': u'365e17aa',\n",
       "    u'vendorID': u'0x8086'}],\n",
       "  'environment/system/gfx/features': {u'compositor': u'basic',\n",
       "   u'd2d': {u'status': u'blacklisted', u'version': u'1.1'},\n",
       "   u'd3d11': {u'status': u'unavailable'}},\n",
       "  'environment/system/os/name': u'Windows_NT',\n",
       "  'environment/system/os/servicePackMajor': 1,\n",
       "  'environment/system/os/servicePackMinor': 0,\n",
       "  'environment/system/os/version': u'6.1',\n",
       "  'features': {u'compositor': u'basic',\n",
       "   u'd2d': {u'status': u'blacklisted', u'version': u'1.1'},\n",
       "   u'd3d11': {u'status': u'unavailable'}},\n",
       "  'payload/keyedHistograms/CANVAS_WEBGL_FAILURE_ID': {u'FEATURE_FAILURE_EGL_LIB_INIT': 28L}},\n",
       " {'adapter': {u'GPUActive': True,\n",
       "   u'description': u'Intel(R) Graphics Media Accelerator 3150',\n",
       "   u'deviceID': u'0xa011',\n",
       "   u'driver': u'igdumdx32',\n",
       "   u'driverDate': u'10-24-2010',\n",
       "   u'driverVersion': u'8.14.10.2230',\n",
       "   u'subsysID': u'00000000',\n",
       "   u'vendorID': u'0x8086'},\n",
       "  'application/buildId': u'20160627004013',\n",
       "  'clientId': u'c13b1462-19ca-4364-9816-d4d55398645c',\n",
       "  'driverVersion': [8, 14, 10, 2230],\n",
       "  'environment/build/version': u'49.0a2',\n",
       "  'environment/system/gfx/adapters': [{u'GPUActive': True,\n",
       "    u'description': u'Intel(R) Graphics Media Accelerator 3150',\n",
       "    u'deviceID': u'0xa011',\n",
       "    u'driver': u'igdumdx32',\n",
       "    u'driverDate': u'10-24-2010',\n",
       "    u'driverVersion': u'8.14.10.2230',\n",
       "    u'subsysID': u'00000000',\n",
       "    u'vendorID': u'0x8086'}],\n",
       "  'environment/system/gfx/features': {u'compositor': u'basic',\n",
       "   u'd2d': {u'status': u'unavailable', u'version': u'1.1'},\n",
       "   u'd3d11': {u'status': u'blacklisted'}},\n",
       "  'environment/system/os/name': u'Windows_NT',\n",
       "  'environment/system/os/servicePackMajor': 0,\n",
       "  'environment/system/os/servicePackMinor': 0,\n",
       "  'environment/system/os/version': u'6.1',\n",
       "  'features': {u'compositor': u'basic',\n",
       "   u'd2d': {u'status': u'unavailable', u'version': u'1.1'},\n",
       "   u'd3d11': {u'status': u'blacklisted'}},\n",
       "  'payload/keyedHistograms/CANVAS_WEBGL_FAILURE_ID': {u'FEATURE_FAILURE_EGL_LIB_INIT': 4L}},\n",
       " {'adapter': {u'GPUActive': True,\n",
       "   u'description': u'Intel(R) HD Graphics Family',\n",
       "   u'deviceID': u'0x0102',\n",
       "   u'driver': u'igdumdx32 igd10umd32 igd10umd32',\n",
       "   u'driverDate': u'12-29-2010',\n",
       "   u'driverVersion': u'8.15.10.2274',\n",
       "   u'subsysID': u'00000000',\n",
       "   u'vendorID': u'0x8086'},\n",
       "  'application/buildId': u'20160626004021',\n",
       "  'clientId': u'b9a5047c-c2fa-46bd-8004-7712a1be0083',\n",
       "  'driverVersion': [8, 15, 10, 2274],\n",
       "  'environment/build/version': u'49.0a2',\n",
       "  'environment/system/gfx/adapters': [{u'GPUActive': True,\n",
       "    u'description': u'Intel(R) HD Graphics Family',\n",
       "    u'deviceID': u'0x0102',\n",
       "    u'driver': u'igdumdx32 igd10umd32 igd10umd32',\n",
       "    u'driverDate': u'12-29-2010',\n",
       "    u'driverVersion': u'8.15.10.2274',\n",
       "    u'subsysID': u'00000000',\n",
       "    u'vendorID': u'0x8086'}],\n",
       "  'environment/system/gfx/features': {u'compositor': u'basic',\n",
       "   u'd2d': {u'status': u'blacklisted', u'version': u'1.1'},\n",
       "   u'd3d11': {u'status': u'failed'}},\n",
       "  'environment/system/os/name': u'Windows_NT',\n",
       "  'environment/system/os/servicePackMajor': 1,\n",
       "  'environment/system/os/servicePackMinor': 0,\n",
       "  'environment/system/os/version': u'6.1',\n",
       "  'features': {u'compositor': u'basic',\n",
       "   u'd2d': {u'status': u'blacklisted', u'version': u'1.1'},\n",
       "   u'd3d11': {u'status': u'failed'}},\n",
       "  'payload/keyedHistograms/CANVAS_WEBGL_FAILURE_ID': {u'FEATURE_FAILURE_EGL_LIB_INIT': 2L}}]"
      ]
     },
     "execution_count": 24,
     "metadata": {},
     "output_type": "execute_result"
    }
   ],
   "source": [
    "interesting_win7.take(4)"
   ]
  },
  {
   "cell_type": "code",
   "execution_count": 25,
   "metadata": {
    "collapsed": false
   },
   "outputs": [
    {
     "data": {
      "text/plain": [
       "defaultdict(int, {u'gen3': 21, u'gen4': 1, u'gen6': 2, u'gen7': 6})"
      ]
     },
     "execution_count": 25,
     "metadata": {},
     "output_type": "execute_result"
    }
   ],
   "source": [
    "win7_intel_pings = interesting_win7.filter(lambda p: p['adapter']['vendorID'] == '0x8086')\n",
    "def do_gen(p):\n",
    "    p['gen'] = devices[int(p['adapter']['deviceID'],16)]\n",
    "    return p\n",
    "    \n",
    "win7_intel_pings = win7_intel_pings.map(do_gen)\n",
    "win7_intel_pings.map(lambda p: (p['gen'],)).countByKey()"
   ]
  },
  {
   "cell_type": "code",
   "execution_count": 27,
   "metadata": {
    "collapsed": false
   },
   "outputs": [
    {
     "data": {
      "text/plain": [
       "[{'adapter': {u'GPUActive': True,\n",
       "   u'description': u'Intel(R) HD Graphics Family',\n",
       "   u'deviceID': u'0x0102',\n",
       "   u'driver': u'igdumdx32 igd10umd32 igd10umd32',\n",
       "   u'driverDate': u'12-29-2010',\n",
       "   u'driverVersion': u'8.15.10.2274',\n",
       "   u'subsysID': u'00000000',\n",
       "   u'vendorID': u'0x8086'},\n",
       "  'application/buildId': u'20160626004021',\n",
       "  'clientId': u'b9a5047c-c2fa-46bd-8004-7712a1be0083',\n",
       "  'driverVersion': [8, 15, 10, 2274],\n",
       "  'environment/build/version': u'49.0a2',\n",
       "  'environment/system/gfx/adapters': [{u'GPUActive': True,\n",
       "    u'description': u'Intel(R) HD Graphics Family',\n",
       "    u'deviceID': u'0x0102',\n",
       "    u'driver': u'igdumdx32 igd10umd32 igd10umd32',\n",
       "    u'driverDate': u'12-29-2010',\n",
       "    u'driverVersion': u'8.15.10.2274',\n",
       "    u'subsysID': u'00000000',\n",
       "    u'vendorID': u'0x8086'}],\n",
       "  'environment/system/gfx/features': {u'compositor': u'basic',\n",
       "   u'd2d': {u'status': u'blacklisted', u'version': u'1.1'},\n",
       "   u'd3d11': {u'status': u'failed'}},\n",
       "  'environment/system/os/name': u'Windows_NT',\n",
       "  'environment/system/os/servicePackMajor': 1,\n",
       "  'environment/system/os/servicePackMinor': 0,\n",
       "  'environment/system/os/version': u'6.1',\n",
       "  'features': {u'compositor': u'basic',\n",
       "   u'd2d': {u'status': u'blacklisted', u'version': u'1.1'},\n",
       "   u'd3d11': {u'status': u'failed'}},\n",
       "  'gen': u'gen6',\n",
       "  'payload/keyedHistograms/CANVAS_WEBGL_FAILURE_ID': {u'FEATURE_FAILURE_EGL_LIB_INIT': 2L}},\n",
       " {'adapter': {u'GPUActive': True,\n",
       "   u'description': u'Intel(R) HD Graphics Family',\n",
       "   u'deviceID': u'0x0116',\n",
       "   u'driver': u'igdumd64 igd10umd64 igd10umd64 igdumdx32 igd10umd32 igd10umd32',\n",
       "   u'driverDate': u'8-17-2011',\n",
       "   u'driverVersion': u'8.882.2.0',\n",
       "   u'subsysID': u'1670103c',\n",
       "   u'vendorID': u'0x8086'},\n",
       "  'application/buildId': u'20160625004039',\n",
       "  'clientId': u'90eeb93b-2b99-49cd-9a2e-d69baddb1a2a',\n",
       "  'driverVersion': [8, 882, 2, 0],\n",
       "  'environment/build/version': u'49.0a2',\n",
       "  'environment/system/gfx/adapters': [{u'GPUActive': True,\n",
       "    u'description': u'Intel(R) HD Graphics Family',\n",
       "    u'deviceID': u'0x0116',\n",
       "    u'driver': u'igdumd64 igd10umd64 igd10umd64 igdumdx32 igd10umd32 igd10umd32',\n",
       "    u'driverDate': u'8-17-2011',\n",
       "    u'driverVersion': u'8.882.2.0',\n",
       "    u'subsysID': u'1670103c',\n",
       "    u'vendorID': u'0x8086'}],\n",
       "  'environment/system/gfx/features': {u'compositor': u'd3d9',\n",
       "   u'd2d': {u'status': u'unavailable', u'version': u'1.1'},\n",
       "   u'd3d11': {u'status': u'blacklisted'}},\n",
       "  'environment/system/os/name': u'Windows_NT',\n",
       "  'environment/system/os/servicePackMajor': 0,\n",
       "  'environment/system/os/servicePackMinor': 0,\n",
       "  'environment/system/os/version': u'6.1',\n",
       "  'features': {u'compositor': u'd3d9',\n",
       "   u'd2d': {u'status': u'unavailable', u'version': u'1.1'},\n",
       "   u'd3d11': {u'status': u'blacklisted'}},\n",
       "  'gen': u'gen6',\n",
       "  'payload/keyedHistograms/CANVAS_WEBGL_FAILURE_ID': {u'FEATURE_FAILURE_EGL_OFFSCREEN': 2L}}]"
      ]
     },
     "execution_count": 27,
     "metadata": {},
     "output_type": "execute_result"
    }
   ],
   "source": [
    "recent_intel = win7_intel_pings.filter(lambda p: p['gen'] in ('gen6','gen7') and not 'vga' in p['adapter']['driver'])\n",
    "\n",
    "recent_intel.take(4)"
   ]
  },
  {
   "cell_type": "code",
   "execution_count": 19,
   "metadata": {
    "collapsed": false
   },
   "outputs": [
    {
     "data": {
      "text/plain": [
       "defaultdict(int, {u'FEATURE_FAILURE_EGL_LIB_INIT': 154})"
      ]
     },
     "execution_count": 19,
     "metadata": {},
     "output_type": "execute_result"
    }
   ],
   "source": [
    "xp_pings = fail_pings.filter(lambda p: float(p['environment/system/os/version']) == 5.1)\n",
    "xp_pings.map(lambda p: (p['payload/keyedHistograms/CANVAS_WEBGL_FAILURE_ID'].keys()[0],)).countByKey()"
   ]
  },
  {
   "cell_type": "code",
   "execution_count": 20,
   "metadata": {
    "collapsed": false
   },
   "outputs": [
    {
     "data": {
      "text/plain": [
       "defaultdict(int,\n",
       "            {u'0x0000': 19,\n",
       "             u'0x1002': 21,\n",
       "             u'0x1039': 4,\n",
       "             u'0x10de': 10,\n",
       "             u'0x1106': 1,\n",
       "             u'0x5333': 1,\n",
       "             u'0x8086': 98})"
      ]
     },
     "execution_count": 20,
     "metadata": {},
     "output_type": "execute_result"
    }
   ],
   "source": [
    "xp_pings.map(lambda p: (p['adapter']['vendorID'],)).countByKey()"
   ]
  },
  {
   "cell_type": "code",
   "execution_count": 53,
   "metadata": {
    "collapsed": false
   },
   "outputs": [
    {
     "data": {
      "text/plain": [
       "defaultdict(int, {u'0x1002': 5, u'0x10de': 6, u'0x8086': 16})"
      ]
     },
     "execution_count": 53,
     "metadata": {},
     "output_type": "execute_result"
    }
   ],
   "source": [
    "not_vga_pings.map(lambda p: (p['adapter']['vendorID'],)).countByKey()"
   ]
  },
  {
   "cell_type": "code",
   "execution_count": 21,
   "metadata": {
    "collapsed": false
   },
   "outputs": [
    {
     "data": {
      "text/plain": [
       "defaultdict(int, {u'gen2': 11, u'gen3': 67, u'gen4': 19, u'powervr': 1})"
      ]
     },
     "execution_count": 21,
     "metadata": {},
     "output_type": "execute_result"
    }
   ],
   "source": [
    "xp_intel_pings = xp_pings.filter(lambda p: p['adapter']['vendorID'] == '0x8086')\n",
    "def do_gen(p):\n",
    "    p['gen'] = devices[int(p['adapter']['deviceID'],16)]\n",
    "    return p\n",
    "    \n",
    "xp_intel_pings = xp_intel_pings.map(do_gen)\n",
    "xp_intel_pings.map(lambda p: (p['gen'],)).countByKey()"
   ]
  },
  {
   "cell_type": "code",
   "execution_count": 22,
   "metadata": {
    "collapsed": false
   },
   "outputs": [
    {
     "data": {
      "text/plain": [
       "defaultdict(int,\n",
       "            {u'gen2': 11,\n",
       "             u'gen3': 88,\n",
       "             u'gen4': 21,\n",
       "             u'gen6': 2,\n",
       "             u'gen7': 2,\n",
       "             u'powervr': 1})"
      ]
     },
     "execution_count": 22,
     "metadata": {},
     "output_type": "execute_result"
    }
   ],
   "source": [
    "intel_pings = not_vga_pings.filter(lambda p: p['adapter']['vendorID'] == '0x8086')\n",
    "nv_pings = not_vga_pings.filter(lambda p: p['adapter']['vendorID'] == '0x10de')\n",
    "def do_gen(p):\n",
    "    p['gen'] = devices[int(p['adapter']['deviceID'],16)]\n",
    "    return p\n",
    "    \n",
    "intel_pings = intel_pings.map(do_gen)\n",
    "intel_pings.map(lambda p: (p['gen'],)).countByKey()"
   ]
  },
  {
   "cell_type": "code",
   "execution_count": 42,
   "metadata": {
    "collapsed": false
   },
   "outputs": [
    {
     "data": {
      "text/plain": [
       "[{'adapter': {u'GPUActive': True,\n",
       "   u'RAM': 4095,\n",
       "   u'description': u'NVIDIA GeForce GTX 970',\n",
       "   u'deviceID': u'0x13c2',\n",
       "   u'driver': u'nvd3dumx,nvwgf2umx,nvwgf2umx,nvwgf2umx nvd3dum,nvwgf2um,nvwgf2um,nvwgf2um',\n",
       "   u'driverDate': u'4-27-2016',\n",
       "   u'driverVersion': u'10.18.13.6510',\n",
       "   u'subsysID': u'39753842',\n",
       "   u'vendorID': u'0x10de'},\n",
       "  'clientId': u'5a171441-eeba-4e82-a356-50120314b974',\n",
       "  'driverVersion': [10, 18, 13, 6510],\n",
       "  'environment/build/version': u'49.0a1',\n",
       "  'environment/system/gfx/adapters': [{u'GPUActive': True,\n",
       "    u'RAM': 4095,\n",
       "    u'description': u'NVIDIA GeForce GTX 970',\n",
       "    u'deviceID': u'0x13c2',\n",
       "    u'driver': u'nvd3dumx,nvwgf2umx,nvwgf2umx,nvwgf2umx nvd3dum,nvwgf2um,nvwgf2um,nvwgf2um',\n",
       "    u'driverDate': u'4-27-2016',\n",
       "    u'driverVersion': u'10.18.13.6510',\n",
       "    u'subsysID': u'39753842',\n",
       "    u'vendorID': u'0x10de'}],\n",
       "  'environment/system/gfx/features': {u'compositor': u'basic',\n",
       "   u'd2d': {u'failureId': u'OK', u'status': u'failed', u'version': u'1.1'},\n",
       "   u'd3d11': {u'failureId': u'OK', u'status': u'failed'},\n",
       "   u'opengl': {u'failureId': u'OK'},\n",
       "   u'webgl': {u'failureId': u'OK'}},\n",
       "  'environment/system/os/name': u'Windows_NT',\n",
       "  'environment/system/os/servicePackMajor': 0,\n",
       "  'environment/system/os/servicePackMinor': 0,\n",
       "  'environment/system/os/version': u'10.0',\n",
       "  'features': {u'compositor': u'basic',\n",
       "   u'd2d': {u'failureId': u'OK', u'status': u'failed', u'version': u'1.1'},\n",
       "   u'd3d11': {u'failureId': u'OK', u'status': u'failed'},\n",
       "   u'opengl': {u'failureId': u'OK'},\n",
       "   u'webgl': {u'failureId': u'OK'}},\n",
       "  'payload/keyedHistograms/CANVAS_WEBGL_FAILURE_ID': {u'FEATURE_FAILURE_WEBGL_ANGLE_INIT': 5L}},\n",
       " {'adapter': {u'GPUActive': True,\n",
       "   u'RAM': 2048,\n",
       "   u'description': u'NVIDIA GeForce GTX 750 Ti',\n",
       "   u'deviceID': u'0x1380',\n",
       "   u'driver': u'nvd3dumx,nvwgf2umx,nvwgf2umx nvd3dum,nvwgf2um,nvwgf2um',\n",
       "   u'driverDate': u'5-9-2016',\n",
       "   u'driverVersion': u'10.18.13.6519',\n",
       "   u'subsysID': u'36811458',\n",
       "   u'vendorID': u'0x10de'},\n",
       "  'clientId': u'24f911d7-b50d-413e-9808-20d45ade8599',\n",
       "  'driverVersion': [10, 18, 13, 6519],\n",
       "  'environment/build/version': u'49.0a1',\n",
       "  'environment/system/gfx/adapters': [{u'GPUActive': True,\n",
       "    u'RAM': 2048,\n",
       "    u'description': u'NVIDIA GeForce GTX 750 Ti',\n",
       "    u'deviceID': u'0x1380',\n",
       "    u'driver': u'nvd3dumx,nvwgf2umx,nvwgf2umx nvd3dum,nvwgf2um,nvwgf2um',\n",
       "    u'driverDate': u'5-9-2016',\n",
       "    u'driverVersion': u'10.18.13.6519',\n",
       "    u'subsysID': u'36811458',\n",
       "    u'vendorID': u'0x10de'}],\n",
       "  'environment/system/gfx/features': {u'compositor': u'd3d11',\n",
       "   u'd2d': {u'failureId': u'OK', u'status': u'available', u'version': u'1.1'},\n",
       "   u'd3d11': {u'blacklisted': False,\n",
       "    u'failureId': u'OK',\n",
       "    u'status': u'available',\n",
       "    u'textureSharing': True,\n",
       "    u'version': 45056,\n",
       "    u'warp': False},\n",
       "   u'opengl': {u'failureId': u'OK'},\n",
       "   u'webgl': {u'failureId': u'OK'}},\n",
       "  'environment/system/os/name': u'Windows_NT',\n",
       "  'environment/system/os/servicePackMajor': 1,\n",
       "  'environment/system/os/servicePackMinor': 0,\n",
       "  'environment/system/os/version': u'6.1',\n",
       "  'features': {u'compositor': u'd3d11',\n",
       "   u'd2d': {u'failureId': u'OK', u'status': u'available', u'version': u'1.1'},\n",
       "   u'd3d11': {u'blacklisted': False,\n",
       "    u'failureId': u'OK',\n",
       "    u'status': u'available',\n",
       "    u'textureSharing': True,\n",
       "    u'version': 45056,\n",
       "    u'warp': False},\n",
       "   u'opengl': {u'failureId': u'OK'},\n",
       "   u'webgl': {u'failureId': u'OK'}},\n",
       "  'payload/keyedHistograms/CANVAS_WEBGL_FAILURE_ID': {u'FEATURE_FAILURE_WEBGL_DISABLED': 1L}},\n",
       " {'adapter': {u'GPUActive': True,\n",
       "   u'description': u'NVIDIA GeForce 6100 nForce 405',\n",
       "   u'deviceID': u'0x03d1',\n",
       "   u'driver': u'nv4_disp',\n",
       "   u'driverDate': u'12-5-2007',\n",
       "   u'driverVersion': u'6.14.11.6921',\n",
       "   u'subsysID': u'73091462',\n",
       "   u'vendorID': u'0x10de'},\n",
       "  'clientId': u'59cc3cf4-2177-404a-9b78-b52126b45af3',\n",
       "  'driverVersion': [6, 14, 11, 6921],\n",
       "  'environment/build/version': u'49.0a1',\n",
       "  'environment/system/gfx/adapters': [{u'GPUActive': True,\n",
       "    u'description': u'NVIDIA GeForce 6100 nForce 405',\n",
       "    u'deviceID': u'0x03d1',\n",
       "    u'driver': u'nv4_disp',\n",
       "    u'driverDate': u'12-5-2007',\n",
       "    u'driverVersion': u'6.14.11.6921',\n",
       "    u'subsysID': u'73091462',\n",
       "    u'vendorID': u'0x10de'}],\n",
       "  'environment/system/gfx/features': {u'compositor': u'basic',\n",
       "   u'd2d': {u'failureId': u'FEATURE_FAILURE_NV_XP',\n",
       "    u'status': u'unavailable',\n",
       "    u'version': u'1.1'},\n",
       "   u'd3d11': {u'failureId': u'FEATURE_FAILURE_NV_XP',\n",
       "    u'status': u'blacklisted'},\n",
       "   u'opengl': {u'failureId': u'FEATURE_FAILURE_NV_XP'},\n",
       "   u'webgl': {u'failureId': u'FEATURE_FAILURE_NV_XP'}},\n",
       "  'environment/system/os/name': u'Windows_NT',\n",
       "  'environment/system/os/servicePackMajor': 3,\n",
       "  'environment/system/os/servicePackMinor': 0,\n",
       "  'environment/system/os/version': u'5.1',\n",
       "  'features': {u'compositor': u'basic',\n",
       "   u'd2d': {u'failureId': u'FEATURE_FAILURE_NV_XP',\n",
       "    u'status': u'unavailable',\n",
       "    u'version': u'1.1'},\n",
       "   u'd3d11': {u'failureId': u'FEATURE_FAILURE_NV_XP',\n",
       "    u'status': u'blacklisted'},\n",
       "   u'opengl': {u'failureId': u'FEATURE_FAILURE_NV_XP'},\n",
       "   u'webgl': {u'failureId': u'FEATURE_FAILURE_NV_XP'}},\n",
       "  'payload/keyedHistograms/CANVAS_WEBGL_FAILURE_ID': {u'FEATURE_FAILURE_WEBGL_ANGLE_INIT': 3L}},\n",
       " {'adapter': {u'GPUActive': True,\n",
       "   u'RAM': 3072,\n",
       "   u'description': u'NVIDIA GeForce GTX 780',\n",
       "   u'deviceID': u'0x1004',\n",
       "   u'driver': u'nvd3dumx,nvwgf2umx,nvwgf2umx,nvwgf2umx nvd3dum,nvwgf2um,nvwgf2um,nvwgf2um',\n",
       "   u'driverDate': u'11-13-2015',\n",
       "   u'driverVersion': u'10.18.13.5900',\n",
       "   u'subsysID': u'00000000',\n",
       "   u'vendorID': u'0x10de'},\n",
       "  'clientId': u'63c18648-7d05-4740-ae96-9e7c8ccb02e8',\n",
       "  'driverVersion': [10, 18, 13, 5900],\n",
       "  'environment/build/version': u'49.0a1',\n",
       "  'environment/system/gfx/adapters': [{u'GPUActive': True,\n",
       "    u'RAM': 3072,\n",
       "    u'description': u'NVIDIA GeForce GTX 780',\n",
       "    u'deviceID': u'0x1004',\n",
       "    u'driver': u'nvd3dumx,nvwgf2umx,nvwgf2umx,nvwgf2umx nvd3dum,nvwgf2um,nvwgf2um,nvwgf2um',\n",
       "    u'driverDate': u'11-13-2015',\n",
       "    u'driverVersion': u'10.18.13.5900',\n",
       "    u'subsysID': u'00000000',\n",
       "    u'vendorID': u'0x10de'}],\n",
       "  'environment/system/gfx/features': {u'compositor': u'd3d11',\n",
       "   u'd2d': {u'failureId': u'OK', u'status': u'disabled', u'version': u'1.1'},\n",
       "   u'd3d11': {u'blacklisted': False,\n",
       "    u'failureId': u'OK',\n",
       "    u'status': u'available',\n",
       "    u'textureSharing': True,\n",
       "    u'version': 45056,\n",
       "    u'warp': False},\n",
       "   u'opengl': {u'failureId': u'OK'},\n",
       "   u'webgl': {u'failureId': u'OK'}},\n",
       "  'environment/system/os/name': u'Windows_NT',\n",
       "  'environment/system/os/servicePackMajor': 0,\n",
       "  'environment/system/os/servicePackMinor': 0,\n",
       "  'environment/system/os/version': u'10.0',\n",
       "  'features': {u'compositor': u'd3d11',\n",
       "   u'd2d': {u'failureId': u'OK', u'status': u'disabled', u'version': u'1.1'},\n",
       "   u'd3d11': {u'blacklisted': False,\n",
       "    u'failureId': u'OK',\n",
       "    u'status': u'available',\n",
       "    u'textureSharing': True,\n",
       "    u'version': 45056,\n",
       "    u'warp': False},\n",
       "   u'opengl': {u'failureId': u'OK'},\n",
       "   u'webgl': {u'failureId': u'OK'}},\n",
       "  'payload/keyedHistograms/CANVAS_WEBGL_FAILURE_ID': {u'FEATURE_FAILURE_WEBGL_DISABLED': 2L}}]"
      ]
     },
     "execution_count": 42,
     "metadata": {},
     "output_type": "execute_result"
    }
   ],
   "source": [
    "nv_pings.take(4)"
   ]
  },
  {
   "cell_type": "code",
   "execution_count": 57,
   "metadata": {
    "collapsed": false
   },
   "outputs": [
    {
     "data": {
      "text/plain": [
       "[{'adapter': {u'GPUActive': True,\n",
       "   u'description': u'Mobile Intel(R) 4 Series Express Chipset Family',\n",
       "   u'deviceID': u'0x2a42',\n",
       "   u'driver': u'igxprd32',\n",
       "   u'driverDate': u'8-25-2008',\n",
       "   u'driverVersion': u'6.14.10.4980',\n",
       "   u'subsysID': u'024d1028',\n",
       "   u'vendorID': u'0x8086'},\n",
       "  'clientId': u'4b055f9c-aed1-4f50-88c8-cff8fc7d72e1',\n",
       "  'driverVersion': [6, 14, 10, 4980],\n",
       "  'environment/build/version': u'49.0a1',\n",
       "  'environment/system/gfx/adapters': [{u'GPUActive': True,\n",
       "    u'description': u'Mobile Intel(R) 4 Series Express Chipset Family',\n",
       "    u'deviceID': u'0x2a42',\n",
       "    u'driver': u'igxprd32',\n",
       "    u'driverDate': u'8-25-2008',\n",
       "    u'driverVersion': u'6.14.10.4980',\n",
       "    u'subsysID': u'024d1028',\n",
       "    u'vendorID': u'0x8086'}],\n",
       "  'environment/system/gfx/features': {u'compositor': u'basic',\n",
       "   u'd2d': {u'failureId': u'FEATURE_FAILURE_DL_BLACKLIST_g984',\n",
       "    u'status': u'unavailable',\n",
       "    u'version': u'1.1'},\n",
       "   u'd3d11': {u'failureId': u'FEATURE_FAILURE_BUG_1153381',\n",
       "    u'status': u'unavailable'},\n",
       "   u'opengl': {u'failureId': u'FEATURE_FAILURE_INTEL_OGL_DIS'},\n",
       "   u'webgl': {u'failureId': u'FEATURE_FAILURE_INTEL_WEBGL_DIS'}},\n",
       "  'environment/system/os/name': u'Windows_NT',\n",
       "  'environment/system/os/servicePackMajor': 3,\n",
       "  'environment/system/os/servicePackMinor': 0,\n",
       "  'environment/system/os/version': u'5.1',\n",
       "  'features': {u'compositor': u'basic',\n",
       "   u'd2d': {u'failureId': u'FEATURE_FAILURE_DL_BLACKLIST_g984',\n",
       "    u'status': u'unavailable',\n",
       "    u'version': u'1.1'},\n",
       "   u'd3d11': {u'failureId': u'FEATURE_FAILURE_BUG_1153381',\n",
       "    u'status': u'unavailable'},\n",
       "   u'opengl': {u'failureId': u'FEATURE_FAILURE_INTEL_OGL_DIS'},\n",
       "   u'webgl': {u'failureId': u'FEATURE_FAILURE_INTEL_WEBGL_DIS'}},\n",
       "  'gen': u'gen4',\n",
       "  'payload/keyedHistograms/CANVAS_WEBGL_FAILURE_ID': {u'FEATURE_FAILURE_WEBGL_ANGLE_INIT': 6L}},\n",
       " {'adapter': {u'GPUActive': True,\n",
       "   u'description': u'Intel(R)  946GZ Express Chipset Family',\n",
       "   u'deviceID': u'0x2972',\n",
       "   u'driver': u'igxprd32',\n",
       "   u'driverDate': u'12-12-2008',\n",
       "   u'driverVersion': u'6.14.10.5016',\n",
       "   u'subsysID': u'101517aa',\n",
       "   u'vendorID': u'0x8086'},\n",
       "  'clientId': u'07dd371f-ec15-49dd-9342-ad9dcedf2030',\n",
       "  'driverVersion': [6, 14, 10, 5016],\n",
       "  'environment/build/version': u'49.0a1',\n",
       "  'environment/system/gfx/adapters': [{u'GPUActive': True,\n",
       "    u'description': u'Intel(R)  946GZ Express Chipset Family',\n",
       "    u'deviceID': u'0x2972',\n",
       "    u'driver': u'igxprd32',\n",
       "    u'driverDate': u'12-12-2008',\n",
       "    u'driverVersion': u'6.14.10.5016',\n",
       "    u'subsysID': u'101517aa',\n",
       "    u'vendorID': u'0x8086'}],\n",
       "  'environment/system/gfx/features': {u'compositor': u'basic',\n",
       "   u'd2d': {u'failureId': u'FEATURE_FAILURE_DL_BLACKLIST_g984',\n",
       "    u'status': u'unavailable',\n",
       "    u'version': u'1.1'},\n",
       "   u'd3d11': {u'failureId': u'FEATURE_FAILURE_INTEL_5',\n",
       "    u'status': u'blacklisted'},\n",
       "   u'opengl': {u'failureId': u'FEATURE_FAILURE_INTEL_5'},\n",
       "   u'webgl': {u'failureId': u'FEATURE_FAILURE_INTEL_5'}},\n",
       "  'environment/system/os/name': u'Windows_NT',\n",
       "  'environment/system/os/servicePackMajor': 3,\n",
       "  'environment/system/os/servicePackMinor': 0,\n",
       "  'environment/system/os/version': u'5.1',\n",
       "  'features': {u'compositor': u'basic',\n",
       "   u'd2d': {u'failureId': u'FEATURE_FAILURE_DL_BLACKLIST_g984',\n",
       "    u'status': u'unavailable',\n",
       "    u'version': u'1.1'},\n",
       "   u'd3d11': {u'failureId': u'FEATURE_FAILURE_INTEL_5',\n",
       "    u'status': u'blacklisted'},\n",
       "   u'opengl': {u'failureId': u'FEATURE_FAILURE_INTEL_5'},\n",
       "   u'webgl': {u'failureId': u'FEATURE_FAILURE_INTEL_5'}},\n",
       "  'gen': u'gen4',\n",
       "  'payload/keyedHistograms/CANVAS_WEBGL_FAILURE_ID': {u'FEATURE_FAILURE_WEBGL_ANGLE_INIT': 12L}},\n",
       " {'adapter': {u'GPUActive': True,\n",
       "   u'description': u'Mobile Intel(R) 965 Express Chipset Family',\n",
       "   u'deviceID': u'0x2a02',\n",
       "   u'driver': u'igxprd32',\n",
       "   u'driverDate': u'6-12-2009',\n",
       "   u'driverVersion': u'6.14.10.5076',\n",
       "   u'subsysID': u'01f91028',\n",
       "   u'vendorID': u'0x8086'},\n",
       "  'clientId': u'318a1907-10bc-45f3-bd8e-b824f94d2369',\n",
       "  'driverVersion': [6, 14, 10, 5076],\n",
       "  'environment/build/version': u'49.0a1',\n",
       "  'environment/system/gfx/adapters': [{u'GPUActive': True,\n",
       "    u'description': u'Mobile Intel(R) 965 Express Chipset Family',\n",
       "    u'deviceID': u'0x2a02',\n",
       "    u'driver': u'igxprd32',\n",
       "    u'driverDate': u'6-12-2009',\n",
       "    u'driverVersion': u'6.14.10.5076',\n",
       "    u'subsysID': u'01f91028',\n",
       "    u'vendorID': u'0x8086'}],\n",
       "  'environment/system/gfx/features': {u'compositor': u'basic',\n",
       "   u'd2d': {u'failureId': u'FEATURE_FAILURE_BLACKLIST_PREF',\n",
       "    u'status': u'unavailable',\n",
       "    u'version': u'1.1'},\n",
       "   u'd3d11': {u'failureId': u'FEATURE_FAILURE_INTEL_5',\n",
       "    u'status': u'blacklisted'},\n",
       "   u'opengl': {u'failureId': u'FEATURE_FAILURE_BLACKLIST_PREF'},\n",
       "   u'webgl': {u'failureId': u'FEATURE_FAILURE_BLACKLIST_PREF'}},\n",
       "  'environment/system/os/name': u'Windows_NT',\n",
       "  'environment/system/os/servicePackMajor': 3,\n",
       "  'environment/system/os/servicePackMinor': 0,\n",
       "  'environment/system/os/version': u'5.1',\n",
       "  'features': {u'compositor': u'basic',\n",
       "   u'd2d': {u'failureId': u'FEATURE_FAILURE_BLACKLIST_PREF',\n",
       "    u'status': u'unavailable',\n",
       "    u'version': u'1.1'},\n",
       "   u'd3d11': {u'failureId': u'FEATURE_FAILURE_INTEL_5',\n",
       "    u'status': u'blacklisted'},\n",
       "   u'opengl': {u'failureId': u'FEATURE_FAILURE_BLACKLIST_PREF'},\n",
       "   u'webgl': {u'failureId': u'FEATURE_FAILURE_BLACKLIST_PREF'}},\n",
       "  'gen': u'gen4',\n",
       "  'payload/keyedHistograms/CANVAS_WEBGL_FAILURE_ID': {u'FEATURE_FAILURE_WEBGL_ANGLE_INIT': 2L}}]"
      ]
     },
     "execution_count": 57,
     "metadata": {},
     "output_type": "execute_result"
    }
   ],
   "source": [
    "intel_pings.filter(lambda p: p['gen'] == 'gen4').take(5)"
   ]
  },
  {
   "cell_type": "code",
   "execution_count": null,
   "metadata": {
    "collapsed": true
   },
   "outputs": [],
   "source": [
    "def webgl_fail(p):\n",
    "    if p['payload/histograms/CANVAS_WEBGL_FAILURE_ID']['SUCCESS'] == 0:\n",
    "        return True\n",
    "\n",
    "     #   return True\n",
    "    return False\n",
    "fail_pings = interesting_pings.filter(webgl_fail)\n",
    "\n",
    "def vga_fail(p):\n",
    "    if 'vga' in p['adapter']['driver']:\n",
    "        return True\n",
    "\n",
    "\n",
    "     #   return True\n",
    "    return False\n",
    "vga_pings = fail_pings.filter(vga_fail)\n",
    "\n",
    "def not_vga_fail(p):\n",
    "    if 'vga' in p['adapter']['driver']:\n",
    "        return False\n",
    "     #   return True\n",
    "    return True\n",
    "not_vga_pings = fail_pings.filter(not_vga_fail)\n",
    "\n",
    "\n",
    "amd1_pings = fail_pings.filter(lambda p: p['features']['webgl']['failureId'] == 'FEATURE_FAILURE_AMD1')\n",
    "\n",
    "\n",
    "\n",
    "#TDRResults = sample_result_1.map(lambda p: p[DeviceResetReasonKey]).reduce(lambda x, y: x + y)\n",
    "#help(pd.Series(TDRResults.values, DeviceResetReason))\n",
    "#print(pd.Series(TDRResults.values[1:8],DeviceResetReason))\n",
    "#pd.Series(TDRResults.values[1:8],DeviceResetReason).plot.bar()\n",
    "#reduce(lambda x, y: sample_result_1.take(2))\n",
    "#sample_result_1.take(1)[0]['payload/histograms/DEVICE_RESET_REASON'])\n",
    "#fail_pings.take(1)\n",
    "def match_count(a, b):\n",
    "    print('{0} out of {1} sessions matched. ({2:.2f}%)'.format(\n",
    "        a.count(),\n",
    "        b.count(),\n",
    "       ((a.count() / b.count()) * 100)))\n",
    "\n",
    "\n",
    "\n",
    "def map_x_to_count(data, sourceKey):\n",
    "    def extract(p):\n",
    "        return (p['adapter'][sourceKey],)\n",
    "    return data.map(extract).countByKey()    \n",
    "match_count(interesting_pings, pings)    \n",
    "match_count(fail_pings, interesting_pings)\n",
    "match_count(vga_pings, fail_pings)\n",
    "match_count(not_vga_pings, fail_pings)\n",
    "match_count(amd1_pings, fail_pings)\n",
    "#map_x_to_count(not_vga_pings, 'driverVersion')\n",
    "#not_vga_pings.take(5)\n",
    "\n",
    "#fail_pings.map(lambda p: (p['features']['webgl']['failureId'],)).countByKey()\n",
    "#amd1_pings.take(23)\n",
    "amd1_pings.map(lambda p: (p['adapter']['driverVersion'],)).countByKey()"
   ]
  },
  {
   "cell_type": "code",
   "execution_count": null,
   "metadata": {
    "collapsed": true
   },
   "outputs": [],
   "source": []
  },
  {
   "cell_type": "code",
   "execution_count": null,
   "metadata": {
    "collapsed": true
   },
   "outputs": [],
   "source": []
  },
  {
   "cell_type": "code",
   "execution_count": null,
   "metadata": {
    "collapsed": true
   },
   "outputs": [],
   "source": []
  },
  {
   "cell_type": "code",
   "execution_count": null,
   "metadata": {
    "collapsed": true
   },
   "outputs": [],
   "source": []
  }
 ],
 "metadata": {
  "kernelspec": {
   "display_name": "Python 2",
   "language": "python",
   "name": "python2"
  },
  "language_info": {
   "codemirror_mode": {
    "name": "ipython",
    "version": 2
   },
   "file_extension": ".py",
   "mimetype": "text/x-python",
   "name": "python",
   "nbconvert_exporter": "python",
   "pygments_lexer": "ipython2",
   "version": "2.7.11"
  },
  "widgets": {
   "state": {},
   "version": "1.1.2"
  }
 },
 "nbformat": 4,
 "nbformat_minor": 0
}
